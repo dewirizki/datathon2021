{
  "nbformat": 4,
  "nbformat_minor": 0,
  "metadata": {
    "colab": {
      "name": "Datathon",
      "provenance": [],
      "collapsed_sections": [],
      "include_colab_link": true
    },
    "kernelspec": {
      "name": "python3",
      "display_name": "Python 3"
    },
    "language_info": {
      "name": "python"
    }
  },
  "cells": [
    {
      "cell_type": "markdown",
      "metadata": {
        "id": "view-in-github",
        "colab_type": "text"
      },
      "source": [
        "<a href=\"https://colab.research.google.com/github/dewirizki/datathon2021/blob/main/Datathon.ipynb\" target=\"_parent\"><img src=\"https://colab.research.google.com/assets/colab-badge.svg\" alt=\"Open In Colab\"/></a>"
      ]
    },
    {
      "cell_type": "code",
      "metadata": {
        "colab": {
          "base_uri": "https://localhost:8080/"
        },
        "id": "IG2XHghUfYQH",
        "outputId": "d5c31227-abf0-4008-8f79-449e7e018dfd"
      },
      "source": [
        "!pip install --upgrade umap-learn\n",
        "!wget https://raw.githubusercontent.com/taudata-indonesia/eLearning/master/tau_unsup.py"
      ],
      "execution_count": 2,
      "outputs": [
        {
          "output_type": "stream",
          "text": [
            "Collecting umap-learn\n",
            "  Downloading umap-learn-0.5.1.tar.gz (80 kB)\n",
            "\u001b[?25l\r\u001b[K     |████                            | 10 kB 20.1 MB/s eta 0:00:01\r\u001b[K     |████████                        | 20 kB 12.7 MB/s eta 0:00:01\r\u001b[K     |████████████▏                   | 30 kB 7.2 MB/s eta 0:00:01\r\u001b[K     |████████████████▏               | 40 kB 3.7 MB/s eta 0:00:01\r\u001b[K     |████████████████████▎           | 51 kB 4.1 MB/s eta 0:00:01\r\u001b[K     |████████████████████████▎       | 61 kB 4.1 MB/s eta 0:00:01\r\u001b[K     |████████████████████████████▍   | 71 kB 4.4 MB/s eta 0:00:01\r\u001b[K     |████████████████████████████████| 80 kB 3.4 MB/s \n",
            "\u001b[?25hRequirement already satisfied: numpy>=1.17 in /usr/local/lib/python3.7/dist-packages (from umap-learn) (1.19.5)\n",
            "Requirement already satisfied: scikit-learn>=0.22 in /usr/local/lib/python3.7/dist-packages (from umap-learn) (0.22.2.post1)\n",
            "Requirement already satisfied: scipy>=1.0 in /usr/local/lib/python3.7/dist-packages (from umap-learn) (1.4.1)\n",
            "Requirement already satisfied: numba>=0.49 in /usr/local/lib/python3.7/dist-packages (from umap-learn) (0.51.2)\n",
            "Collecting pynndescent>=0.5\n",
            "  Downloading pynndescent-0.5.4.tar.gz (1.1 MB)\n",
            "\u001b[K     |████████████████████████████████| 1.1 MB 27.4 MB/s \n",
            "\u001b[?25hRequirement already satisfied: setuptools in /usr/local/lib/python3.7/dist-packages (from numba>=0.49->umap-learn) (57.4.0)\n",
            "Requirement already satisfied: llvmlite<0.35,>=0.34.0.dev0 in /usr/local/lib/python3.7/dist-packages (from numba>=0.49->umap-learn) (0.34.0)\n",
            "Requirement already satisfied: joblib>=0.11 in /usr/local/lib/python3.7/dist-packages (from pynndescent>=0.5->umap-learn) (1.0.1)\n",
            "Building wheels for collected packages: umap-learn, pynndescent\n",
            "  Building wheel for umap-learn (setup.py) ... \u001b[?25l\u001b[?25hdone\n",
            "  Created wheel for umap-learn: filename=umap_learn-0.5.1-py3-none-any.whl size=76564 sha256=a42565330e9604047657fac4ae1c8d1cad9f29eeddd59a9fcdbd5babd5a511d2\n",
            "  Stored in directory: /root/.cache/pip/wheels/01/e7/bb/347dc0e510803d7116a13d592b10cc68262da56a8eec4dd72f\n",
            "  Building wheel for pynndescent (setup.py) ... \u001b[?25l\u001b[?25hdone\n",
            "  Created wheel for pynndescent: filename=pynndescent-0.5.4-py3-none-any.whl size=52373 sha256=77f68dea31f733628e185fe0e86a34e66c15d34ad248dae4637320b65461f936\n",
            "  Stored in directory: /root/.cache/pip/wheels/d0/5b/62/3401692ddad12324249c774c4b15ccb046946021e2b581c043\n",
            "Successfully built umap-learn pynndescent\n",
            "Installing collected packages: pynndescent, umap-learn\n",
            "Successfully installed pynndescent-0.5.4 umap-learn-0.5.1\n",
            "--2021-08-17 05:56:10--  https://raw.githubusercontent.com/taudata-indonesia/eLearning/master/tau_unsup.py\n",
            "Resolving raw.githubusercontent.com (raw.githubusercontent.com)... 185.199.110.133, 185.199.111.133, 185.199.108.133, ...\n",
            "Connecting to raw.githubusercontent.com (raw.githubusercontent.com)|185.199.110.133|:443... connected.\n",
            "HTTP request sent, awaiting response... 200 OK\n",
            "Length: 17387 (17K) [text/plain]\n",
            "Saving to: ‘tau_unsup.py’\n",
            "\n",
            "tau_unsup.py        100%[===================>]  16.98K  --.-KB/s    in 0.001s  \n",
            "\n",
            "2021-08-17 05:56:10 (13.3 MB/s) - ‘tau_unsup.py’ saved [17387/17387]\n",
            "\n"
          ],
          "name": "stdout"
        }
      ]
    },
    {
      "cell_type": "code",
      "metadata": {
        "id": "TWylJyn9L6uG"
      },
      "source": [
        "import pandas as pd\n",
        "import scipy, itertools, pandas as pd, matplotlib.pyplot as plt, seaborn as sns, numpy as np, tau_unsup as tau\n",
        "import plotly.express as px"
      ],
      "execution_count": 3,
      "outputs": []
    },
    {
      "cell_type": "markdown",
      "metadata": {
        "id": "jtXGeWeF5hqp"
      },
      "source": [
        "# Meload Dataset"
      ]
    },
    {
      "cell_type": "code",
      "metadata": {
        "id": "4EYqQRLjFKK-",
        "colab": {
          "base_uri": "https://localhost:8080/"
        },
        "outputId": "400e728d-9945-4a84-b5c9-b7011ff524c4"
      },
      "source": [
        "#Import Data\n",
        "!mkdir data\n",
        "!wget -P data/ https://raw.githubusercontent.com/malinaafemi/datathon2021/main/Data%20Vaksinasi%20dan%20Jumlah%20Penduduk%20Indonesia.csv"
      ],
      "execution_count": 4,
      "outputs": [
        {
          "output_type": "stream",
          "text": [
            "--2021-08-17 05:56:13--  https://raw.githubusercontent.com/malinaafemi/datathon2021/main/Data%20Vaksinasi%20dan%20Jumlah%20Penduduk%20Indonesia.csv\n",
            "Resolving raw.githubusercontent.com (raw.githubusercontent.com)... 185.199.110.133, 185.199.111.133, 185.199.108.133, ...\n",
            "Connecting to raw.githubusercontent.com (raw.githubusercontent.com)|185.199.110.133|:443... connected.\n",
            "HTTP request sent, awaiting response... 200 OK\n",
            "Length: 51364 (50K) [text/plain]\n",
            "Saving to: ‘data/Data Vaksinasi dan Jumlah Penduduk Indonesia.csv’\n",
            "\n",
            "Data Vaksinasi dan  100%[===================>]  50.16K  --.-KB/s    in 0.01s   \n",
            "\n",
            "2021-08-17 05:56:13 (3.96 MB/s) - ‘data/Data Vaksinasi dan Jumlah Penduduk Indonesia.csv’ saved [51364/51364]\n",
            "\n"
          ],
          "name": "stdout"
        }
      ]
    },
    {
      "cell_type": "markdown",
      "metadata": {
        "id": "3M7MT2QT5pbZ"
      },
      "source": [
        "## Dibuat menjadi dataframe"
      ]
    },
    {
      "cell_type": "code",
      "metadata": {
        "id": "5ljfKNpmK7dz"
      },
      "source": [
        "data = pd.read_csv(\"/content/data/Data Vaksinasi dan Jumlah Penduduk Indonesia.csv\")"
      ],
      "execution_count": 5,
      "outputs": []
    },
    {
      "cell_type": "code",
      "metadata": {
        "id": "N3ICUN1eMA07",
        "colab": {
          "base_uri": "https://localhost:8080/",
          "height": 424
        },
        "outputId": "295bdd4b-15d6-4a10-c361-43bc37eb16f0"
      },
      "source": [
        "data"
      ],
      "execution_count": 6,
      "outputs": [
        {
          "output_type": "execute_result",
          "data": {
            "text/html": [
              "<div>\n",
              "<style scoped>\n",
              "    .dataframe tbody tr th:only-of-type {\n",
              "        vertical-align: middle;\n",
              "    }\n",
              "\n",
              "    .dataframe tbody tr th {\n",
              "        vertical-align: top;\n",
              "    }\n",
              "\n",
              "    .dataframe thead th {\n",
              "        text-align: right;\n",
              "    }\n",
              "</style>\n",
              "<table border=\"1\" class=\"dataframe\">\n",
              "  <thead>\n",
              "    <tr style=\"text-align: right;\">\n",
              "      <th></th>\n",
              "      <th>Tanggal</th>\n",
              "      <th>Kota</th>\n",
              "      <th>Tingkat Vaksinasi</th>\n",
              "      <th>Dalam atau Luar Jawa Bali</th>\n",
              "      <th>Jumlah Penduduk</th>\n",
              "      <th>Luas Daerah</th>\n",
              "    </tr>\n",
              "  </thead>\n",
              "  <tbody>\n",
              "    <tr>\n",
              "      <th>0</th>\n",
              "      <td>07/05/2021</td>\n",
              "      <td>Jakarta</td>\n",
              "      <td>22.70%</td>\n",
              "      <td>0</td>\n",
              "      <td>10562088</td>\n",
              "      <td>664.01</td>\n",
              "    </tr>\n",
              "    <tr>\n",
              "      <th>1</th>\n",
              "      <td>07/06/2021</td>\n",
              "      <td>Jakarta</td>\n",
              "      <td>22.73%</td>\n",
              "      <td>0</td>\n",
              "      <td>10562088</td>\n",
              "      <td>664.01</td>\n",
              "    </tr>\n",
              "    <tr>\n",
              "      <th>2</th>\n",
              "      <td>07/07/2021</td>\n",
              "      <td>Jakarta</td>\n",
              "      <td>22.76%</td>\n",
              "      <td>0</td>\n",
              "      <td>10562088</td>\n",
              "      <td>664.01</td>\n",
              "    </tr>\n",
              "    <tr>\n",
              "      <th>3</th>\n",
              "      <td>07/08/2021</td>\n",
              "      <td>Jakarta</td>\n",
              "      <td>22.80%</td>\n",
              "      <td>0</td>\n",
              "      <td>10562088</td>\n",
              "      <td>664.01</td>\n",
              "    </tr>\n",
              "    <tr>\n",
              "      <th>4</th>\n",
              "      <td>07/09/2021</td>\n",
              "      <td>Jakarta</td>\n",
              "      <td>22.83%</td>\n",
              "      <td>0</td>\n",
              "      <td>10562088</td>\n",
              "      <td>664.01</td>\n",
              "    </tr>\n",
              "    <tr>\n",
              "      <th>...</th>\n",
              "      <td>...</td>\n",
              "      <td>...</td>\n",
              "      <td>...</td>\n",
              "      <td>...</td>\n",
              "      <td>...</td>\n",
              "      <td>...</td>\n",
              "    </tr>\n",
              "    <tr>\n",
              "      <th>1051</th>\n",
              "      <td>08/01/2021</td>\n",
              "      <td>Lampung</td>\n",
              "      <td>5.69%</td>\n",
              "      <td>1</td>\n",
              "      <td>9007848</td>\n",
              "      <td>34623.80</td>\n",
              "    </tr>\n",
              "    <tr>\n",
              "      <th>1052</th>\n",
              "      <td>08/02/2021</td>\n",
              "      <td>Lampung</td>\n",
              "      <td>5.83%</td>\n",
              "      <td>1</td>\n",
              "      <td>9007848</td>\n",
              "      <td>34623.80</td>\n",
              "    </tr>\n",
              "    <tr>\n",
              "      <th>1053</th>\n",
              "      <td>08/03/2021</td>\n",
              "      <td>Lampung</td>\n",
              "      <td>5.90%</td>\n",
              "      <td>1</td>\n",
              "      <td>9007848</td>\n",
              "      <td>34623.80</td>\n",
              "    </tr>\n",
              "    <tr>\n",
              "      <th>1054</th>\n",
              "      <td>08/04/2021</td>\n",
              "      <td>Lampung</td>\n",
              "      <td>6.00%</td>\n",
              "      <td>1</td>\n",
              "      <td>9007848</td>\n",
              "      <td>34623.80</td>\n",
              "    </tr>\n",
              "    <tr>\n",
              "      <th>1055</th>\n",
              "      <td>08/05/2021</td>\n",
              "      <td>Lampung</td>\n",
              "      <td>6.12%</td>\n",
              "      <td>1</td>\n",
              "      <td>9007848</td>\n",
              "      <td>34623.80</td>\n",
              "    </tr>\n",
              "  </tbody>\n",
              "</table>\n",
              "<p>1056 rows × 6 columns</p>\n",
              "</div>"
            ],
            "text/plain": [
              "         Tanggal     Kota  ... Jumlah Penduduk  Luas Daerah\n",
              "0     07/05/2021  Jakarta  ...        10562088       664.01\n",
              "1     07/06/2021  Jakarta  ...        10562088       664.01\n",
              "2     07/07/2021  Jakarta  ...        10562088       664.01\n",
              "3     07/08/2021  Jakarta  ...        10562088       664.01\n",
              "4     07/09/2021  Jakarta  ...        10562088       664.01\n",
              "...          ...      ...  ...             ...          ...\n",
              "1051  08/01/2021  Lampung  ...         9007848     34623.80\n",
              "1052  08/02/2021  Lampung  ...         9007848     34623.80\n",
              "1053  08/03/2021  Lampung  ...         9007848     34623.80\n",
              "1054  08/04/2021  Lampung  ...         9007848     34623.80\n",
              "1055  08/05/2021  Lampung  ...         9007848     34623.80\n",
              "\n",
              "[1056 rows x 6 columns]"
            ]
          },
          "metadata": {
            "tags": []
          },
          "execution_count": 6
        }
      ]
    },
    {
      "cell_type": "code",
      "metadata": {
        "colab": {
          "base_uri": "https://localhost:8080/",
          "height": 362
        },
        "id": "LTCurCfWOX5h",
        "outputId": "3f9da7ac-2df8-4186-c83c-17ad40f27068"
      },
      "source": [
        "data.head(10)"
      ],
      "execution_count": 7,
      "outputs": [
        {
          "output_type": "execute_result",
          "data": {
            "text/html": [
              "<div>\n",
              "<style scoped>\n",
              "    .dataframe tbody tr th:only-of-type {\n",
              "        vertical-align: middle;\n",
              "    }\n",
              "\n",
              "    .dataframe tbody tr th {\n",
              "        vertical-align: top;\n",
              "    }\n",
              "\n",
              "    .dataframe thead th {\n",
              "        text-align: right;\n",
              "    }\n",
              "</style>\n",
              "<table border=\"1\" class=\"dataframe\">\n",
              "  <thead>\n",
              "    <tr style=\"text-align: right;\">\n",
              "      <th></th>\n",
              "      <th>Tanggal</th>\n",
              "      <th>Kota</th>\n",
              "      <th>Tingkat Vaksinasi</th>\n",
              "      <th>Dalam atau Luar Jawa Bali</th>\n",
              "      <th>Jumlah Penduduk</th>\n",
              "      <th>Luas Daerah</th>\n",
              "    </tr>\n",
              "  </thead>\n",
              "  <tbody>\n",
              "    <tr>\n",
              "      <th>0</th>\n",
              "      <td>07/05/2021</td>\n",
              "      <td>Jakarta</td>\n",
              "      <td>22.70%</td>\n",
              "      <td>0</td>\n",
              "      <td>10562088</td>\n",
              "      <td>664.01</td>\n",
              "    </tr>\n",
              "    <tr>\n",
              "      <th>1</th>\n",
              "      <td>07/06/2021</td>\n",
              "      <td>Jakarta</td>\n",
              "      <td>22.73%</td>\n",
              "      <td>0</td>\n",
              "      <td>10562088</td>\n",
              "      <td>664.01</td>\n",
              "    </tr>\n",
              "    <tr>\n",
              "      <th>2</th>\n",
              "      <td>07/07/2021</td>\n",
              "      <td>Jakarta</td>\n",
              "      <td>22.76%</td>\n",
              "      <td>0</td>\n",
              "      <td>10562088</td>\n",
              "      <td>664.01</td>\n",
              "    </tr>\n",
              "    <tr>\n",
              "      <th>3</th>\n",
              "      <td>07/08/2021</td>\n",
              "      <td>Jakarta</td>\n",
              "      <td>22.80%</td>\n",
              "      <td>0</td>\n",
              "      <td>10562088</td>\n",
              "      <td>664.01</td>\n",
              "    </tr>\n",
              "    <tr>\n",
              "      <th>4</th>\n",
              "      <td>07/09/2021</td>\n",
              "      <td>Jakarta</td>\n",
              "      <td>22.83%</td>\n",
              "      <td>0</td>\n",
              "      <td>10562088</td>\n",
              "      <td>664.01</td>\n",
              "    </tr>\n",
              "    <tr>\n",
              "      <th>5</th>\n",
              "      <td>07/10/2021</td>\n",
              "      <td>Jakarta</td>\n",
              "      <td>22.84%</td>\n",
              "      <td>0</td>\n",
              "      <td>10562088</td>\n",
              "      <td>664.01</td>\n",
              "    </tr>\n",
              "    <tr>\n",
              "      <th>6</th>\n",
              "      <td>07/11/2021</td>\n",
              "      <td>Jakarta</td>\n",
              "      <td>22.85%</td>\n",
              "      <td>0</td>\n",
              "      <td>10562088</td>\n",
              "      <td>664.01</td>\n",
              "    </tr>\n",
              "    <tr>\n",
              "      <th>7</th>\n",
              "      <td>07/12/2021</td>\n",
              "      <td>Jakarta</td>\n",
              "      <td>22.89%</td>\n",
              "      <td>0</td>\n",
              "      <td>10562088</td>\n",
              "      <td>664.01</td>\n",
              "    </tr>\n",
              "    <tr>\n",
              "      <th>8</th>\n",
              "      <td>07/13/2021</td>\n",
              "      <td>Jakarta</td>\n",
              "      <td>22.93%</td>\n",
              "      <td>0</td>\n",
              "      <td>10562088</td>\n",
              "      <td>664.01</td>\n",
              "    </tr>\n",
              "    <tr>\n",
              "      <th>9</th>\n",
              "      <td>07/14/2021</td>\n",
              "      <td>Jakarta</td>\n",
              "      <td>22.97%</td>\n",
              "      <td>0</td>\n",
              "      <td>10562088</td>\n",
              "      <td>664.01</td>\n",
              "    </tr>\n",
              "  </tbody>\n",
              "</table>\n",
              "</div>"
            ],
            "text/plain": [
              "      Tanggal     Kota  ... Jumlah Penduduk  Luas Daerah\n",
              "0  07/05/2021  Jakarta  ...        10562088       664.01\n",
              "1  07/06/2021  Jakarta  ...        10562088       664.01\n",
              "2  07/07/2021  Jakarta  ...        10562088       664.01\n",
              "3  07/08/2021  Jakarta  ...        10562088       664.01\n",
              "4  07/09/2021  Jakarta  ...        10562088       664.01\n",
              "5  07/10/2021  Jakarta  ...        10562088       664.01\n",
              "6  07/11/2021  Jakarta  ...        10562088       664.01\n",
              "7  07/12/2021  Jakarta  ...        10562088       664.01\n",
              "8  07/13/2021  Jakarta  ...        10562088       664.01\n",
              "9  07/14/2021  Jakarta  ...        10562088       664.01\n",
              "\n",
              "[10 rows x 6 columns]"
            ]
          },
          "metadata": {
            "tags": []
          },
          "execution_count": 7
        }
      ]
    },
    {
      "cell_type": "code",
      "metadata": {
        "id": "sV1Y7MB_PQym",
        "colab": {
          "base_uri": "https://localhost:8080/",
          "height": 424
        },
        "outputId": "2cc6d805-9ef1-4a92-bd5e-538ece55b910"
      },
      "source": [
        "data"
      ],
      "execution_count": 8,
      "outputs": [
        {
          "output_type": "execute_result",
          "data": {
            "text/html": [
              "<div>\n",
              "<style scoped>\n",
              "    .dataframe tbody tr th:only-of-type {\n",
              "        vertical-align: middle;\n",
              "    }\n",
              "\n",
              "    .dataframe tbody tr th {\n",
              "        vertical-align: top;\n",
              "    }\n",
              "\n",
              "    .dataframe thead th {\n",
              "        text-align: right;\n",
              "    }\n",
              "</style>\n",
              "<table border=\"1\" class=\"dataframe\">\n",
              "  <thead>\n",
              "    <tr style=\"text-align: right;\">\n",
              "      <th></th>\n",
              "      <th>Tanggal</th>\n",
              "      <th>Kota</th>\n",
              "      <th>Tingkat Vaksinasi</th>\n",
              "      <th>Dalam atau Luar Jawa Bali</th>\n",
              "      <th>Jumlah Penduduk</th>\n",
              "      <th>Luas Daerah</th>\n",
              "    </tr>\n",
              "  </thead>\n",
              "  <tbody>\n",
              "    <tr>\n",
              "      <th>0</th>\n",
              "      <td>07/05/2021</td>\n",
              "      <td>Jakarta</td>\n",
              "      <td>22.70%</td>\n",
              "      <td>0</td>\n",
              "      <td>10562088</td>\n",
              "      <td>664.01</td>\n",
              "    </tr>\n",
              "    <tr>\n",
              "      <th>1</th>\n",
              "      <td>07/06/2021</td>\n",
              "      <td>Jakarta</td>\n",
              "      <td>22.73%</td>\n",
              "      <td>0</td>\n",
              "      <td>10562088</td>\n",
              "      <td>664.01</td>\n",
              "    </tr>\n",
              "    <tr>\n",
              "      <th>2</th>\n",
              "      <td>07/07/2021</td>\n",
              "      <td>Jakarta</td>\n",
              "      <td>22.76%</td>\n",
              "      <td>0</td>\n",
              "      <td>10562088</td>\n",
              "      <td>664.01</td>\n",
              "    </tr>\n",
              "    <tr>\n",
              "      <th>3</th>\n",
              "      <td>07/08/2021</td>\n",
              "      <td>Jakarta</td>\n",
              "      <td>22.80%</td>\n",
              "      <td>0</td>\n",
              "      <td>10562088</td>\n",
              "      <td>664.01</td>\n",
              "    </tr>\n",
              "    <tr>\n",
              "      <th>4</th>\n",
              "      <td>07/09/2021</td>\n",
              "      <td>Jakarta</td>\n",
              "      <td>22.83%</td>\n",
              "      <td>0</td>\n",
              "      <td>10562088</td>\n",
              "      <td>664.01</td>\n",
              "    </tr>\n",
              "    <tr>\n",
              "      <th>...</th>\n",
              "      <td>...</td>\n",
              "      <td>...</td>\n",
              "      <td>...</td>\n",
              "      <td>...</td>\n",
              "      <td>...</td>\n",
              "      <td>...</td>\n",
              "    </tr>\n",
              "    <tr>\n",
              "      <th>1051</th>\n",
              "      <td>08/01/2021</td>\n",
              "      <td>Lampung</td>\n",
              "      <td>5.69%</td>\n",
              "      <td>1</td>\n",
              "      <td>9007848</td>\n",
              "      <td>34623.80</td>\n",
              "    </tr>\n",
              "    <tr>\n",
              "      <th>1052</th>\n",
              "      <td>08/02/2021</td>\n",
              "      <td>Lampung</td>\n",
              "      <td>5.83%</td>\n",
              "      <td>1</td>\n",
              "      <td>9007848</td>\n",
              "      <td>34623.80</td>\n",
              "    </tr>\n",
              "    <tr>\n",
              "      <th>1053</th>\n",
              "      <td>08/03/2021</td>\n",
              "      <td>Lampung</td>\n",
              "      <td>5.90%</td>\n",
              "      <td>1</td>\n",
              "      <td>9007848</td>\n",
              "      <td>34623.80</td>\n",
              "    </tr>\n",
              "    <tr>\n",
              "      <th>1054</th>\n",
              "      <td>08/04/2021</td>\n",
              "      <td>Lampung</td>\n",
              "      <td>6.00%</td>\n",
              "      <td>1</td>\n",
              "      <td>9007848</td>\n",
              "      <td>34623.80</td>\n",
              "    </tr>\n",
              "    <tr>\n",
              "      <th>1055</th>\n",
              "      <td>08/05/2021</td>\n",
              "      <td>Lampung</td>\n",
              "      <td>6.12%</td>\n",
              "      <td>1</td>\n",
              "      <td>9007848</td>\n",
              "      <td>34623.80</td>\n",
              "    </tr>\n",
              "  </tbody>\n",
              "</table>\n",
              "<p>1056 rows × 6 columns</p>\n",
              "</div>"
            ],
            "text/plain": [
              "         Tanggal     Kota  ... Jumlah Penduduk  Luas Daerah\n",
              "0     07/05/2021  Jakarta  ...        10562088       664.01\n",
              "1     07/06/2021  Jakarta  ...        10562088       664.01\n",
              "2     07/07/2021  Jakarta  ...        10562088       664.01\n",
              "3     07/08/2021  Jakarta  ...        10562088       664.01\n",
              "4     07/09/2021  Jakarta  ...        10562088       664.01\n",
              "...          ...      ...  ...             ...          ...\n",
              "1051  08/01/2021  Lampung  ...         9007848     34623.80\n",
              "1052  08/02/2021  Lampung  ...         9007848     34623.80\n",
              "1053  08/03/2021  Lampung  ...         9007848     34623.80\n",
              "1054  08/04/2021  Lampung  ...         9007848     34623.80\n",
              "1055  08/05/2021  Lampung  ...         9007848     34623.80\n",
              "\n",
              "[1056 rows x 6 columns]"
            ]
          },
          "metadata": {
            "tags": []
          },
          "execution_count": 8
        }
      ]
    },
    {
      "cell_type": "code",
      "metadata": {
        "colab": {
          "base_uri": "https://localhost:8080/",
          "height": 362
        },
        "id": "gtudNmqgOi0q",
        "outputId": "7ba98c3e-01ab-407c-eb08-65b50236c3b9"
      },
      "source": [
        "data.tail(10)"
      ],
      "execution_count": 9,
      "outputs": [
        {
          "output_type": "execute_result",
          "data": {
            "text/html": [
              "<div>\n",
              "<style scoped>\n",
              "    .dataframe tbody tr th:only-of-type {\n",
              "        vertical-align: middle;\n",
              "    }\n",
              "\n",
              "    .dataframe tbody tr th {\n",
              "        vertical-align: top;\n",
              "    }\n",
              "\n",
              "    .dataframe thead th {\n",
              "        text-align: right;\n",
              "    }\n",
              "</style>\n",
              "<table border=\"1\" class=\"dataframe\">\n",
              "  <thead>\n",
              "    <tr style=\"text-align: right;\">\n",
              "      <th></th>\n",
              "      <th>Tanggal</th>\n",
              "      <th>Kota</th>\n",
              "      <th>Tingkat Vaksinasi</th>\n",
              "      <th>Dalam atau Luar Jawa Bali</th>\n",
              "      <th>Jumlah Penduduk</th>\n",
              "      <th>Luas Daerah</th>\n",
              "    </tr>\n",
              "  </thead>\n",
              "  <tbody>\n",
              "    <tr>\n",
              "      <th>1046</th>\n",
              "      <td>07/27/2021</td>\n",
              "      <td>Lampung</td>\n",
              "      <td>5.29%</td>\n",
              "      <td>1</td>\n",
              "      <td>9007848</td>\n",
              "      <td>34623.8</td>\n",
              "    </tr>\n",
              "    <tr>\n",
              "      <th>1047</th>\n",
              "      <td>07/28/2021</td>\n",
              "      <td>Lampung</td>\n",
              "      <td>5.46%</td>\n",
              "      <td>1</td>\n",
              "      <td>9007848</td>\n",
              "      <td>34623.8</td>\n",
              "    </tr>\n",
              "    <tr>\n",
              "      <th>1048</th>\n",
              "      <td>07/29/2021</td>\n",
              "      <td>Lampung</td>\n",
              "      <td>5.57%</td>\n",
              "      <td>1</td>\n",
              "      <td>9007848</td>\n",
              "      <td>34623.8</td>\n",
              "    </tr>\n",
              "    <tr>\n",
              "      <th>1049</th>\n",
              "      <td>07/30/2021</td>\n",
              "      <td>Lampung</td>\n",
              "      <td>5.63%</td>\n",
              "      <td>1</td>\n",
              "      <td>9007848</td>\n",
              "      <td>34623.8</td>\n",
              "    </tr>\n",
              "    <tr>\n",
              "      <th>1050</th>\n",
              "      <td>07/31/2021</td>\n",
              "      <td>Lampung</td>\n",
              "      <td>5.68%</td>\n",
              "      <td>1</td>\n",
              "      <td>9007848</td>\n",
              "      <td>34623.8</td>\n",
              "    </tr>\n",
              "    <tr>\n",
              "      <th>1051</th>\n",
              "      <td>08/01/2021</td>\n",
              "      <td>Lampung</td>\n",
              "      <td>5.69%</td>\n",
              "      <td>1</td>\n",
              "      <td>9007848</td>\n",
              "      <td>34623.8</td>\n",
              "    </tr>\n",
              "    <tr>\n",
              "      <th>1052</th>\n",
              "      <td>08/02/2021</td>\n",
              "      <td>Lampung</td>\n",
              "      <td>5.83%</td>\n",
              "      <td>1</td>\n",
              "      <td>9007848</td>\n",
              "      <td>34623.8</td>\n",
              "    </tr>\n",
              "    <tr>\n",
              "      <th>1053</th>\n",
              "      <td>08/03/2021</td>\n",
              "      <td>Lampung</td>\n",
              "      <td>5.90%</td>\n",
              "      <td>1</td>\n",
              "      <td>9007848</td>\n",
              "      <td>34623.8</td>\n",
              "    </tr>\n",
              "    <tr>\n",
              "      <th>1054</th>\n",
              "      <td>08/04/2021</td>\n",
              "      <td>Lampung</td>\n",
              "      <td>6.00%</td>\n",
              "      <td>1</td>\n",
              "      <td>9007848</td>\n",
              "      <td>34623.8</td>\n",
              "    </tr>\n",
              "    <tr>\n",
              "      <th>1055</th>\n",
              "      <td>08/05/2021</td>\n",
              "      <td>Lampung</td>\n",
              "      <td>6.12%</td>\n",
              "      <td>1</td>\n",
              "      <td>9007848</td>\n",
              "      <td>34623.8</td>\n",
              "    </tr>\n",
              "  </tbody>\n",
              "</table>\n",
              "</div>"
            ],
            "text/plain": [
              "         Tanggal     Kota  ... Jumlah Penduduk  Luas Daerah\n",
              "1046  07/27/2021  Lampung  ...         9007848      34623.8\n",
              "1047  07/28/2021  Lampung  ...         9007848      34623.8\n",
              "1048  07/29/2021  Lampung  ...         9007848      34623.8\n",
              "1049  07/30/2021  Lampung  ...         9007848      34623.8\n",
              "1050  07/31/2021  Lampung  ...         9007848      34623.8\n",
              "1051  08/01/2021  Lampung  ...         9007848      34623.8\n",
              "1052  08/02/2021  Lampung  ...         9007848      34623.8\n",
              "1053  08/03/2021  Lampung  ...         9007848      34623.8\n",
              "1054  08/04/2021  Lampung  ...         9007848      34623.8\n",
              "1055  08/05/2021  Lampung  ...         9007848      34623.8\n",
              "\n",
              "[10 rows x 6 columns]"
            ]
          },
          "metadata": {
            "tags": []
          },
          "execution_count": 9
        }
      ]
    },
    {
      "cell_type": "code",
      "metadata": {
        "colab": {
          "base_uri": "https://localhost:8080/",
          "height": 362
        },
        "id": "lTtuaL03Ol32",
        "outputId": "eddd70eb-2ac1-4646-e236-5346a7e2cd98"
      },
      "source": [
        "data.sample(10)"
      ],
      "execution_count": 10,
      "outputs": [
        {
          "output_type": "execute_result",
          "data": {
            "text/html": [
              "<div>\n",
              "<style scoped>\n",
              "    .dataframe tbody tr th:only-of-type {\n",
              "        vertical-align: middle;\n",
              "    }\n",
              "\n",
              "    .dataframe tbody tr th {\n",
              "        vertical-align: top;\n",
              "    }\n",
              "\n",
              "    .dataframe thead th {\n",
              "        text-align: right;\n",
              "    }\n",
              "</style>\n",
              "<table border=\"1\" class=\"dataframe\">\n",
              "  <thead>\n",
              "    <tr style=\"text-align: right;\">\n",
              "      <th></th>\n",
              "      <th>Tanggal</th>\n",
              "      <th>Kota</th>\n",
              "      <th>Tingkat Vaksinasi</th>\n",
              "      <th>Dalam atau Luar Jawa Bali</th>\n",
              "      <th>Jumlah Penduduk</th>\n",
              "      <th>Luas Daerah</th>\n",
              "    </tr>\n",
              "  </thead>\n",
              "  <tbody>\n",
              "    <tr>\n",
              "      <th>253</th>\n",
              "      <td>08/03/2021</td>\n",
              "      <td>Kep. Riau</td>\n",
              "      <td>15.58%</td>\n",
              "      <td>1</td>\n",
              "      <td>2064564</td>\n",
              "      <td>8201.72</td>\n",
              "    </tr>\n",
              "    <tr>\n",
              "      <th>75</th>\n",
              "      <td>07/16/2021</td>\n",
              "      <td>yogyakarta</td>\n",
              "      <td>14.00%</td>\n",
              "      <td>0</td>\n",
              "      <td>3668719</td>\n",
              "      <td>3133.15</td>\n",
              "    </tr>\n",
              "    <tr>\n",
              "      <th>680</th>\n",
              "      <td>07/13/2021</td>\n",
              "      <td>Sulawesi Barat</td>\n",
              "      <td>5.93%</td>\n",
              "      <td>1</td>\n",
              "      <td>1419229</td>\n",
              "      <td>16787.18</td>\n",
              "    </tr>\n",
              "    <tr>\n",
              "      <th>240</th>\n",
              "      <td>07/21/2021</td>\n",
              "      <td>Kep. Riau</td>\n",
              "      <td>11.82%</td>\n",
              "      <td>1</td>\n",
              "      <td>2064564</td>\n",
              "      <td>8201.72</td>\n",
              "    </tr>\n",
              "    <tr>\n",
              "      <th>331</th>\n",
              "      <td>07/16/2021</td>\n",
              "      <td>Gorontalo</td>\n",
              "      <td>7.98%</td>\n",
              "      <td>1</td>\n",
              "      <td>1171681</td>\n",
              "      <td>11257.07</td>\n",
              "    </tr>\n",
              "    <tr>\n",
              "      <th>279</th>\n",
              "      <td>07/28/2021</td>\n",
              "      <td>Sulawesi Utara</td>\n",
              "      <td>9.02%</td>\n",
              "      <td>1</td>\n",
              "      <td>2621923</td>\n",
              "      <td>13851.64</td>\n",
              "    </tr>\n",
              "    <tr>\n",
              "      <th>320</th>\n",
              "      <td>07/05/2021</td>\n",
              "      <td>Gorontalo</td>\n",
              "      <td>6.71%</td>\n",
              "      <td>1</td>\n",
              "      <td>1171681</td>\n",
              "      <td>11257.07</td>\n",
              "    </tr>\n",
              "    <tr>\n",
              "      <th>974</th>\n",
              "      <td>07/19/2021</td>\n",
              "      <td>Kalimantan Barat</td>\n",
              "      <td>5.00%</td>\n",
              "      <td>1</td>\n",
              "      <td>5414390</td>\n",
              "      <td>147307.00</td>\n",
              "    </tr>\n",
              "    <tr>\n",
              "      <th>983</th>\n",
              "      <td>07/28/2021</td>\n",
              "      <td>Kalimantan Barat</td>\n",
              "      <td>6.25%</td>\n",
              "      <td>1</td>\n",
              "      <td>5414390</td>\n",
              "      <td>147307.00</td>\n",
              "    </tr>\n",
              "    <tr>\n",
              "      <th>294</th>\n",
              "      <td>07/11/2021</td>\n",
              "      <td>Jambi</td>\n",
              "      <td>6.10%</td>\n",
              "      <td>1</td>\n",
              "      <td>3548228</td>\n",
              "      <td>50058.16</td>\n",
              "    </tr>\n",
              "  </tbody>\n",
              "</table>\n",
              "</div>"
            ],
            "text/plain": [
              "        Tanggal              Kota  ... Jumlah Penduduk  Luas Daerah\n",
              "253  08/03/2021         Kep. Riau  ...         2064564      8201.72\n",
              "75   07/16/2021        yogyakarta  ...         3668719      3133.15\n",
              "680  07/13/2021    Sulawesi Barat  ...         1419229     16787.18\n",
              "240  07/21/2021         Kep. Riau  ...         2064564      8201.72\n",
              "331  07/16/2021         Gorontalo  ...         1171681     11257.07\n",
              "279  07/28/2021    Sulawesi Utara  ...         2621923     13851.64\n",
              "320  07/05/2021         Gorontalo  ...         1171681     11257.07\n",
              "974  07/19/2021  Kalimantan Barat  ...         5414390    147307.00\n",
              "983  07/28/2021  Kalimantan Barat  ...         5414390    147307.00\n",
              "294  07/11/2021             Jambi  ...         3548228     50058.16\n",
              "\n",
              "[10 rows x 6 columns]"
            ]
          },
          "metadata": {
            "tags": []
          },
          "execution_count": 10
        }
      ]
    },
    {
      "cell_type": "code",
      "metadata": {
        "colab": {
          "base_uri": "https://localhost:8080/"
        },
        "id": "nenWBX-oOwRX",
        "outputId": "8159a6fd-6d33-4b02-b0c7-b557a70e0eb2"
      },
      "source": [
        "data.columns"
      ],
      "execution_count": 11,
      "outputs": [
        {
          "output_type": "execute_result",
          "data": {
            "text/plain": [
              "Index(['Tanggal', 'Kota', 'Tingkat Vaksinasi', 'Dalam atau Luar Jawa Bali',\n",
              "       'Jumlah Penduduk', 'Luas Daerah'],\n",
              "      dtype='object')"
            ]
          },
          "metadata": {
            "tags": []
          },
          "execution_count": 11
        }
      ]
    },
    {
      "cell_type": "code",
      "metadata": {
        "colab": {
          "base_uri": "https://localhost:8080/"
        },
        "id": "Hp1819jZO_tH",
        "outputId": "756c5907-86ec-44c6-b0c6-0c60a6bf2cb4"
      },
      "source": [
        "data.info()"
      ],
      "execution_count": 12,
      "outputs": [
        {
          "output_type": "stream",
          "text": [
            "<class 'pandas.core.frame.DataFrame'>\n",
            "RangeIndex: 1056 entries, 0 to 1055\n",
            "Data columns (total 6 columns):\n",
            " #   Column                     Non-Null Count  Dtype  \n",
            "---  ------                     --------------  -----  \n",
            " 0   Tanggal                    1056 non-null   object \n",
            " 1   Kota                       1056 non-null   object \n",
            " 2   Tingkat Vaksinasi          1056 non-null   object \n",
            " 3   Dalam atau Luar Jawa Bali  1056 non-null   int64  \n",
            " 4   Jumlah Penduduk            1056 non-null   int64  \n",
            " 5   Luas Daerah                1056 non-null   float64\n",
            "dtypes: float64(1), int64(2), object(3)\n",
            "memory usage: 49.6+ KB\n"
          ],
          "name": "stdout"
        }
      ]
    },
    {
      "cell_type": "code",
      "metadata": {
        "id": "J9ylOIwNPCOm",
        "colab": {
          "base_uri": "https://localhost:8080/"
        },
        "outputId": "b19bd871-223c-4beb-ea10-fe036299fb18"
      },
      "source": [
        "data['Tanggal'] = data['Tanggal'].astype('datetime64')\n",
        "data.dtypes"
      ],
      "execution_count": 13,
      "outputs": [
        {
          "output_type": "execute_result",
          "data": {
            "text/plain": [
              "Tanggal                      datetime64[ns]\n",
              "Kota                                 object\n",
              "Tingkat Vaksinasi                    object\n",
              "Dalam atau Luar Jawa Bali             int64\n",
              "Jumlah Penduduk                       int64\n",
              "Luas Daerah                         float64\n",
              "dtype: object"
            ]
          },
          "metadata": {
            "tags": []
          },
          "execution_count": 13
        }
      ]
    },
    {
      "cell_type": "code",
      "metadata": {
        "id": "7M5fvgDxP4WY",
        "colab": {
          "base_uri": "https://localhost:8080/"
        },
        "outputId": "59a21282-7e7b-43ee-b7d5-7783ce33e849"
      },
      "source": [
        "data.dtypes"
      ],
      "execution_count": 14,
      "outputs": [
        {
          "output_type": "execute_result",
          "data": {
            "text/plain": [
              "Tanggal                      datetime64[ns]\n",
              "Kota                                 object\n",
              "Tingkat Vaksinasi                    object\n",
              "Dalam atau Luar Jawa Bali             int64\n",
              "Jumlah Penduduk                       int64\n",
              "Luas Daerah                         float64\n",
              "dtype: object"
            ]
          },
          "metadata": {
            "tags": []
          },
          "execution_count": 14
        }
      ]
    },
    {
      "cell_type": "code",
      "metadata": {
        "id": "spicVN48Rn-l"
      },
      "source": [
        "data['Tingkat Vaksinasi'] = data['Tingkat Vaksinasi'].str.rstrip('%').astype('float') / 100.0"
      ],
      "execution_count": 15,
      "outputs": []
    },
    {
      "cell_type": "code",
      "metadata": {
        "id": "F8w8yoHvR5IW",
        "colab": {
          "base_uri": "https://localhost:8080/"
        },
        "outputId": "77fabbf1-341c-4f7d-804b-cee94b4f79fa"
      },
      "source": [
        "data.info()"
      ],
      "execution_count": 16,
      "outputs": [
        {
          "output_type": "stream",
          "text": [
            "<class 'pandas.core.frame.DataFrame'>\n",
            "RangeIndex: 1056 entries, 0 to 1055\n",
            "Data columns (total 6 columns):\n",
            " #   Column                     Non-Null Count  Dtype         \n",
            "---  ------                     --------------  -----         \n",
            " 0   Tanggal                    1056 non-null   datetime64[ns]\n",
            " 1   Kota                       1056 non-null   object        \n",
            " 2   Tingkat Vaksinasi          1056 non-null   float64       \n",
            " 3   Dalam atau Luar Jawa Bali  1056 non-null   int64         \n",
            " 4   Jumlah Penduduk            1056 non-null   int64         \n",
            " 5   Luas Daerah                1056 non-null   float64       \n",
            "dtypes: datetime64[ns](1), float64(2), int64(2), object(1)\n",
            "memory usage: 49.6+ KB\n"
          ],
          "name": "stdout"
        }
      ]
    },
    {
      "cell_type": "code",
      "metadata": {
        "id": "qiPDTBvtTIne"
      },
      "source": [
        "data['Dalam atau Luar Jawa Bali'] = data['Dalam atau Luar Jawa Bali'].astype('category')"
      ],
      "execution_count": 17,
      "outputs": []
    },
    {
      "cell_type": "code",
      "metadata": {
        "colab": {
          "base_uri": "https://localhost:8080/"
        },
        "id": "f58thB3MTZTo",
        "outputId": "c1f4e90c-2bb5-4c88-ae5b-4c9c7055e5ed"
      },
      "source": [
        "data.info()"
      ],
      "execution_count": 18,
      "outputs": [
        {
          "output_type": "stream",
          "text": [
            "<class 'pandas.core.frame.DataFrame'>\n",
            "RangeIndex: 1056 entries, 0 to 1055\n",
            "Data columns (total 6 columns):\n",
            " #   Column                     Non-Null Count  Dtype         \n",
            "---  ------                     --------------  -----         \n",
            " 0   Tanggal                    1056 non-null   datetime64[ns]\n",
            " 1   Kota                       1056 non-null   object        \n",
            " 2   Tingkat Vaksinasi          1056 non-null   float64       \n",
            " 3   Dalam atau Luar Jawa Bali  1056 non-null   category      \n",
            " 4   Jumlah Penduduk            1056 non-null   int64         \n",
            " 5   Luas Daerah                1056 non-null   float64       \n",
            "dtypes: category(1), datetime64[ns](1), float64(2), int64(1), object(1)\n",
            "memory usage: 42.5+ KB\n"
          ],
          "name": "stdout"
        }
      ]
    },
    {
      "cell_type": "code",
      "metadata": {
        "colab": {
          "base_uri": "https://localhost:8080/",
          "height": 1000
        },
        "id": "pB73GT5YT2N-",
        "outputId": "b8ea17ad-5b25-495a-e9d2-c7f774209332"
      },
      "source": [
        "penduduk = data.groupby('Kota', as_index=False)['Jumlah Penduduk'].\\\n",
        "    mean().dropna()\n",
        "penduduk"
      ],
      "execution_count": 19,
      "outputs": [
        {
          "output_type": "execute_result",
          "data": {
            "text/html": [
              "<div>\n",
              "<style scoped>\n",
              "    .dataframe tbody tr th:only-of-type {\n",
              "        vertical-align: middle;\n",
              "    }\n",
              "\n",
              "    .dataframe tbody tr th {\n",
              "        vertical-align: top;\n",
              "    }\n",
              "\n",
              "    .dataframe thead th {\n",
              "        text-align: right;\n",
              "    }\n",
              "</style>\n",
              "<table border=\"1\" class=\"dataframe\">\n",
              "  <thead>\n",
              "    <tr style=\"text-align: right;\">\n",
              "      <th></th>\n",
              "      <th>Kota</th>\n",
              "      <th>Jumlah Penduduk</th>\n",
              "    </tr>\n",
              "  </thead>\n",
              "  <tbody>\n",
              "    <tr>\n",
              "      <th>0</th>\n",
              "      <td>Aceh</td>\n",
              "      <td>5274871</td>\n",
              "    </tr>\n",
              "    <tr>\n",
              "      <th>1</th>\n",
              "      <td>Bali</td>\n",
              "      <td>4317404</td>\n",
              "    </tr>\n",
              "    <tr>\n",
              "      <th>2</th>\n",
              "      <td>Bangka Belitung</td>\n",
              "      <td>1455678</td>\n",
              "    </tr>\n",
              "    <tr>\n",
              "      <th>3</th>\n",
              "      <td>Banten</td>\n",
              "      <td>11904562</td>\n",
              "    </tr>\n",
              "    <tr>\n",
              "      <th>4</th>\n",
              "      <td>Bengkulu</td>\n",
              "      <td>2010670</td>\n",
              "    </tr>\n",
              "    <tr>\n",
              "      <th>5</th>\n",
              "      <td>Gorontalo</td>\n",
              "      <td>1171681</td>\n",
              "    </tr>\n",
              "    <tr>\n",
              "      <th>6</th>\n",
              "      <td>Jakarta</td>\n",
              "      <td>10562088</td>\n",
              "    </tr>\n",
              "    <tr>\n",
              "      <th>7</th>\n",
              "      <td>Jambi</td>\n",
              "      <td>3548228</td>\n",
              "    </tr>\n",
              "    <tr>\n",
              "      <th>8</th>\n",
              "      <td>Jawa Barat</td>\n",
              "      <td>48274162</td>\n",
              "    </tr>\n",
              "    <tr>\n",
              "      <th>9</th>\n",
              "      <td>Jawa Timur</td>\n",
              "      <td>40665696</td>\n",
              "    </tr>\n",
              "    <tr>\n",
              "      <th>10</th>\n",
              "      <td>Jawa tengah</td>\n",
              "      <td>36516035</td>\n",
              "    </tr>\n",
              "    <tr>\n",
              "      <th>11</th>\n",
              "      <td>Kalimantan Barat</td>\n",
              "      <td>5414390</td>\n",
              "    </tr>\n",
              "    <tr>\n",
              "      <th>12</th>\n",
              "      <td>Kalimantan Selatan</td>\n",
              "      <td>4073584</td>\n",
              "    </tr>\n",
              "    <tr>\n",
              "      <th>13</th>\n",
              "      <td>Kalimantan Tengah</td>\n",
              "      <td>2669969</td>\n",
              "    </tr>\n",
              "    <tr>\n",
              "      <th>14</th>\n",
              "      <td>Kalimantan Timur</td>\n",
              "      <td>3766039</td>\n",
              "    </tr>\n",
              "    <tr>\n",
              "      <th>15</th>\n",
              "      <td>Kalimantan Utara</td>\n",
              "      <td>701814</td>\n",
              "    </tr>\n",
              "    <tr>\n",
              "      <th>16</th>\n",
              "      <td>Kep. Riau</td>\n",
              "      <td>2064564</td>\n",
              "    </tr>\n",
              "    <tr>\n",
              "      <th>17</th>\n",
              "      <td>Lampung</td>\n",
              "      <td>9007848</td>\n",
              "    </tr>\n",
              "    <tr>\n",
              "      <th>18</th>\n",
              "      <td>Maluku</td>\n",
              "      <td>1848923</td>\n",
              "    </tr>\n",
              "    <tr>\n",
              "      <th>19</th>\n",
              "      <td>NTB</td>\n",
              "      <td>5320092</td>\n",
              "    </tr>\n",
              "    <tr>\n",
              "      <th>20</th>\n",
              "      <td>NTT</td>\n",
              "      <td>5325566</td>\n",
              "    </tr>\n",
              "    <tr>\n",
              "      <th>21</th>\n",
              "      <td>Papua</td>\n",
              "      <td>4303707</td>\n",
              "    </tr>\n",
              "    <tr>\n",
              "      <th>22</th>\n",
              "      <td>Papua Barat</td>\n",
              "      <td>1134068</td>\n",
              "    </tr>\n",
              "    <tr>\n",
              "      <th>23</th>\n",
              "      <td>Riau</td>\n",
              "      <td>6394087</td>\n",
              "    </tr>\n",
              "    <tr>\n",
              "      <th>24</th>\n",
              "      <td>Sulawesi Barat</td>\n",
              "      <td>1419229</td>\n",
              "    </tr>\n",
              "    <tr>\n",
              "      <th>25</th>\n",
              "      <td>Sulawesi Selatan</td>\n",
              "      <td>9073509</td>\n",
              "    </tr>\n",
              "    <tr>\n",
              "      <th>26</th>\n",
              "      <td>Sulawesi Tengah</td>\n",
              "      <td>2985734</td>\n",
              "    </tr>\n",
              "    <tr>\n",
              "      <th>27</th>\n",
              "      <td>Sulawesi Tenggara</td>\n",
              "      <td>2624875</td>\n",
              "    </tr>\n",
              "    <tr>\n",
              "      <th>28</th>\n",
              "      <td>Sulawesi Utara</td>\n",
              "      <td>2621923</td>\n",
              "    </tr>\n",
              "    <tr>\n",
              "      <th>29</th>\n",
              "      <td>Sumatera Barat</td>\n",
              "      <td>5534472</td>\n",
              "    </tr>\n",
              "    <tr>\n",
              "      <th>30</th>\n",
              "      <td>Sumatera Selatan</td>\n",
              "      <td>8467432</td>\n",
              "    </tr>\n",
              "    <tr>\n",
              "      <th>31</th>\n",
              "      <td>Sumatera Utara</td>\n",
              "      <td>14799361</td>\n",
              "    </tr>\n",
              "    <tr>\n",
              "      <th>32</th>\n",
              "      <td>yogyakarta</td>\n",
              "      <td>3668719</td>\n",
              "    </tr>\n",
              "  </tbody>\n",
              "</table>\n",
              "</div>"
            ],
            "text/plain": [
              "                  Kota  Jumlah Penduduk\n",
              "0                 Aceh          5274871\n",
              "1                 Bali          4317404\n",
              "2      Bangka Belitung          1455678\n",
              "3               Banten         11904562\n",
              "4             Bengkulu          2010670\n",
              "5            Gorontalo          1171681\n",
              "6              Jakarta         10562088\n",
              "7                Jambi          3548228\n",
              "8           Jawa Barat         48274162\n",
              "9           Jawa Timur         40665696\n",
              "10         Jawa tengah         36516035\n",
              "11    Kalimantan Barat          5414390\n",
              "12  Kalimantan Selatan          4073584\n",
              "13   Kalimantan Tengah          2669969\n",
              "14    Kalimantan Timur          3766039\n",
              "15    Kalimantan Utara           701814\n",
              "16           Kep. Riau          2064564\n",
              "17             Lampung          9007848\n",
              "18              Maluku          1848923\n",
              "19                 NTB          5320092\n",
              "20                 NTT          5325566\n",
              "21               Papua          4303707\n",
              "22         Papua Barat          1134068\n",
              "23                Riau          6394087\n",
              "24      Sulawesi Barat          1419229\n",
              "25    Sulawesi Selatan          9073509\n",
              "26     Sulawesi Tengah          2985734\n",
              "27   Sulawesi Tenggara          2624875\n",
              "28      Sulawesi Utara          2621923\n",
              "29      Sumatera Barat          5534472\n",
              "30    Sumatera Selatan          8467432\n",
              "31      Sumatera Utara         14799361\n",
              "32          yogyakarta          3668719"
            ]
          },
          "metadata": {
            "tags": []
          },
          "execution_count": 19
        }
      ]
    },
    {
      "cell_type": "code",
      "metadata": {
        "colab": {
          "base_uri": "https://localhost:8080/",
          "height": 1000
        },
        "id": "j5P-vGytVijf",
        "outputId": "1a7155a6-6e8b-485d-e6e0-d89f1562d2f4"
      },
      "source": [
        "luas = data.groupby('Kota', as_index=False)['Luas Daerah'].\\\n",
        "    mean().dropna()\n",
        "luas"
      ],
      "execution_count": 20,
      "outputs": [
        {
          "output_type": "execute_result",
          "data": {
            "text/html": [
              "<div>\n",
              "<style scoped>\n",
              "    .dataframe tbody tr th:only-of-type {\n",
              "        vertical-align: middle;\n",
              "    }\n",
              "\n",
              "    .dataframe tbody tr th {\n",
              "        vertical-align: top;\n",
              "    }\n",
              "\n",
              "    .dataframe thead th {\n",
              "        text-align: right;\n",
              "    }\n",
              "</style>\n",
              "<table border=\"1\" class=\"dataframe\">\n",
              "  <thead>\n",
              "    <tr style=\"text-align: right;\">\n",
              "      <th></th>\n",
              "      <th>Kota</th>\n",
              "      <th>Luas Daerah</th>\n",
              "    </tr>\n",
              "  </thead>\n",
              "  <tbody>\n",
              "    <tr>\n",
              "      <th>0</th>\n",
              "      <td>Aceh</td>\n",
              "      <td>57956.00</td>\n",
              "    </tr>\n",
              "    <tr>\n",
              "      <th>1</th>\n",
              "      <td>Bali</td>\n",
              "      <td>5780.06</td>\n",
              "    </tr>\n",
              "    <tr>\n",
              "      <th>2</th>\n",
              "      <td>Bangka Belitung</td>\n",
              "      <td>16424.06</td>\n",
              "    </tr>\n",
              "    <tr>\n",
              "      <th>3</th>\n",
              "      <td>Banten</td>\n",
              "      <td>9662.92</td>\n",
              "    </tr>\n",
              "    <tr>\n",
              "      <th>4</th>\n",
              "      <td>Bengkulu</td>\n",
              "      <td>19919.33</td>\n",
              "    </tr>\n",
              "    <tr>\n",
              "      <th>5</th>\n",
              "      <td>Gorontalo</td>\n",
              "      <td>11257.07</td>\n",
              "    </tr>\n",
              "    <tr>\n",
              "      <th>6</th>\n",
              "      <td>Jakarta</td>\n",
              "      <td>664.01</td>\n",
              "    </tr>\n",
              "    <tr>\n",
              "      <th>7</th>\n",
              "      <td>Jambi</td>\n",
              "      <td>50058.16</td>\n",
              "    </tr>\n",
              "    <tr>\n",
              "      <th>8</th>\n",
              "      <td>Jawa Barat</td>\n",
              "      <td>35377.76</td>\n",
              "    </tr>\n",
              "    <tr>\n",
              "      <th>9</th>\n",
              "      <td>Jawa Timur</td>\n",
              "      <td>47799.75</td>\n",
              "    </tr>\n",
              "    <tr>\n",
              "      <th>10</th>\n",
              "      <td>Jawa tengah</td>\n",
              "      <td>32800.69</td>\n",
              "    </tr>\n",
              "    <tr>\n",
              "      <th>11</th>\n",
              "      <td>Kalimantan Barat</td>\n",
              "      <td>147307.00</td>\n",
              "    </tr>\n",
              "    <tr>\n",
              "      <th>12</th>\n",
              "      <td>Kalimantan Selatan</td>\n",
              "      <td>38744.23</td>\n",
              "    </tr>\n",
              "    <tr>\n",
              "      <th>13</th>\n",
              "      <td>Kalimantan Tengah</td>\n",
              "      <td>153564.50</td>\n",
              "    </tr>\n",
              "    <tr>\n",
              "      <th>14</th>\n",
              "      <td>Kalimantan Timur</td>\n",
              "      <td>129066.64</td>\n",
              "    </tr>\n",
              "    <tr>\n",
              "      <th>15</th>\n",
              "      <td>Kalimantan Utara</td>\n",
              "      <td>75467.70</td>\n",
              "    </tr>\n",
              "    <tr>\n",
              "      <th>16</th>\n",
              "      <td>Kep. Riau</td>\n",
              "      <td>8201.72</td>\n",
              "    </tr>\n",
              "    <tr>\n",
              "      <th>17</th>\n",
              "      <td>Lampung</td>\n",
              "      <td>34623.80</td>\n",
              "    </tr>\n",
              "    <tr>\n",
              "      <th>18</th>\n",
              "      <td>Maluku</td>\n",
              "      <td>46914.03</td>\n",
              "    </tr>\n",
              "    <tr>\n",
              "      <th>19</th>\n",
              "      <td>NTB</td>\n",
              "      <td>18572.32</td>\n",
              "    </tr>\n",
              "    <tr>\n",
              "      <th>20</th>\n",
              "      <td>NTT</td>\n",
              "      <td>48718.10</td>\n",
              "    </tr>\n",
              "    <tr>\n",
              "      <th>21</th>\n",
              "      <td>Papua</td>\n",
              "      <td>319036.05</td>\n",
              "    </tr>\n",
              "    <tr>\n",
              "      <th>22</th>\n",
              "      <td>Papua Barat</td>\n",
              "      <td>99671.63</td>\n",
              "    </tr>\n",
              "    <tr>\n",
              "      <th>23</th>\n",
              "      <td>Riau</td>\n",
              "      <td>87023.66</td>\n",
              "    </tr>\n",
              "    <tr>\n",
              "      <th>24</th>\n",
              "      <td>Sulawesi Barat</td>\n",
              "      <td>16787.18</td>\n",
              "    </tr>\n",
              "    <tr>\n",
              "      <th>25</th>\n",
              "      <td>Sulawesi Selatan</td>\n",
              "      <td>46717.48</td>\n",
              "    </tr>\n",
              "    <tr>\n",
              "      <th>26</th>\n",
              "      <td>Sulawesi Tengah</td>\n",
              "      <td>61841.29</td>\n",
              "    </tr>\n",
              "    <tr>\n",
              "      <th>27</th>\n",
              "      <td>Sulawesi Tenggara</td>\n",
              "      <td>38067.70</td>\n",
              "    </tr>\n",
              "    <tr>\n",
              "      <th>28</th>\n",
              "      <td>Sulawesi Utara</td>\n",
              "      <td>13851.64</td>\n",
              "    </tr>\n",
              "    <tr>\n",
              "      <th>29</th>\n",
              "      <td>Sumatera Barat</td>\n",
              "      <td>42012.89</td>\n",
              "    </tr>\n",
              "    <tr>\n",
              "      <th>30</th>\n",
              "      <td>Sumatera Selatan</td>\n",
              "      <td>91592.43</td>\n",
              "    </tr>\n",
              "    <tr>\n",
              "      <th>31</th>\n",
              "      <td>Sumatera Utara</td>\n",
              "      <td>72981.23</td>\n",
              "    </tr>\n",
              "    <tr>\n",
              "      <th>32</th>\n",
              "      <td>yogyakarta</td>\n",
              "      <td>3133.15</td>\n",
              "    </tr>\n",
              "  </tbody>\n",
              "</table>\n",
              "</div>"
            ],
            "text/plain": [
              "                  Kota  Luas Daerah\n",
              "0                 Aceh     57956.00\n",
              "1                 Bali      5780.06\n",
              "2      Bangka Belitung     16424.06\n",
              "3               Banten      9662.92\n",
              "4             Bengkulu     19919.33\n",
              "5            Gorontalo     11257.07\n",
              "6              Jakarta       664.01\n",
              "7                Jambi     50058.16\n",
              "8           Jawa Barat     35377.76\n",
              "9           Jawa Timur     47799.75\n",
              "10         Jawa tengah     32800.69\n",
              "11    Kalimantan Barat    147307.00\n",
              "12  Kalimantan Selatan     38744.23\n",
              "13   Kalimantan Tengah    153564.50\n",
              "14    Kalimantan Timur    129066.64\n",
              "15    Kalimantan Utara     75467.70\n",
              "16           Kep. Riau      8201.72\n",
              "17             Lampung     34623.80\n",
              "18              Maluku     46914.03\n",
              "19                 NTB     18572.32\n",
              "20                 NTT     48718.10\n",
              "21               Papua    319036.05\n",
              "22         Papua Barat     99671.63\n",
              "23                Riau     87023.66\n",
              "24      Sulawesi Barat     16787.18\n",
              "25    Sulawesi Selatan     46717.48\n",
              "26     Sulawesi Tengah     61841.29\n",
              "27   Sulawesi Tenggara     38067.70\n",
              "28      Sulawesi Utara     13851.64\n",
              "29      Sumatera Barat     42012.89\n",
              "30    Sumatera Selatan     91592.43\n",
              "31      Sumatera Utara     72981.23\n",
              "32          yogyakarta      3133.15"
            ]
          },
          "metadata": {
            "tags": []
          },
          "execution_count": 20
        }
      ]
    },
    {
      "cell_type": "code",
      "metadata": {
        "id": "kg-oqaQQUwmB"
      },
      "source": [
        "df = pd.concat([luas,penduduk['Jumlah Penduduk']], axis=1)"
      ],
      "execution_count": 21,
      "outputs": []
    },
    {
      "cell_type": "code",
      "metadata": {
        "id": "bbpW40H-Uadu",
        "colab": {
          "base_uri": "https://localhost:8080/",
          "height": 1000
        },
        "outputId": "96df0d44-3182-4eca-c679-1d4b6a83f322"
      },
      "source": [
        "df"
      ],
      "execution_count": 22,
      "outputs": [
        {
          "output_type": "execute_result",
          "data": {
            "text/html": [
              "<div>\n",
              "<style scoped>\n",
              "    .dataframe tbody tr th:only-of-type {\n",
              "        vertical-align: middle;\n",
              "    }\n",
              "\n",
              "    .dataframe tbody tr th {\n",
              "        vertical-align: top;\n",
              "    }\n",
              "\n",
              "    .dataframe thead th {\n",
              "        text-align: right;\n",
              "    }\n",
              "</style>\n",
              "<table border=\"1\" class=\"dataframe\">\n",
              "  <thead>\n",
              "    <tr style=\"text-align: right;\">\n",
              "      <th></th>\n",
              "      <th>Kota</th>\n",
              "      <th>Luas Daerah</th>\n",
              "      <th>Jumlah Penduduk</th>\n",
              "    </tr>\n",
              "  </thead>\n",
              "  <tbody>\n",
              "    <tr>\n",
              "      <th>0</th>\n",
              "      <td>Aceh</td>\n",
              "      <td>57956.00</td>\n",
              "      <td>5274871</td>\n",
              "    </tr>\n",
              "    <tr>\n",
              "      <th>1</th>\n",
              "      <td>Bali</td>\n",
              "      <td>5780.06</td>\n",
              "      <td>4317404</td>\n",
              "    </tr>\n",
              "    <tr>\n",
              "      <th>2</th>\n",
              "      <td>Bangka Belitung</td>\n",
              "      <td>16424.06</td>\n",
              "      <td>1455678</td>\n",
              "    </tr>\n",
              "    <tr>\n",
              "      <th>3</th>\n",
              "      <td>Banten</td>\n",
              "      <td>9662.92</td>\n",
              "      <td>11904562</td>\n",
              "    </tr>\n",
              "    <tr>\n",
              "      <th>4</th>\n",
              "      <td>Bengkulu</td>\n",
              "      <td>19919.33</td>\n",
              "      <td>2010670</td>\n",
              "    </tr>\n",
              "    <tr>\n",
              "      <th>5</th>\n",
              "      <td>Gorontalo</td>\n",
              "      <td>11257.07</td>\n",
              "      <td>1171681</td>\n",
              "    </tr>\n",
              "    <tr>\n",
              "      <th>6</th>\n",
              "      <td>Jakarta</td>\n",
              "      <td>664.01</td>\n",
              "      <td>10562088</td>\n",
              "    </tr>\n",
              "    <tr>\n",
              "      <th>7</th>\n",
              "      <td>Jambi</td>\n",
              "      <td>50058.16</td>\n",
              "      <td>3548228</td>\n",
              "    </tr>\n",
              "    <tr>\n",
              "      <th>8</th>\n",
              "      <td>Jawa Barat</td>\n",
              "      <td>35377.76</td>\n",
              "      <td>48274162</td>\n",
              "    </tr>\n",
              "    <tr>\n",
              "      <th>9</th>\n",
              "      <td>Jawa Timur</td>\n",
              "      <td>47799.75</td>\n",
              "      <td>40665696</td>\n",
              "    </tr>\n",
              "    <tr>\n",
              "      <th>10</th>\n",
              "      <td>Jawa tengah</td>\n",
              "      <td>32800.69</td>\n",
              "      <td>36516035</td>\n",
              "    </tr>\n",
              "    <tr>\n",
              "      <th>11</th>\n",
              "      <td>Kalimantan Barat</td>\n",
              "      <td>147307.00</td>\n",
              "      <td>5414390</td>\n",
              "    </tr>\n",
              "    <tr>\n",
              "      <th>12</th>\n",
              "      <td>Kalimantan Selatan</td>\n",
              "      <td>38744.23</td>\n",
              "      <td>4073584</td>\n",
              "    </tr>\n",
              "    <tr>\n",
              "      <th>13</th>\n",
              "      <td>Kalimantan Tengah</td>\n",
              "      <td>153564.50</td>\n",
              "      <td>2669969</td>\n",
              "    </tr>\n",
              "    <tr>\n",
              "      <th>14</th>\n",
              "      <td>Kalimantan Timur</td>\n",
              "      <td>129066.64</td>\n",
              "      <td>3766039</td>\n",
              "    </tr>\n",
              "    <tr>\n",
              "      <th>15</th>\n",
              "      <td>Kalimantan Utara</td>\n",
              "      <td>75467.70</td>\n",
              "      <td>701814</td>\n",
              "    </tr>\n",
              "    <tr>\n",
              "      <th>16</th>\n",
              "      <td>Kep. Riau</td>\n",
              "      <td>8201.72</td>\n",
              "      <td>2064564</td>\n",
              "    </tr>\n",
              "    <tr>\n",
              "      <th>17</th>\n",
              "      <td>Lampung</td>\n",
              "      <td>34623.80</td>\n",
              "      <td>9007848</td>\n",
              "    </tr>\n",
              "    <tr>\n",
              "      <th>18</th>\n",
              "      <td>Maluku</td>\n",
              "      <td>46914.03</td>\n",
              "      <td>1848923</td>\n",
              "    </tr>\n",
              "    <tr>\n",
              "      <th>19</th>\n",
              "      <td>NTB</td>\n",
              "      <td>18572.32</td>\n",
              "      <td>5320092</td>\n",
              "    </tr>\n",
              "    <tr>\n",
              "      <th>20</th>\n",
              "      <td>NTT</td>\n",
              "      <td>48718.10</td>\n",
              "      <td>5325566</td>\n",
              "    </tr>\n",
              "    <tr>\n",
              "      <th>21</th>\n",
              "      <td>Papua</td>\n",
              "      <td>319036.05</td>\n",
              "      <td>4303707</td>\n",
              "    </tr>\n",
              "    <tr>\n",
              "      <th>22</th>\n",
              "      <td>Papua Barat</td>\n",
              "      <td>99671.63</td>\n",
              "      <td>1134068</td>\n",
              "    </tr>\n",
              "    <tr>\n",
              "      <th>23</th>\n",
              "      <td>Riau</td>\n",
              "      <td>87023.66</td>\n",
              "      <td>6394087</td>\n",
              "    </tr>\n",
              "    <tr>\n",
              "      <th>24</th>\n",
              "      <td>Sulawesi Barat</td>\n",
              "      <td>16787.18</td>\n",
              "      <td>1419229</td>\n",
              "    </tr>\n",
              "    <tr>\n",
              "      <th>25</th>\n",
              "      <td>Sulawesi Selatan</td>\n",
              "      <td>46717.48</td>\n",
              "      <td>9073509</td>\n",
              "    </tr>\n",
              "    <tr>\n",
              "      <th>26</th>\n",
              "      <td>Sulawesi Tengah</td>\n",
              "      <td>61841.29</td>\n",
              "      <td>2985734</td>\n",
              "    </tr>\n",
              "    <tr>\n",
              "      <th>27</th>\n",
              "      <td>Sulawesi Tenggara</td>\n",
              "      <td>38067.70</td>\n",
              "      <td>2624875</td>\n",
              "    </tr>\n",
              "    <tr>\n",
              "      <th>28</th>\n",
              "      <td>Sulawesi Utara</td>\n",
              "      <td>13851.64</td>\n",
              "      <td>2621923</td>\n",
              "    </tr>\n",
              "    <tr>\n",
              "      <th>29</th>\n",
              "      <td>Sumatera Barat</td>\n",
              "      <td>42012.89</td>\n",
              "      <td>5534472</td>\n",
              "    </tr>\n",
              "    <tr>\n",
              "      <th>30</th>\n",
              "      <td>Sumatera Selatan</td>\n",
              "      <td>91592.43</td>\n",
              "      <td>8467432</td>\n",
              "    </tr>\n",
              "    <tr>\n",
              "      <th>31</th>\n",
              "      <td>Sumatera Utara</td>\n",
              "      <td>72981.23</td>\n",
              "      <td>14799361</td>\n",
              "    </tr>\n",
              "    <tr>\n",
              "      <th>32</th>\n",
              "      <td>yogyakarta</td>\n",
              "      <td>3133.15</td>\n",
              "      <td>3668719</td>\n",
              "    </tr>\n",
              "  </tbody>\n",
              "</table>\n",
              "</div>"
            ],
            "text/plain": [
              "                  Kota  Luas Daerah  Jumlah Penduduk\n",
              "0                 Aceh     57956.00          5274871\n",
              "1                 Bali      5780.06          4317404\n",
              "2      Bangka Belitung     16424.06          1455678\n",
              "3               Banten      9662.92         11904562\n",
              "4             Bengkulu     19919.33          2010670\n",
              "5            Gorontalo     11257.07          1171681\n",
              "6              Jakarta       664.01         10562088\n",
              "7                Jambi     50058.16          3548228\n",
              "8           Jawa Barat     35377.76         48274162\n",
              "9           Jawa Timur     47799.75         40665696\n",
              "10         Jawa tengah     32800.69         36516035\n",
              "11    Kalimantan Barat    147307.00          5414390\n",
              "12  Kalimantan Selatan     38744.23          4073584\n",
              "13   Kalimantan Tengah    153564.50          2669969\n",
              "14    Kalimantan Timur    129066.64          3766039\n",
              "15    Kalimantan Utara     75467.70           701814\n",
              "16           Kep. Riau      8201.72          2064564\n",
              "17             Lampung     34623.80          9007848\n",
              "18              Maluku     46914.03          1848923\n",
              "19                 NTB     18572.32          5320092\n",
              "20                 NTT     48718.10          5325566\n",
              "21               Papua    319036.05          4303707\n",
              "22         Papua Barat     99671.63          1134068\n",
              "23                Riau     87023.66          6394087\n",
              "24      Sulawesi Barat     16787.18          1419229\n",
              "25    Sulawesi Selatan     46717.48          9073509\n",
              "26     Sulawesi Tengah     61841.29          2985734\n",
              "27   Sulawesi Tenggara     38067.70          2624875\n",
              "28      Sulawesi Utara     13851.64          2621923\n",
              "29      Sumatera Barat     42012.89          5534472\n",
              "30    Sumatera Selatan     91592.43          8467432\n",
              "31      Sumatera Utara     72981.23         14799361\n",
              "32          yogyakarta      3133.15          3668719"
            ]
          },
          "metadata": {
            "tags": []
          },
          "execution_count": 22
        }
      ]
    },
    {
      "cell_type": "code",
      "metadata": {
        "colab": {
          "base_uri": "https://localhost:8080/",
          "height": 717
        },
        "id": "yx8DP8mkYA6W",
        "outputId": "57e0204e-485c-4b7f-85b8-2769ee40d554"
      },
      "source": [
        "fig = px.bar(df, x='Kota', y=\"Luas Daerah\", title = 'Luas Daerah Provinsi di Indonesia', width=1200, height=700, color=\"Kota\")\n",
        "fig.show()"
      ],
      "execution_count": 23,
      "outputs": [
        {
          "output_type": "display_data",
          "data": {
            "text/html": [
              "<html>\n",
              "<head><meta charset=\"utf-8\" /></head>\n",
              "<body>\n",
              "    <div>\n",
              "            <script src=\"https://cdnjs.cloudflare.com/ajax/libs/mathjax/2.7.5/MathJax.js?config=TeX-AMS-MML_SVG\"></script><script type=\"text/javascript\">if (window.MathJax) {MathJax.Hub.Config({SVG: {font: \"STIX-Web\"}});}</script>\n",
              "                <script type=\"text/javascript\">window.PlotlyConfig = {MathJaxConfig: 'local'};</script>\n",
              "        <script src=\"https://cdn.plot.ly/plotly-latest.min.js\"></script>    \n",
              "            <div id=\"6c130300-ab00-4d77-9d67-d0c489c1c3d5\" class=\"plotly-graph-div\" style=\"height:700px; width:1200px;\"></div>\n",
              "            <script type=\"text/javascript\">\n",
              "                \n",
              "                    window.PLOTLYENV=window.PLOTLYENV || {};\n",
              "                    \n",
              "                if (document.getElementById(\"6c130300-ab00-4d77-9d67-d0c489c1c3d5\")) {\n",
              "                    Plotly.newPlot(\n",
              "                        '6c130300-ab00-4d77-9d67-d0c489c1c3d5',\n",
              "                        [{\"alignmentgroup\": \"True\", \"hoverlabel\": {\"namelength\": 0}, \"hovertemplate\": \"Kota=%{x}<br>Luas Daerah=%{y}\", \"legendgroup\": \"Kota=Aceh\", \"marker\": {\"color\": \"#636efa\"}, \"name\": \"Kota=Aceh\", \"offsetgroup\": \"Kota=Aceh\", \"orientation\": \"v\", \"showlegend\": true, \"textposition\": \"auto\", \"type\": \"bar\", \"x\": [\"Aceh\"], \"xaxis\": \"x\", \"y\": [57956.0], \"yaxis\": \"y\"}, {\"alignmentgroup\": \"True\", \"hoverlabel\": {\"namelength\": 0}, \"hovertemplate\": \"Kota=%{x}<br>Luas Daerah=%{y}\", \"legendgroup\": \"Kota=Bali\", \"marker\": {\"color\": \"#EF553B\"}, \"name\": \"Kota=Bali\", \"offsetgroup\": \"Kota=Bali\", \"orientation\": \"v\", \"showlegend\": true, \"textposition\": \"auto\", \"type\": \"bar\", \"x\": [\"Bali\"], \"xaxis\": \"x\", \"y\": [5780.059999999999], \"yaxis\": \"y\"}, {\"alignmentgroup\": \"True\", \"hoverlabel\": {\"namelength\": 0}, \"hovertemplate\": \"Kota=%{x}<br>Luas Daerah=%{y}\", \"legendgroup\": \"Kota=Bangka Belitung\", \"marker\": {\"color\": \"#00cc96\"}, \"name\": \"Kota=Bangka Belitung\", \"offsetgroup\": \"Kota=Bangka Belitung\", \"orientation\": \"v\", \"showlegend\": true, \"textposition\": \"auto\", \"type\": \"bar\", \"x\": [\"Bangka Belitung\"], \"xaxis\": \"x\", \"y\": [16424.06], \"yaxis\": \"y\"}, {\"alignmentgroup\": \"True\", \"hoverlabel\": {\"namelength\": 0}, \"hovertemplate\": \"Kota=%{x}<br>Luas Daerah=%{y}\", \"legendgroup\": \"Kota=Banten\", \"marker\": {\"color\": \"#ab63fa\"}, \"name\": \"Kota=Banten\", \"offsetgroup\": \"Kota=Banten\", \"orientation\": \"v\", \"showlegend\": true, \"textposition\": \"auto\", \"type\": \"bar\", \"x\": [\"Banten\"], \"xaxis\": \"x\", \"y\": [9662.920000000004], \"yaxis\": \"y\"}, {\"alignmentgroup\": \"True\", \"hoverlabel\": {\"namelength\": 0}, \"hovertemplate\": \"Kota=%{x}<br>Luas Daerah=%{y}\", \"legendgroup\": \"Kota=Bengkulu\", \"marker\": {\"color\": \"#FFA15A\"}, \"name\": \"Kota=Bengkulu\", \"offsetgroup\": \"Kota=Bengkulu\", \"orientation\": \"v\", \"showlegend\": true, \"textposition\": \"auto\", \"type\": \"bar\", \"x\": [\"Bengkulu\"], \"xaxis\": \"x\", \"y\": [19919.33], \"yaxis\": \"y\"}, {\"alignmentgroup\": \"True\", \"hoverlabel\": {\"namelength\": 0}, \"hovertemplate\": \"Kota=%{x}<br>Luas Daerah=%{y}\", \"legendgroup\": \"Kota=Gorontalo\", \"marker\": {\"color\": \"#19d3f3\"}, \"name\": \"Kota=Gorontalo\", \"offsetgroup\": \"Kota=Gorontalo\", \"orientation\": \"v\", \"showlegend\": true, \"textposition\": \"auto\", \"type\": \"bar\", \"x\": [\"Gorontalo\"], \"xaxis\": \"x\", \"y\": [11257.070000000005], \"yaxis\": \"y\"}, {\"alignmentgroup\": \"True\", \"hoverlabel\": {\"namelength\": 0}, \"hovertemplate\": \"Kota=%{x}<br>Luas Daerah=%{y}\", \"legendgroup\": \"Kota=Jakarta\", \"marker\": {\"color\": \"#FF6692\"}, \"name\": \"Kota=Jakarta\", \"offsetgroup\": \"Kota=Jakarta\", \"orientation\": \"v\", \"showlegend\": true, \"textposition\": \"auto\", \"type\": \"bar\", \"x\": [\"Jakarta\"], \"xaxis\": \"x\", \"y\": [664.0099999999998], \"yaxis\": \"y\"}, {\"alignmentgroup\": \"True\", \"hoverlabel\": {\"namelength\": 0}, \"hovertemplate\": \"Kota=%{x}<br>Luas Daerah=%{y}\", \"legendgroup\": \"Kota=Jambi\", \"marker\": {\"color\": \"#B6E880\"}, \"name\": \"Kota=Jambi\", \"offsetgroup\": \"Kota=Jambi\", \"orientation\": \"v\", \"showlegend\": true, \"textposition\": \"auto\", \"type\": \"bar\", \"x\": [\"Jambi\"], \"xaxis\": \"x\", \"y\": [50058.15999999998], \"yaxis\": \"y\"}, {\"alignmentgroup\": \"True\", \"hoverlabel\": {\"namelength\": 0}, \"hovertemplate\": \"Kota=%{x}<br>Luas Daerah=%{y}\", \"legendgroup\": \"Kota=Jawa Barat\", \"marker\": {\"color\": \"#FF97FF\"}, \"name\": \"Kota=Jawa Barat\", \"offsetgroup\": \"Kota=Jawa Barat\", \"orientation\": \"v\", \"showlegend\": true, \"textposition\": \"auto\", \"type\": \"bar\", \"x\": [\"Jawa Barat\"], \"xaxis\": \"x\", \"y\": [35377.76], \"yaxis\": \"y\"}, {\"alignmentgroup\": \"True\", \"hoverlabel\": {\"namelength\": 0}, \"hovertemplate\": \"Kota=%{x}<br>Luas Daerah=%{y}\", \"legendgroup\": \"Kota=Jawa Timur\", \"marker\": {\"color\": \"#FECB52\"}, \"name\": \"Kota=Jawa Timur\", \"offsetgroup\": \"Kota=Jawa Timur\", \"orientation\": \"v\", \"showlegend\": true, \"textposition\": \"auto\", \"type\": \"bar\", \"x\": [\"Jawa Timur\"], \"xaxis\": \"x\", \"y\": [47799.75], \"yaxis\": \"y\"}, {\"alignmentgroup\": \"True\", \"hoverlabel\": {\"namelength\": 0}, \"hovertemplate\": \"Kota=%{x}<br>Luas Daerah=%{y}\", \"legendgroup\": \"Kota=Jawa tengah\", \"marker\": {\"color\": \"#636efa\"}, \"name\": \"Kota=Jawa tengah\", \"offsetgroup\": \"Kota=Jawa tengah\", \"orientation\": \"v\", \"showlegend\": true, \"textposition\": \"auto\", \"type\": \"bar\", \"x\": [\"Jawa tengah\"], \"xaxis\": \"x\", \"y\": [32800.68999999997], \"yaxis\": \"y\"}, {\"alignmentgroup\": \"True\", \"hoverlabel\": {\"namelength\": 0}, \"hovertemplate\": \"Kota=%{x}<br>Luas Daerah=%{y}\", \"legendgroup\": \"Kota=Kalimantan Barat\", \"marker\": {\"color\": \"#EF553B\"}, \"name\": \"Kota=Kalimantan Barat\", \"offsetgroup\": \"Kota=Kalimantan Barat\", \"orientation\": \"v\", \"showlegend\": true, \"textposition\": \"auto\", \"type\": \"bar\", \"x\": [\"Kalimantan Barat\"], \"xaxis\": \"x\", \"y\": [147307.0], \"yaxis\": \"y\"}, {\"alignmentgroup\": \"True\", \"hoverlabel\": {\"namelength\": 0}, \"hovertemplate\": \"Kota=%{x}<br>Luas Daerah=%{y}\", \"legendgroup\": \"Kota=Kalimantan Selatan\", \"marker\": {\"color\": \"#00cc96\"}, \"name\": \"Kota=Kalimantan Selatan\", \"offsetgroup\": \"Kota=Kalimantan Selatan\", \"orientation\": \"v\", \"showlegend\": true, \"textposition\": \"auto\", \"type\": \"bar\", \"x\": [\"Kalimantan Selatan\"], \"xaxis\": \"x\", \"y\": [38744.22999999999], \"yaxis\": \"y\"}, {\"alignmentgroup\": \"True\", \"hoverlabel\": {\"namelength\": 0}, \"hovertemplate\": \"Kota=%{x}<br>Luas Daerah=%{y}\", \"legendgroup\": \"Kota=Kalimantan Tengah\", \"marker\": {\"color\": \"#ab63fa\"}, \"name\": \"Kota=Kalimantan Tengah\", \"offsetgroup\": \"Kota=Kalimantan Tengah\", \"orientation\": \"v\", \"showlegend\": true, \"textposition\": \"auto\", \"type\": \"bar\", \"x\": [\"Kalimantan Tengah\"], \"xaxis\": \"x\", \"y\": [153564.5], \"yaxis\": \"y\"}, {\"alignmentgroup\": \"True\", \"hoverlabel\": {\"namelength\": 0}, \"hovertemplate\": \"Kota=%{x}<br>Luas Daerah=%{y}\", \"legendgroup\": \"Kota=Kalimantan Timur\", \"marker\": {\"color\": \"#FFA15A\"}, \"name\": \"Kota=Kalimantan Timur\", \"offsetgroup\": \"Kota=Kalimantan Timur\", \"orientation\": \"v\", \"showlegend\": true, \"textposition\": \"auto\", \"type\": \"bar\", \"x\": [\"Kalimantan Timur\"], \"xaxis\": \"x\", \"y\": [129066.64000000004], \"yaxis\": \"y\"}, {\"alignmentgroup\": \"True\", \"hoverlabel\": {\"namelength\": 0}, \"hovertemplate\": \"Kota=%{x}<br>Luas Daerah=%{y}\", \"legendgroup\": \"Kota=Kalimantan Utara\", \"marker\": {\"color\": \"#19d3f3\"}, \"name\": \"Kota=Kalimantan Utara\", \"offsetgroup\": \"Kota=Kalimantan Utara\", \"orientation\": \"v\", \"showlegend\": true, \"textposition\": \"auto\", \"type\": \"bar\", \"x\": [\"Kalimantan Utara\"], \"xaxis\": \"x\", \"y\": [75467.7], \"yaxis\": \"y\"}, {\"alignmentgroup\": \"True\", \"hoverlabel\": {\"namelength\": 0}, \"hovertemplate\": \"Kota=%{x}<br>Luas Daerah=%{y}\", \"legendgroup\": \"Kota=Kep. Riau\", \"marker\": {\"color\": \"#FF6692\"}, \"name\": \"Kota=Kep. Riau\", \"offsetgroup\": \"Kota=Kep. Riau\", \"orientation\": \"v\", \"showlegend\": true, \"textposition\": \"auto\", \"type\": \"bar\", \"x\": [\"Kep. Riau\"], \"xaxis\": \"x\", \"y\": [8201.72], \"yaxis\": \"y\"}, {\"alignmentgroup\": \"True\", \"hoverlabel\": {\"namelength\": 0}, \"hovertemplate\": \"Kota=%{x}<br>Luas Daerah=%{y}\", \"legendgroup\": \"Kota=Lampung\", \"marker\": {\"color\": \"#B6E880\"}, \"name\": \"Kota=Lampung\", \"offsetgroup\": \"Kota=Lampung\", \"orientation\": \"v\", \"showlegend\": true, \"textposition\": \"auto\", \"type\": \"bar\", \"x\": [\"Lampung\"], \"xaxis\": \"x\", \"y\": [34623.80000000002], \"yaxis\": \"y\"}, {\"alignmentgroup\": \"True\", \"hoverlabel\": {\"namelength\": 0}, \"hovertemplate\": \"Kota=%{x}<br>Luas Daerah=%{y}\", \"legendgroup\": \"Kota=Maluku\", \"marker\": {\"color\": \"#FF97FF\"}, \"name\": \"Kota=Maluku\", \"offsetgroup\": \"Kota=Maluku\", \"orientation\": \"v\", \"showlegend\": true, \"textposition\": \"auto\", \"type\": \"bar\", \"x\": [\"Maluku\"], \"xaxis\": \"x\", \"y\": [46914.03000000002], \"yaxis\": \"y\"}, {\"alignmentgroup\": \"True\", \"hoverlabel\": {\"namelength\": 0}, \"hovertemplate\": \"Kota=%{x}<br>Luas Daerah=%{y}\", \"legendgroup\": \"Kota=NTB\", \"marker\": {\"color\": \"#FECB52\"}, \"name\": \"Kota=NTB\", \"offsetgroup\": \"Kota=NTB\", \"orientation\": \"v\", \"showlegend\": true, \"textposition\": \"auto\", \"type\": \"bar\", \"x\": [\"NTB\"], \"xaxis\": \"x\", \"y\": [18572.32], \"yaxis\": \"y\"}, {\"alignmentgroup\": \"True\", \"hoverlabel\": {\"namelength\": 0}, \"hovertemplate\": \"Kota=%{x}<br>Luas Daerah=%{y}\", \"legendgroup\": \"Kota=NTT\", \"marker\": {\"color\": \"#636efa\"}, \"name\": \"Kota=NTT\", \"offsetgroup\": \"Kota=NTT\", \"orientation\": \"v\", \"showlegend\": true, \"textposition\": \"auto\", \"type\": \"bar\", \"x\": [\"NTT\"], \"xaxis\": \"x\", \"y\": [48718.10000000002], \"yaxis\": \"y\"}, {\"alignmentgroup\": \"True\", \"hoverlabel\": {\"namelength\": 0}, \"hovertemplate\": \"Kota=%{x}<br>Luas Daerah=%{y}\", \"legendgroup\": \"Kota=Papua\", \"marker\": {\"color\": \"#EF553B\"}, \"name\": \"Kota=Papua\", \"offsetgroup\": \"Kota=Papua\", \"orientation\": \"v\", \"showlegend\": true, \"textposition\": \"auto\", \"type\": \"bar\", \"x\": [\"Papua\"], \"xaxis\": \"x\", \"y\": [319036.05000000005], \"yaxis\": \"y\"}, {\"alignmentgroup\": \"True\", \"hoverlabel\": {\"namelength\": 0}, \"hovertemplate\": \"Kota=%{x}<br>Luas Daerah=%{y}\", \"legendgroup\": \"Kota=Papua Barat\", \"marker\": {\"color\": \"#00cc96\"}, \"name\": \"Kota=Papua Barat\", \"offsetgroup\": \"Kota=Papua Barat\", \"orientation\": \"v\", \"showlegend\": true, \"textposition\": \"auto\", \"type\": \"bar\", \"x\": [\"Papua Barat\"], \"xaxis\": \"x\", \"y\": [99671.62999999993], \"yaxis\": \"y\"}, {\"alignmentgroup\": \"True\", \"hoverlabel\": {\"namelength\": 0}, \"hovertemplate\": \"Kota=%{x}<br>Luas Daerah=%{y}\", \"legendgroup\": \"Kota=Riau\", \"marker\": {\"color\": \"#ab63fa\"}, \"name\": \"Kota=Riau\", \"offsetgroup\": \"Kota=Riau\", \"orientation\": \"v\", \"showlegend\": true, \"textposition\": \"auto\", \"type\": \"bar\", \"x\": [\"Riau\"], \"xaxis\": \"x\", \"y\": [87023.66000000002], \"yaxis\": \"y\"}, {\"alignmentgroup\": \"True\", \"hoverlabel\": {\"namelength\": 0}, \"hovertemplate\": \"Kota=%{x}<br>Luas Daerah=%{y}\", \"legendgroup\": \"Kota=Sulawesi Barat\", \"marker\": {\"color\": \"#FFA15A\"}, \"name\": \"Kota=Sulawesi Barat\", \"offsetgroup\": \"Kota=Sulawesi Barat\", \"orientation\": \"v\", \"showlegend\": true, \"textposition\": \"auto\", \"type\": \"bar\", \"x\": [\"Sulawesi Barat\"], \"xaxis\": \"x\", \"y\": [16787.179999999997], \"yaxis\": \"y\"}, {\"alignmentgroup\": \"True\", \"hoverlabel\": {\"namelength\": 0}, \"hovertemplate\": \"Kota=%{x}<br>Luas Daerah=%{y}\", \"legendgroup\": \"Kota=Sulawesi Selatan\", \"marker\": {\"color\": \"#19d3f3\"}, \"name\": \"Kota=Sulawesi Selatan\", \"offsetgroup\": \"Kota=Sulawesi Selatan\", \"orientation\": \"v\", \"showlegend\": true, \"textposition\": \"auto\", \"type\": \"bar\", \"x\": [\"Sulawesi Selatan\"], \"xaxis\": \"x\", \"y\": [46717.47999999999], \"yaxis\": \"y\"}, {\"alignmentgroup\": \"True\", \"hoverlabel\": {\"namelength\": 0}, \"hovertemplate\": \"Kota=%{x}<br>Luas Daerah=%{y}\", \"legendgroup\": \"Kota=Sulawesi Tengah\", \"marker\": {\"color\": \"#FF6692\"}, \"name\": \"Kota=Sulawesi Tengah\", \"offsetgroup\": \"Kota=Sulawesi Tengah\", \"orientation\": \"v\", \"showlegend\": true, \"textposition\": \"auto\", \"type\": \"bar\", \"x\": [\"Sulawesi Tengah\"], \"xaxis\": \"x\", \"y\": [61841.29000000002], \"yaxis\": \"y\"}, {\"alignmentgroup\": \"True\", \"hoverlabel\": {\"namelength\": 0}, \"hovertemplate\": \"Kota=%{x}<br>Luas Daerah=%{y}\", \"legendgroup\": \"Kota=Sulawesi Tenggara\", \"marker\": {\"color\": \"#B6E880\"}, \"name\": \"Kota=Sulawesi Tenggara\", \"offsetgroup\": \"Kota=Sulawesi Tenggara\", \"orientation\": \"v\", \"showlegend\": true, \"textposition\": \"auto\", \"type\": \"bar\", \"x\": [\"Sulawesi Tenggara\"], \"xaxis\": \"x\", \"y\": [38067.699999999975], \"yaxis\": \"y\"}, {\"alignmentgroup\": \"True\", \"hoverlabel\": {\"namelength\": 0}, \"hovertemplate\": \"Kota=%{x}<br>Luas Daerah=%{y}\", \"legendgroup\": \"Kota=Sulawesi Utara\", \"marker\": {\"color\": \"#FF97FF\"}, \"name\": \"Kota=Sulawesi Utara\", \"offsetgroup\": \"Kota=Sulawesi Utara\", \"orientation\": \"v\", \"showlegend\": true, \"textposition\": \"auto\", \"type\": \"bar\", \"x\": [\"Sulawesi Utara\"], \"xaxis\": \"x\", \"y\": [13851.640000000009], \"yaxis\": \"y\"}, {\"alignmentgroup\": \"True\", \"hoverlabel\": {\"namelength\": 0}, \"hovertemplate\": \"Kota=%{x}<br>Luas Daerah=%{y}\", \"legendgroup\": \"Kota=Sumatera Barat\", \"marker\": {\"color\": \"#FECB52\"}, \"name\": \"Kota=Sumatera Barat\", \"offsetgroup\": \"Kota=Sumatera Barat\", \"orientation\": \"v\", \"showlegend\": true, \"textposition\": \"auto\", \"type\": \"bar\", \"x\": [\"Sumatera Barat\"], \"xaxis\": \"x\", \"y\": [42012.889999999985], \"yaxis\": \"y\"}, {\"alignmentgroup\": \"True\", \"hoverlabel\": {\"namelength\": 0}, \"hovertemplate\": \"Kota=%{x}<br>Luas Daerah=%{y}\", \"legendgroup\": \"Kota=Sumatera Selatan\", \"marker\": {\"color\": \"#636efa\"}, \"name\": \"Kota=Sumatera Selatan\", \"offsetgroup\": \"Kota=Sumatera Selatan\", \"orientation\": \"v\", \"showlegend\": true, \"textposition\": \"auto\", \"type\": \"bar\", \"x\": [\"Sumatera Selatan\"], \"xaxis\": \"x\", \"y\": [91592.43000000002], \"yaxis\": \"y\"}, {\"alignmentgroup\": \"True\", \"hoverlabel\": {\"namelength\": 0}, \"hovertemplate\": \"Kota=%{x}<br>Luas Daerah=%{y}\", \"legendgroup\": \"Kota=Sumatera Utara\", \"marker\": {\"color\": \"#EF553B\"}, \"name\": \"Kota=Sumatera Utara\", \"offsetgroup\": \"Kota=Sumatera Utara\", \"orientation\": \"v\", \"showlegend\": true, \"textposition\": \"auto\", \"type\": \"bar\", \"x\": [\"Sumatera Utara\"], \"xaxis\": \"x\", \"y\": [72981.23], \"yaxis\": \"y\"}, {\"alignmentgroup\": \"True\", \"hoverlabel\": {\"namelength\": 0}, \"hovertemplate\": \"Kota=%{x}<br>Luas Daerah=%{y}\", \"legendgroup\": \"Kota=yogyakarta\", \"marker\": {\"color\": \"#00cc96\"}, \"name\": \"Kota=yogyakarta\", \"offsetgroup\": \"Kota=yogyakarta\", \"orientation\": \"v\", \"showlegend\": true, \"textposition\": \"auto\", \"type\": \"bar\", \"x\": [\"yogyakarta\"], \"xaxis\": \"x\", \"y\": [3133.1499999999987], \"yaxis\": \"y\"}],\n",
              "                        {\"barmode\": \"relative\", \"height\": 700, \"legend\": {\"tracegroupgap\": 0}, \"template\": {\"data\": {\"bar\": [{\"error_x\": {\"color\": \"#2a3f5f\"}, \"error_y\": {\"color\": \"#2a3f5f\"}, \"marker\": {\"line\": {\"color\": \"#E5ECF6\", \"width\": 0.5}}, \"type\": \"bar\"}], \"barpolar\": [{\"marker\": {\"line\": {\"color\": \"#E5ECF6\", \"width\": 0.5}}, \"type\": \"barpolar\"}], \"carpet\": [{\"aaxis\": {\"endlinecolor\": \"#2a3f5f\", \"gridcolor\": \"white\", \"linecolor\": \"white\", \"minorgridcolor\": \"white\", \"startlinecolor\": \"#2a3f5f\"}, \"baxis\": {\"endlinecolor\": \"#2a3f5f\", \"gridcolor\": \"white\", \"linecolor\": \"white\", \"minorgridcolor\": \"white\", \"startlinecolor\": \"#2a3f5f\"}, \"type\": \"carpet\"}], \"choropleth\": [{\"colorbar\": {\"outlinewidth\": 0, \"ticks\": \"\"}, \"type\": \"choropleth\"}], \"contour\": [{\"colorbar\": {\"outlinewidth\": 0, \"ticks\": \"\"}, \"colorscale\": [[0.0, \"#0d0887\"], [0.1111111111111111, \"#46039f\"], [0.2222222222222222, \"#7201a8\"], [0.3333333333333333, \"#9c179e\"], [0.4444444444444444, \"#bd3786\"], [0.5555555555555556, \"#d8576b\"], [0.6666666666666666, \"#ed7953\"], [0.7777777777777778, \"#fb9f3a\"], [0.8888888888888888, \"#fdca26\"], [1.0, \"#f0f921\"]], \"type\": \"contour\"}], \"contourcarpet\": [{\"colorbar\": {\"outlinewidth\": 0, \"ticks\": \"\"}, \"type\": \"contourcarpet\"}], \"heatmap\": [{\"colorbar\": {\"outlinewidth\": 0, \"ticks\": \"\"}, \"colorscale\": [[0.0, \"#0d0887\"], [0.1111111111111111, \"#46039f\"], [0.2222222222222222, \"#7201a8\"], [0.3333333333333333, \"#9c179e\"], [0.4444444444444444, \"#bd3786\"], [0.5555555555555556, \"#d8576b\"], [0.6666666666666666, \"#ed7953\"], [0.7777777777777778, \"#fb9f3a\"], [0.8888888888888888, \"#fdca26\"], [1.0, \"#f0f921\"]], \"type\": \"heatmap\"}], \"heatmapgl\": [{\"colorbar\": {\"outlinewidth\": 0, \"ticks\": \"\"}, \"colorscale\": [[0.0, \"#0d0887\"], [0.1111111111111111, \"#46039f\"], [0.2222222222222222, \"#7201a8\"], [0.3333333333333333, \"#9c179e\"], [0.4444444444444444, \"#bd3786\"], [0.5555555555555556, \"#d8576b\"], [0.6666666666666666, \"#ed7953\"], [0.7777777777777778, \"#fb9f3a\"], [0.8888888888888888, \"#fdca26\"], [1.0, \"#f0f921\"]], \"type\": \"heatmapgl\"}], \"histogram\": [{\"marker\": {\"colorbar\": {\"outlinewidth\": 0, \"ticks\": \"\"}}, \"type\": \"histogram\"}], \"histogram2d\": [{\"colorbar\": {\"outlinewidth\": 0, \"ticks\": \"\"}, \"colorscale\": [[0.0, \"#0d0887\"], [0.1111111111111111, \"#46039f\"], [0.2222222222222222, \"#7201a8\"], [0.3333333333333333, \"#9c179e\"], [0.4444444444444444, \"#bd3786\"], [0.5555555555555556, \"#d8576b\"], [0.6666666666666666, \"#ed7953\"], [0.7777777777777778, \"#fb9f3a\"], [0.8888888888888888, \"#fdca26\"], [1.0, \"#f0f921\"]], \"type\": \"histogram2d\"}], \"histogram2dcontour\": [{\"colorbar\": {\"outlinewidth\": 0, \"ticks\": \"\"}, \"colorscale\": [[0.0, \"#0d0887\"], [0.1111111111111111, \"#46039f\"], [0.2222222222222222, \"#7201a8\"], [0.3333333333333333, \"#9c179e\"], [0.4444444444444444, \"#bd3786\"], [0.5555555555555556, \"#d8576b\"], [0.6666666666666666, \"#ed7953\"], [0.7777777777777778, \"#fb9f3a\"], [0.8888888888888888, \"#fdca26\"], [1.0, \"#f0f921\"]], \"type\": \"histogram2dcontour\"}], \"mesh3d\": [{\"colorbar\": {\"outlinewidth\": 0, \"ticks\": \"\"}, \"type\": \"mesh3d\"}], \"parcoords\": [{\"line\": {\"colorbar\": {\"outlinewidth\": 0, \"ticks\": \"\"}}, \"type\": \"parcoords\"}], \"pie\": [{\"automargin\": true, \"type\": \"pie\"}], \"scatter\": [{\"marker\": {\"colorbar\": {\"outlinewidth\": 0, \"ticks\": \"\"}}, \"type\": \"scatter\"}], \"scatter3d\": [{\"line\": {\"colorbar\": {\"outlinewidth\": 0, \"ticks\": \"\"}}, \"marker\": {\"colorbar\": {\"outlinewidth\": 0, \"ticks\": \"\"}}, \"type\": \"scatter3d\"}], \"scattercarpet\": [{\"marker\": {\"colorbar\": {\"outlinewidth\": 0, \"ticks\": \"\"}}, \"type\": \"scattercarpet\"}], \"scattergeo\": [{\"marker\": {\"colorbar\": {\"outlinewidth\": 0, \"ticks\": \"\"}}, \"type\": \"scattergeo\"}], \"scattergl\": [{\"marker\": {\"colorbar\": {\"outlinewidth\": 0, \"ticks\": \"\"}}, \"type\": \"scattergl\"}], \"scattermapbox\": [{\"marker\": {\"colorbar\": {\"outlinewidth\": 0, \"ticks\": \"\"}}, \"type\": \"scattermapbox\"}], \"scatterpolar\": [{\"marker\": {\"colorbar\": {\"outlinewidth\": 0, \"ticks\": \"\"}}, \"type\": \"scatterpolar\"}], \"scatterpolargl\": [{\"marker\": {\"colorbar\": {\"outlinewidth\": 0, \"ticks\": \"\"}}, \"type\": \"scatterpolargl\"}], \"scatterternary\": [{\"marker\": {\"colorbar\": {\"outlinewidth\": 0, \"ticks\": \"\"}}, \"type\": \"scatterternary\"}], \"surface\": [{\"colorbar\": {\"outlinewidth\": 0, \"ticks\": \"\"}, \"colorscale\": [[0.0, \"#0d0887\"], [0.1111111111111111, \"#46039f\"], [0.2222222222222222, \"#7201a8\"], [0.3333333333333333, \"#9c179e\"], [0.4444444444444444, \"#bd3786\"], [0.5555555555555556, \"#d8576b\"], [0.6666666666666666, \"#ed7953\"], [0.7777777777777778, \"#fb9f3a\"], [0.8888888888888888, \"#fdca26\"], [1.0, \"#f0f921\"]], \"type\": \"surface\"}], \"table\": [{\"cells\": {\"fill\": {\"color\": \"#EBF0F8\"}, \"line\": {\"color\": \"white\"}}, \"header\": {\"fill\": {\"color\": \"#C8D4E3\"}, \"line\": {\"color\": \"white\"}}, \"type\": \"table\"}]}, \"layout\": {\"annotationdefaults\": {\"arrowcolor\": \"#2a3f5f\", \"arrowhead\": 0, \"arrowwidth\": 1}, \"coloraxis\": {\"colorbar\": {\"outlinewidth\": 0, \"ticks\": \"\"}}, \"colorscale\": {\"diverging\": [[0, \"#8e0152\"], [0.1, \"#c51b7d\"], [0.2, \"#de77ae\"], [0.3, \"#f1b6da\"], [0.4, \"#fde0ef\"], [0.5, \"#f7f7f7\"], [0.6, \"#e6f5d0\"], [0.7, \"#b8e186\"], [0.8, \"#7fbc41\"], [0.9, \"#4d9221\"], [1, \"#276419\"]], \"sequential\": [[0.0, \"#0d0887\"], [0.1111111111111111, \"#46039f\"], [0.2222222222222222, \"#7201a8\"], [0.3333333333333333, \"#9c179e\"], [0.4444444444444444, \"#bd3786\"], [0.5555555555555556, \"#d8576b\"], [0.6666666666666666, \"#ed7953\"], [0.7777777777777778, \"#fb9f3a\"], [0.8888888888888888, \"#fdca26\"], [1.0, \"#f0f921\"]], \"sequentialminus\": [[0.0, \"#0d0887\"], [0.1111111111111111, \"#46039f\"], [0.2222222222222222, \"#7201a8\"], [0.3333333333333333, \"#9c179e\"], [0.4444444444444444, \"#bd3786\"], [0.5555555555555556, \"#d8576b\"], [0.6666666666666666, \"#ed7953\"], [0.7777777777777778, \"#fb9f3a\"], [0.8888888888888888, \"#fdca26\"], [1.0, \"#f0f921\"]]}, \"colorway\": [\"#636efa\", \"#EF553B\", \"#00cc96\", \"#ab63fa\", \"#FFA15A\", \"#19d3f3\", \"#FF6692\", \"#B6E880\", \"#FF97FF\", \"#FECB52\"], \"font\": {\"color\": \"#2a3f5f\"}, \"geo\": {\"bgcolor\": \"white\", \"lakecolor\": \"white\", \"landcolor\": \"#E5ECF6\", \"showlakes\": true, \"showland\": true, \"subunitcolor\": \"white\"}, \"hoverlabel\": {\"align\": \"left\"}, \"hovermode\": \"closest\", \"mapbox\": {\"style\": \"light\"}, \"paper_bgcolor\": \"white\", \"plot_bgcolor\": \"#E5ECF6\", \"polar\": {\"angularaxis\": {\"gridcolor\": \"white\", \"linecolor\": \"white\", \"ticks\": \"\"}, \"bgcolor\": \"#E5ECF6\", \"radialaxis\": {\"gridcolor\": \"white\", \"linecolor\": \"white\", \"ticks\": \"\"}}, \"scene\": {\"xaxis\": {\"backgroundcolor\": \"#E5ECF6\", \"gridcolor\": \"white\", \"gridwidth\": 2, \"linecolor\": \"white\", \"showbackground\": true, \"ticks\": \"\", \"zerolinecolor\": \"white\"}, \"yaxis\": {\"backgroundcolor\": \"#E5ECF6\", \"gridcolor\": \"white\", \"gridwidth\": 2, \"linecolor\": \"white\", \"showbackground\": true, \"ticks\": \"\", \"zerolinecolor\": \"white\"}, \"zaxis\": {\"backgroundcolor\": \"#E5ECF6\", \"gridcolor\": \"white\", \"gridwidth\": 2, \"linecolor\": \"white\", \"showbackground\": true, \"ticks\": \"\", \"zerolinecolor\": \"white\"}}, \"shapedefaults\": {\"line\": {\"color\": \"#2a3f5f\"}}, \"ternary\": {\"aaxis\": {\"gridcolor\": \"white\", \"linecolor\": \"white\", \"ticks\": \"\"}, \"baxis\": {\"gridcolor\": \"white\", \"linecolor\": \"white\", \"ticks\": \"\"}, \"bgcolor\": \"#E5ECF6\", \"caxis\": {\"gridcolor\": \"white\", \"linecolor\": \"white\", \"ticks\": \"\"}}, \"title\": {\"x\": 0.05}, \"xaxis\": {\"automargin\": true, \"gridcolor\": \"white\", \"linecolor\": \"white\", \"ticks\": \"\", \"title\": {\"standoff\": 15}, \"zerolinecolor\": \"white\", \"zerolinewidth\": 2}, \"yaxis\": {\"automargin\": true, \"gridcolor\": \"white\", \"linecolor\": \"white\", \"ticks\": \"\", \"title\": {\"standoff\": 15}, \"zerolinecolor\": \"white\", \"zerolinewidth\": 2}}}, \"title\": {\"text\": \"Luas Daerah Provinsi di Indonesia\"}, \"width\": 1200, \"xaxis\": {\"anchor\": \"y\", \"categoryarray\": [\"Aceh\", \"Bali\", \"Bangka Belitung\", \"Banten\", \"Bengkulu\", \"Gorontalo\", \"Jakarta\", \"Jambi\", \"Jawa Barat\", \"Jawa Timur\", \"Jawa tengah\", \"Kalimantan Barat\", \"Kalimantan Selatan\", \"Kalimantan Tengah\", \"Kalimantan Timur\", \"Kalimantan Utara\", \"Kep. Riau\", \"Lampung\", \"Maluku\", \"NTB\", \"NTT\", \"Papua\", \"Papua Barat\", \"Riau\", \"Sulawesi Barat\", \"Sulawesi Selatan\", \"Sulawesi Tengah\", \"Sulawesi Tenggara\", \"Sulawesi Utara\", \"Sumatera Barat\", \"Sumatera Selatan\", \"Sumatera Utara\", \"yogyakarta\"], \"categoryorder\": \"array\", \"domain\": [0.0, 1.0], \"title\": {\"text\": \"Kota\"}}, \"yaxis\": {\"anchor\": \"x\", \"domain\": [0.0, 1.0], \"title\": {\"text\": \"Luas Daerah\"}}},\n",
              "                        {\"responsive\": true}\n",
              "                    ).then(function(){\n",
              "                            \n",
              "var gd = document.getElementById('6c130300-ab00-4d77-9d67-d0c489c1c3d5');\n",
              "var x = new MutationObserver(function (mutations, observer) {{\n",
              "        var display = window.getComputedStyle(gd).display;\n",
              "        if (!display || display === 'none') {{\n",
              "            console.log([gd, 'removed!']);\n",
              "            Plotly.purge(gd);\n",
              "            observer.disconnect();\n",
              "        }}\n",
              "}});\n",
              "\n",
              "// Listen for the removal of the full notebook cells\n",
              "var notebookContainer = gd.closest('#notebook-container');\n",
              "if (notebookContainer) {{\n",
              "    x.observe(notebookContainer, {childList: true});\n",
              "}}\n",
              "\n",
              "// Listen for the clearing of the current output cell\n",
              "var outputEl = gd.closest('.output');\n",
              "if (outputEl) {{\n",
              "    x.observe(outputEl, {childList: true});\n",
              "}}\n",
              "\n",
              "                        })\n",
              "                };\n",
              "                \n",
              "            </script>\n",
              "        </div>\n",
              "</body>\n",
              "</html>"
            ]
          },
          "metadata": {
            "tags": []
          }
        }
      ]
    },
    {
      "cell_type": "code",
      "metadata": {
        "colab": {
          "base_uri": "https://localhost:8080/",
          "height": 717
        },
        "id": "b6jBgquSYuw6",
        "outputId": "f7aac80f-abee-4d03-d6c7-4c8d47ce75ab"
      },
      "source": [
        "fig2 = px.bar(df, x='Kota', y=\"Jumlah Penduduk\", title = 'Jumlah Penduduk Provinsi-provinsi di Indonesia', width=1200, height=700, color=\"Kota\")\n",
        "fig2.show()"
      ],
      "execution_count": 24,
      "outputs": [
        {
          "output_type": "display_data",
          "data": {
            "text/html": [
              "<html>\n",
              "<head><meta charset=\"utf-8\" /></head>\n",
              "<body>\n",
              "    <div>\n",
              "            <script src=\"https://cdnjs.cloudflare.com/ajax/libs/mathjax/2.7.5/MathJax.js?config=TeX-AMS-MML_SVG\"></script><script type=\"text/javascript\">if (window.MathJax) {MathJax.Hub.Config({SVG: {font: \"STIX-Web\"}});}</script>\n",
              "                <script type=\"text/javascript\">window.PlotlyConfig = {MathJaxConfig: 'local'};</script>\n",
              "        <script src=\"https://cdn.plot.ly/plotly-latest.min.js\"></script>    \n",
              "            <div id=\"711a4897-1e1d-44de-81c5-272845f9b320\" class=\"plotly-graph-div\" style=\"height:700px; width:1200px;\"></div>\n",
              "            <script type=\"text/javascript\">\n",
              "                \n",
              "                    window.PLOTLYENV=window.PLOTLYENV || {};\n",
              "                    \n",
              "                if (document.getElementById(\"711a4897-1e1d-44de-81c5-272845f9b320\")) {\n",
              "                    Plotly.newPlot(\n",
              "                        '711a4897-1e1d-44de-81c5-272845f9b320',\n",
              "                        [{\"alignmentgroup\": \"True\", \"hoverlabel\": {\"namelength\": 0}, \"hovertemplate\": \"Kota=%{x}<br>Jumlah Penduduk=%{y}\", \"legendgroup\": \"Kota=Aceh\", \"marker\": {\"color\": \"#636efa\"}, \"name\": \"Kota=Aceh\", \"offsetgroup\": \"Kota=Aceh\", \"orientation\": \"v\", \"showlegend\": true, \"textposition\": \"auto\", \"type\": \"bar\", \"x\": [\"Aceh\"], \"xaxis\": \"x\", \"y\": [5274871], \"yaxis\": \"y\"}, {\"alignmentgroup\": \"True\", \"hoverlabel\": {\"namelength\": 0}, \"hovertemplate\": \"Kota=%{x}<br>Jumlah Penduduk=%{y}\", \"legendgroup\": \"Kota=Bali\", \"marker\": {\"color\": \"#EF553B\"}, \"name\": \"Kota=Bali\", \"offsetgroup\": \"Kota=Bali\", \"orientation\": \"v\", \"showlegend\": true, \"textposition\": \"auto\", \"type\": \"bar\", \"x\": [\"Bali\"], \"xaxis\": \"x\", \"y\": [4317404], \"yaxis\": \"y\"}, {\"alignmentgroup\": \"True\", \"hoverlabel\": {\"namelength\": 0}, \"hovertemplate\": \"Kota=%{x}<br>Jumlah Penduduk=%{y}\", \"legendgroup\": \"Kota=Bangka Belitung\", \"marker\": {\"color\": \"#00cc96\"}, \"name\": \"Kota=Bangka Belitung\", \"offsetgroup\": \"Kota=Bangka Belitung\", \"orientation\": \"v\", \"showlegend\": true, \"textposition\": \"auto\", \"type\": \"bar\", \"x\": [\"Bangka Belitung\"], \"xaxis\": \"x\", \"y\": [1455678], \"yaxis\": \"y\"}, {\"alignmentgroup\": \"True\", \"hoverlabel\": {\"namelength\": 0}, \"hovertemplate\": \"Kota=%{x}<br>Jumlah Penduduk=%{y}\", \"legendgroup\": \"Kota=Banten\", \"marker\": {\"color\": \"#ab63fa\"}, \"name\": \"Kota=Banten\", \"offsetgroup\": \"Kota=Banten\", \"orientation\": \"v\", \"showlegend\": true, \"textposition\": \"auto\", \"type\": \"bar\", \"x\": [\"Banten\"], \"xaxis\": \"x\", \"y\": [11904562], \"yaxis\": \"y\"}, {\"alignmentgroup\": \"True\", \"hoverlabel\": {\"namelength\": 0}, \"hovertemplate\": \"Kota=%{x}<br>Jumlah Penduduk=%{y}\", \"legendgroup\": \"Kota=Bengkulu\", \"marker\": {\"color\": \"#FFA15A\"}, \"name\": \"Kota=Bengkulu\", \"offsetgroup\": \"Kota=Bengkulu\", \"orientation\": \"v\", \"showlegend\": true, \"textposition\": \"auto\", \"type\": \"bar\", \"x\": [\"Bengkulu\"], \"xaxis\": \"x\", \"y\": [2010670], \"yaxis\": \"y\"}, {\"alignmentgroup\": \"True\", \"hoverlabel\": {\"namelength\": 0}, \"hovertemplate\": \"Kota=%{x}<br>Jumlah Penduduk=%{y}\", \"legendgroup\": \"Kota=Gorontalo\", \"marker\": {\"color\": \"#19d3f3\"}, \"name\": \"Kota=Gorontalo\", \"offsetgroup\": \"Kota=Gorontalo\", \"orientation\": \"v\", \"showlegend\": true, \"textposition\": \"auto\", \"type\": \"bar\", \"x\": [\"Gorontalo\"], \"xaxis\": \"x\", \"y\": [1171681], \"yaxis\": \"y\"}, {\"alignmentgroup\": \"True\", \"hoverlabel\": {\"namelength\": 0}, \"hovertemplate\": \"Kota=%{x}<br>Jumlah Penduduk=%{y}\", \"legendgroup\": \"Kota=Jakarta\", \"marker\": {\"color\": \"#FF6692\"}, \"name\": \"Kota=Jakarta\", \"offsetgroup\": \"Kota=Jakarta\", \"orientation\": \"v\", \"showlegend\": true, \"textposition\": \"auto\", \"type\": \"bar\", \"x\": [\"Jakarta\"], \"xaxis\": \"x\", \"y\": [10562088], \"yaxis\": \"y\"}, {\"alignmentgroup\": \"True\", \"hoverlabel\": {\"namelength\": 0}, \"hovertemplate\": \"Kota=%{x}<br>Jumlah Penduduk=%{y}\", \"legendgroup\": \"Kota=Jambi\", \"marker\": {\"color\": \"#B6E880\"}, \"name\": \"Kota=Jambi\", \"offsetgroup\": \"Kota=Jambi\", \"orientation\": \"v\", \"showlegend\": true, \"textposition\": \"auto\", \"type\": \"bar\", \"x\": [\"Jambi\"], \"xaxis\": \"x\", \"y\": [3548228], \"yaxis\": \"y\"}, {\"alignmentgroup\": \"True\", \"hoverlabel\": {\"namelength\": 0}, \"hovertemplate\": \"Kota=%{x}<br>Jumlah Penduduk=%{y}\", \"legendgroup\": \"Kota=Jawa Barat\", \"marker\": {\"color\": \"#FF97FF\"}, \"name\": \"Kota=Jawa Barat\", \"offsetgroup\": \"Kota=Jawa Barat\", \"orientation\": \"v\", \"showlegend\": true, \"textposition\": \"auto\", \"type\": \"bar\", \"x\": [\"Jawa Barat\"], \"xaxis\": \"x\", \"y\": [48274162], \"yaxis\": \"y\"}, {\"alignmentgroup\": \"True\", \"hoverlabel\": {\"namelength\": 0}, \"hovertemplate\": \"Kota=%{x}<br>Jumlah Penduduk=%{y}\", \"legendgroup\": \"Kota=Jawa Timur\", \"marker\": {\"color\": \"#FECB52\"}, \"name\": \"Kota=Jawa Timur\", \"offsetgroup\": \"Kota=Jawa Timur\", \"orientation\": \"v\", \"showlegend\": true, \"textposition\": \"auto\", \"type\": \"bar\", \"x\": [\"Jawa Timur\"], \"xaxis\": \"x\", \"y\": [40665696], \"yaxis\": \"y\"}, {\"alignmentgroup\": \"True\", \"hoverlabel\": {\"namelength\": 0}, \"hovertemplate\": \"Kota=%{x}<br>Jumlah Penduduk=%{y}\", \"legendgroup\": \"Kota=Jawa tengah\", \"marker\": {\"color\": \"#636efa\"}, \"name\": \"Kota=Jawa tengah\", \"offsetgroup\": \"Kota=Jawa tengah\", \"orientation\": \"v\", \"showlegend\": true, \"textposition\": \"auto\", \"type\": \"bar\", \"x\": [\"Jawa tengah\"], \"xaxis\": \"x\", \"y\": [36516035], \"yaxis\": \"y\"}, {\"alignmentgroup\": \"True\", \"hoverlabel\": {\"namelength\": 0}, \"hovertemplate\": \"Kota=%{x}<br>Jumlah Penduduk=%{y}\", \"legendgroup\": \"Kota=Kalimantan Barat\", \"marker\": {\"color\": \"#EF553B\"}, \"name\": \"Kota=Kalimantan Barat\", \"offsetgroup\": \"Kota=Kalimantan Barat\", \"orientation\": \"v\", \"showlegend\": true, \"textposition\": \"auto\", \"type\": \"bar\", \"x\": [\"Kalimantan Barat\"], \"xaxis\": \"x\", \"y\": [5414390], \"yaxis\": \"y\"}, {\"alignmentgroup\": \"True\", \"hoverlabel\": {\"namelength\": 0}, \"hovertemplate\": \"Kota=%{x}<br>Jumlah Penduduk=%{y}\", \"legendgroup\": \"Kota=Kalimantan Selatan\", \"marker\": {\"color\": \"#00cc96\"}, \"name\": \"Kota=Kalimantan Selatan\", \"offsetgroup\": \"Kota=Kalimantan Selatan\", \"orientation\": \"v\", \"showlegend\": true, \"textposition\": \"auto\", \"type\": \"bar\", \"x\": [\"Kalimantan Selatan\"], \"xaxis\": \"x\", \"y\": [4073584], \"yaxis\": \"y\"}, {\"alignmentgroup\": \"True\", \"hoverlabel\": {\"namelength\": 0}, \"hovertemplate\": \"Kota=%{x}<br>Jumlah Penduduk=%{y}\", \"legendgroup\": \"Kota=Kalimantan Tengah\", \"marker\": {\"color\": \"#ab63fa\"}, \"name\": \"Kota=Kalimantan Tengah\", \"offsetgroup\": \"Kota=Kalimantan Tengah\", \"orientation\": \"v\", \"showlegend\": true, \"textposition\": \"auto\", \"type\": \"bar\", \"x\": [\"Kalimantan Tengah\"], \"xaxis\": \"x\", \"y\": [2669969], \"yaxis\": \"y\"}, {\"alignmentgroup\": \"True\", \"hoverlabel\": {\"namelength\": 0}, \"hovertemplate\": \"Kota=%{x}<br>Jumlah Penduduk=%{y}\", \"legendgroup\": \"Kota=Kalimantan Timur\", \"marker\": {\"color\": \"#FFA15A\"}, \"name\": \"Kota=Kalimantan Timur\", \"offsetgroup\": \"Kota=Kalimantan Timur\", \"orientation\": \"v\", \"showlegend\": true, \"textposition\": \"auto\", \"type\": \"bar\", \"x\": [\"Kalimantan Timur\"], \"xaxis\": \"x\", \"y\": [3766039], \"yaxis\": \"y\"}, {\"alignmentgroup\": \"True\", \"hoverlabel\": {\"namelength\": 0}, \"hovertemplate\": \"Kota=%{x}<br>Jumlah Penduduk=%{y}\", \"legendgroup\": \"Kota=Kalimantan Utara\", \"marker\": {\"color\": \"#19d3f3\"}, \"name\": \"Kota=Kalimantan Utara\", \"offsetgroup\": \"Kota=Kalimantan Utara\", \"orientation\": \"v\", \"showlegend\": true, \"textposition\": \"auto\", \"type\": \"bar\", \"x\": [\"Kalimantan Utara\"], \"xaxis\": \"x\", \"y\": [701814], \"yaxis\": \"y\"}, {\"alignmentgroup\": \"True\", \"hoverlabel\": {\"namelength\": 0}, \"hovertemplate\": \"Kota=%{x}<br>Jumlah Penduduk=%{y}\", \"legendgroup\": \"Kota=Kep. Riau\", \"marker\": {\"color\": \"#FF6692\"}, \"name\": \"Kota=Kep. Riau\", \"offsetgroup\": \"Kota=Kep. Riau\", \"orientation\": \"v\", \"showlegend\": true, \"textposition\": \"auto\", \"type\": \"bar\", \"x\": [\"Kep. Riau\"], \"xaxis\": \"x\", \"y\": [2064564], \"yaxis\": \"y\"}, {\"alignmentgroup\": \"True\", \"hoverlabel\": {\"namelength\": 0}, \"hovertemplate\": \"Kota=%{x}<br>Jumlah Penduduk=%{y}\", \"legendgroup\": \"Kota=Lampung\", \"marker\": {\"color\": \"#B6E880\"}, \"name\": \"Kota=Lampung\", \"offsetgroup\": \"Kota=Lampung\", \"orientation\": \"v\", \"showlegend\": true, \"textposition\": \"auto\", \"type\": \"bar\", \"x\": [\"Lampung\"], \"xaxis\": \"x\", \"y\": [9007848], \"yaxis\": \"y\"}, {\"alignmentgroup\": \"True\", \"hoverlabel\": {\"namelength\": 0}, \"hovertemplate\": \"Kota=%{x}<br>Jumlah Penduduk=%{y}\", \"legendgroup\": \"Kota=Maluku\", \"marker\": {\"color\": \"#FF97FF\"}, \"name\": \"Kota=Maluku\", \"offsetgroup\": \"Kota=Maluku\", \"orientation\": \"v\", \"showlegend\": true, \"textposition\": \"auto\", \"type\": \"bar\", \"x\": [\"Maluku\"], \"xaxis\": \"x\", \"y\": [1848923], \"yaxis\": \"y\"}, {\"alignmentgroup\": \"True\", \"hoverlabel\": {\"namelength\": 0}, \"hovertemplate\": \"Kota=%{x}<br>Jumlah Penduduk=%{y}\", \"legendgroup\": \"Kota=NTB\", \"marker\": {\"color\": \"#FECB52\"}, \"name\": \"Kota=NTB\", \"offsetgroup\": \"Kota=NTB\", \"orientation\": \"v\", \"showlegend\": true, \"textposition\": \"auto\", \"type\": \"bar\", \"x\": [\"NTB\"], \"xaxis\": \"x\", \"y\": [5320092], \"yaxis\": \"y\"}, {\"alignmentgroup\": \"True\", \"hoverlabel\": {\"namelength\": 0}, \"hovertemplate\": \"Kota=%{x}<br>Jumlah Penduduk=%{y}\", \"legendgroup\": \"Kota=NTT\", \"marker\": {\"color\": \"#636efa\"}, \"name\": \"Kota=NTT\", \"offsetgroup\": \"Kota=NTT\", \"orientation\": \"v\", \"showlegend\": true, \"textposition\": \"auto\", \"type\": \"bar\", \"x\": [\"NTT\"], \"xaxis\": \"x\", \"y\": [5325566], \"yaxis\": \"y\"}, {\"alignmentgroup\": \"True\", \"hoverlabel\": {\"namelength\": 0}, \"hovertemplate\": \"Kota=%{x}<br>Jumlah Penduduk=%{y}\", \"legendgroup\": \"Kota=Papua\", \"marker\": {\"color\": \"#EF553B\"}, \"name\": \"Kota=Papua\", \"offsetgroup\": \"Kota=Papua\", \"orientation\": \"v\", \"showlegend\": true, \"textposition\": \"auto\", \"type\": \"bar\", \"x\": [\"Papua\"], \"xaxis\": \"x\", \"y\": [4303707], \"yaxis\": \"y\"}, {\"alignmentgroup\": \"True\", \"hoverlabel\": {\"namelength\": 0}, \"hovertemplate\": \"Kota=%{x}<br>Jumlah Penduduk=%{y}\", \"legendgroup\": \"Kota=Papua Barat\", \"marker\": {\"color\": \"#00cc96\"}, \"name\": \"Kota=Papua Barat\", \"offsetgroup\": \"Kota=Papua Barat\", \"orientation\": \"v\", \"showlegend\": true, \"textposition\": \"auto\", \"type\": \"bar\", \"x\": [\"Papua Barat\"], \"xaxis\": \"x\", \"y\": [1134068], \"yaxis\": \"y\"}, {\"alignmentgroup\": \"True\", \"hoverlabel\": {\"namelength\": 0}, \"hovertemplate\": \"Kota=%{x}<br>Jumlah Penduduk=%{y}\", \"legendgroup\": \"Kota=Riau\", \"marker\": {\"color\": \"#ab63fa\"}, \"name\": \"Kota=Riau\", \"offsetgroup\": \"Kota=Riau\", \"orientation\": \"v\", \"showlegend\": true, \"textposition\": \"auto\", \"type\": \"bar\", \"x\": [\"Riau\"], \"xaxis\": \"x\", \"y\": [6394087], \"yaxis\": \"y\"}, {\"alignmentgroup\": \"True\", \"hoverlabel\": {\"namelength\": 0}, \"hovertemplate\": \"Kota=%{x}<br>Jumlah Penduduk=%{y}\", \"legendgroup\": \"Kota=Sulawesi Barat\", \"marker\": {\"color\": \"#FFA15A\"}, \"name\": \"Kota=Sulawesi Barat\", \"offsetgroup\": \"Kota=Sulawesi Barat\", \"orientation\": \"v\", \"showlegend\": true, \"textposition\": \"auto\", \"type\": \"bar\", \"x\": [\"Sulawesi Barat\"], \"xaxis\": \"x\", \"y\": [1419229], \"yaxis\": \"y\"}, {\"alignmentgroup\": \"True\", \"hoverlabel\": {\"namelength\": 0}, \"hovertemplate\": \"Kota=%{x}<br>Jumlah Penduduk=%{y}\", \"legendgroup\": \"Kota=Sulawesi Selatan\", \"marker\": {\"color\": \"#19d3f3\"}, \"name\": \"Kota=Sulawesi Selatan\", \"offsetgroup\": \"Kota=Sulawesi Selatan\", \"orientation\": \"v\", \"showlegend\": true, \"textposition\": \"auto\", \"type\": \"bar\", \"x\": [\"Sulawesi Selatan\"], \"xaxis\": \"x\", \"y\": [9073509], \"yaxis\": \"y\"}, {\"alignmentgroup\": \"True\", \"hoverlabel\": {\"namelength\": 0}, \"hovertemplate\": \"Kota=%{x}<br>Jumlah Penduduk=%{y}\", \"legendgroup\": \"Kota=Sulawesi Tengah\", \"marker\": {\"color\": \"#FF6692\"}, \"name\": \"Kota=Sulawesi Tengah\", \"offsetgroup\": \"Kota=Sulawesi Tengah\", \"orientation\": \"v\", \"showlegend\": true, \"textposition\": \"auto\", \"type\": \"bar\", \"x\": [\"Sulawesi Tengah\"], \"xaxis\": \"x\", \"y\": [2985734], \"yaxis\": \"y\"}, {\"alignmentgroup\": \"True\", \"hoverlabel\": {\"namelength\": 0}, \"hovertemplate\": \"Kota=%{x}<br>Jumlah Penduduk=%{y}\", \"legendgroup\": \"Kota=Sulawesi Tenggara\", \"marker\": {\"color\": \"#B6E880\"}, \"name\": \"Kota=Sulawesi Tenggara\", \"offsetgroup\": \"Kota=Sulawesi Tenggara\", \"orientation\": \"v\", \"showlegend\": true, \"textposition\": \"auto\", \"type\": \"bar\", \"x\": [\"Sulawesi Tenggara\"], \"xaxis\": \"x\", \"y\": [2624875], \"yaxis\": \"y\"}, {\"alignmentgroup\": \"True\", \"hoverlabel\": {\"namelength\": 0}, \"hovertemplate\": \"Kota=%{x}<br>Jumlah Penduduk=%{y}\", \"legendgroup\": \"Kota=Sulawesi Utara\", \"marker\": {\"color\": \"#FF97FF\"}, \"name\": \"Kota=Sulawesi Utara\", \"offsetgroup\": \"Kota=Sulawesi Utara\", \"orientation\": \"v\", \"showlegend\": true, \"textposition\": \"auto\", \"type\": \"bar\", \"x\": [\"Sulawesi Utara\"], \"xaxis\": \"x\", \"y\": [2621923], \"yaxis\": \"y\"}, {\"alignmentgroup\": \"True\", \"hoverlabel\": {\"namelength\": 0}, \"hovertemplate\": \"Kota=%{x}<br>Jumlah Penduduk=%{y}\", \"legendgroup\": \"Kota=Sumatera Barat\", \"marker\": {\"color\": \"#FECB52\"}, \"name\": \"Kota=Sumatera Barat\", \"offsetgroup\": \"Kota=Sumatera Barat\", \"orientation\": \"v\", \"showlegend\": true, \"textposition\": \"auto\", \"type\": \"bar\", \"x\": [\"Sumatera Barat\"], \"xaxis\": \"x\", \"y\": [5534472], \"yaxis\": \"y\"}, {\"alignmentgroup\": \"True\", \"hoverlabel\": {\"namelength\": 0}, \"hovertemplate\": \"Kota=%{x}<br>Jumlah Penduduk=%{y}\", \"legendgroup\": \"Kota=Sumatera Selatan\", \"marker\": {\"color\": \"#636efa\"}, \"name\": \"Kota=Sumatera Selatan\", \"offsetgroup\": \"Kota=Sumatera Selatan\", \"orientation\": \"v\", \"showlegend\": true, \"textposition\": \"auto\", \"type\": \"bar\", \"x\": [\"Sumatera Selatan\"], \"xaxis\": \"x\", \"y\": [8467432], \"yaxis\": \"y\"}, {\"alignmentgroup\": \"True\", \"hoverlabel\": {\"namelength\": 0}, \"hovertemplate\": \"Kota=%{x}<br>Jumlah Penduduk=%{y}\", \"legendgroup\": \"Kota=Sumatera Utara\", \"marker\": {\"color\": \"#EF553B\"}, \"name\": \"Kota=Sumatera Utara\", \"offsetgroup\": \"Kota=Sumatera Utara\", \"orientation\": \"v\", \"showlegend\": true, \"textposition\": \"auto\", \"type\": \"bar\", \"x\": [\"Sumatera Utara\"], \"xaxis\": \"x\", \"y\": [14799361], \"yaxis\": \"y\"}, {\"alignmentgroup\": \"True\", \"hoverlabel\": {\"namelength\": 0}, \"hovertemplate\": \"Kota=%{x}<br>Jumlah Penduduk=%{y}\", \"legendgroup\": \"Kota=yogyakarta\", \"marker\": {\"color\": \"#00cc96\"}, \"name\": \"Kota=yogyakarta\", \"offsetgroup\": \"Kota=yogyakarta\", \"orientation\": \"v\", \"showlegend\": true, \"textposition\": \"auto\", \"type\": \"bar\", \"x\": [\"yogyakarta\"], \"xaxis\": \"x\", \"y\": [3668719], \"yaxis\": \"y\"}],\n",
              "                        {\"barmode\": \"relative\", \"height\": 700, \"legend\": {\"tracegroupgap\": 0}, \"template\": {\"data\": {\"bar\": [{\"error_x\": {\"color\": \"#2a3f5f\"}, \"error_y\": {\"color\": \"#2a3f5f\"}, \"marker\": {\"line\": {\"color\": \"#E5ECF6\", \"width\": 0.5}}, \"type\": \"bar\"}], \"barpolar\": [{\"marker\": {\"line\": {\"color\": \"#E5ECF6\", \"width\": 0.5}}, \"type\": \"barpolar\"}], \"carpet\": [{\"aaxis\": {\"endlinecolor\": \"#2a3f5f\", \"gridcolor\": \"white\", \"linecolor\": \"white\", \"minorgridcolor\": \"white\", \"startlinecolor\": \"#2a3f5f\"}, \"baxis\": {\"endlinecolor\": \"#2a3f5f\", \"gridcolor\": \"white\", \"linecolor\": \"white\", \"minorgridcolor\": \"white\", \"startlinecolor\": \"#2a3f5f\"}, \"type\": \"carpet\"}], \"choropleth\": [{\"colorbar\": {\"outlinewidth\": 0, \"ticks\": \"\"}, \"type\": \"choropleth\"}], \"contour\": [{\"colorbar\": {\"outlinewidth\": 0, \"ticks\": \"\"}, \"colorscale\": [[0.0, \"#0d0887\"], [0.1111111111111111, \"#46039f\"], [0.2222222222222222, \"#7201a8\"], [0.3333333333333333, \"#9c179e\"], [0.4444444444444444, \"#bd3786\"], [0.5555555555555556, \"#d8576b\"], [0.6666666666666666, \"#ed7953\"], [0.7777777777777778, \"#fb9f3a\"], [0.8888888888888888, \"#fdca26\"], [1.0, \"#f0f921\"]], \"type\": \"contour\"}], \"contourcarpet\": [{\"colorbar\": {\"outlinewidth\": 0, \"ticks\": \"\"}, \"type\": \"contourcarpet\"}], \"heatmap\": [{\"colorbar\": {\"outlinewidth\": 0, \"ticks\": \"\"}, \"colorscale\": [[0.0, \"#0d0887\"], [0.1111111111111111, \"#46039f\"], [0.2222222222222222, \"#7201a8\"], [0.3333333333333333, \"#9c179e\"], [0.4444444444444444, \"#bd3786\"], [0.5555555555555556, \"#d8576b\"], [0.6666666666666666, \"#ed7953\"], [0.7777777777777778, \"#fb9f3a\"], [0.8888888888888888, \"#fdca26\"], [1.0, \"#f0f921\"]], \"type\": \"heatmap\"}], \"heatmapgl\": [{\"colorbar\": {\"outlinewidth\": 0, \"ticks\": \"\"}, \"colorscale\": [[0.0, \"#0d0887\"], [0.1111111111111111, \"#46039f\"], [0.2222222222222222, \"#7201a8\"], [0.3333333333333333, \"#9c179e\"], [0.4444444444444444, \"#bd3786\"], [0.5555555555555556, \"#d8576b\"], [0.6666666666666666, \"#ed7953\"], [0.7777777777777778, \"#fb9f3a\"], [0.8888888888888888, \"#fdca26\"], [1.0, \"#f0f921\"]], \"type\": \"heatmapgl\"}], \"histogram\": [{\"marker\": {\"colorbar\": {\"outlinewidth\": 0, \"ticks\": \"\"}}, \"type\": \"histogram\"}], \"histogram2d\": [{\"colorbar\": {\"outlinewidth\": 0, \"ticks\": \"\"}, \"colorscale\": [[0.0, \"#0d0887\"], [0.1111111111111111, \"#46039f\"], [0.2222222222222222, \"#7201a8\"], [0.3333333333333333, \"#9c179e\"], [0.4444444444444444, \"#bd3786\"], [0.5555555555555556, \"#d8576b\"], [0.6666666666666666, \"#ed7953\"], [0.7777777777777778, \"#fb9f3a\"], [0.8888888888888888, \"#fdca26\"], [1.0, \"#f0f921\"]], \"type\": \"histogram2d\"}], \"histogram2dcontour\": [{\"colorbar\": {\"outlinewidth\": 0, \"ticks\": \"\"}, \"colorscale\": [[0.0, \"#0d0887\"], [0.1111111111111111, \"#46039f\"], [0.2222222222222222, \"#7201a8\"], [0.3333333333333333, \"#9c179e\"], [0.4444444444444444, \"#bd3786\"], [0.5555555555555556, \"#d8576b\"], [0.6666666666666666, \"#ed7953\"], [0.7777777777777778, \"#fb9f3a\"], [0.8888888888888888, \"#fdca26\"], [1.0, \"#f0f921\"]], \"type\": \"histogram2dcontour\"}], \"mesh3d\": [{\"colorbar\": {\"outlinewidth\": 0, \"ticks\": \"\"}, \"type\": \"mesh3d\"}], \"parcoords\": [{\"line\": {\"colorbar\": {\"outlinewidth\": 0, \"ticks\": \"\"}}, \"type\": \"parcoords\"}], \"pie\": [{\"automargin\": true, \"type\": \"pie\"}], \"scatter\": [{\"marker\": {\"colorbar\": {\"outlinewidth\": 0, \"ticks\": \"\"}}, \"type\": \"scatter\"}], \"scatter3d\": [{\"line\": {\"colorbar\": {\"outlinewidth\": 0, \"ticks\": \"\"}}, \"marker\": {\"colorbar\": {\"outlinewidth\": 0, \"ticks\": \"\"}}, \"type\": \"scatter3d\"}], \"scattercarpet\": [{\"marker\": {\"colorbar\": {\"outlinewidth\": 0, \"ticks\": \"\"}}, \"type\": \"scattercarpet\"}], \"scattergeo\": [{\"marker\": {\"colorbar\": {\"outlinewidth\": 0, \"ticks\": \"\"}}, \"type\": \"scattergeo\"}], \"scattergl\": [{\"marker\": {\"colorbar\": {\"outlinewidth\": 0, \"ticks\": \"\"}}, \"type\": \"scattergl\"}], \"scattermapbox\": [{\"marker\": {\"colorbar\": {\"outlinewidth\": 0, \"ticks\": \"\"}}, \"type\": \"scattermapbox\"}], \"scatterpolar\": [{\"marker\": {\"colorbar\": {\"outlinewidth\": 0, \"ticks\": \"\"}}, \"type\": \"scatterpolar\"}], \"scatterpolargl\": [{\"marker\": {\"colorbar\": {\"outlinewidth\": 0, \"ticks\": \"\"}}, \"type\": \"scatterpolargl\"}], \"scatterternary\": [{\"marker\": {\"colorbar\": {\"outlinewidth\": 0, \"ticks\": \"\"}}, \"type\": \"scatterternary\"}], \"surface\": [{\"colorbar\": {\"outlinewidth\": 0, \"ticks\": \"\"}, \"colorscale\": [[0.0, \"#0d0887\"], [0.1111111111111111, \"#46039f\"], [0.2222222222222222, \"#7201a8\"], [0.3333333333333333, \"#9c179e\"], [0.4444444444444444, \"#bd3786\"], [0.5555555555555556, \"#d8576b\"], [0.6666666666666666, \"#ed7953\"], [0.7777777777777778, \"#fb9f3a\"], [0.8888888888888888, \"#fdca26\"], [1.0, \"#f0f921\"]], \"type\": \"surface\"}], \"table\": [{\"cells\": {\"fill\": {\"color\": \"#EBF0F8\"}, \"line\": {\"color\": \"white\"}}, \"header\": {\"fill\": {\"color\": \"#C8D4E3\"}, \"line\": {\"color\": \"white\"}}, \"type\": \"table\"}]}, \"layout\": {\"annotationdefaults\": {\"arrowcolor\": \"#2a3f5f\", \"arrowhead\": 0, \"arrowwidth\": 1}, \"coloraxis\": {\"colorbar\": {\"outlinewidth\": 0, \"ticks\": \"\"}}, \"colorscale\": {\"diverging\": [[0, \"#8e0152\"], [0.1, \"#c51b7d\"], [0.2, \"#de77ae\"], [0.3, \"#f1b6da\"], [0.4, \"#fde0ef\"], [0.5, \"#f7f7f7\"], [0.6, \"#e6f5d0\"], [0.7, \"#b8e186\"], [0.8, \"#7fbc41\"], [0.9, \"#4d9221\"], [1, \"#276419\"]], \"sequential\": [[0.0, \"#0d0887\"], [0.1111111111111111, \"#46039f\"], [0.2222222222222222, \"#7201a8\"], [0.3333333333333333, \"#9c179e\"], [0.4444444444444444, \"#bd3786\"], [0.5555555555555556, \"#d8576b\"], [0.6666666666666666, \"#ed7953\"], [0.7777777777777778, \"#fb9f3a\"], [0.8888888888888888, \"#fdca26\"], [1.0, \"#f0f921\"]], \"sequentialminus\": [[0.0, \"#0d0887\"], [0.1111111111111111, \"#46039f\"], [0.2222222222222222, \"#7201a8\"], [0.3333333333333333, \"#9c179e\"], [0.4444444444444444, \"#bd3786\"], [0.5555555555555556, \"#d8576b\"], [0.6666666666666666, \"#ed7953\"], [0.7777777777777778, \"#fb9f3a\"], [0.8888888888888888, \"#fdca26\"], [1.0, \"#f0f921\"]]}, \"colorway\": [\"#636efa\", \"#EF553B\", \"#00cc96\", \"#ab63fa\", \"#FFA15A\", \"#19d3f3\", \"#FF6692\", \"#B6E880\", \"#FF97FF\", \"#FECB52\"], \"font\": {\"color\": \"#2a3f5f\"}, \"geo\": {\"bgcolor\": \"white\", \"lakecolor\": \"white\", \"landcolor\": \"#E5ECF6\", \"showlakes\": true, \"showland\": true, \"subunitcolor\": \"white\"}, \"hoverlabel\": {\"align\": \"left\"}, \"hovermode\": \"closest\", \"mapbox\": {\"style\": \"light\"}, \"paper_bgcolor\": \"white\", \"plot_bgcolor\": \"#E5ECF6\", \"polar\": {\"angularaxis\": {\"gridcolor\": \"white\", \"linecolor\": \"white\", \"ticks\": \"\"}, \"bgcolor\": \"#E5ECF6\", \"radialaxis\": {\"gridcolor\": \"white\", \"linecolor\": \"white\", \"ticks\": \"\"}}, \"scene\": {\"xaxis\": {\"backgroundcolor\": \"#E5ECF6\", \"gridcolor\": \"white\", \"gridwidth\": 2, \"linecolor\": \"white\", \"showbackground\": true, \"ticks\": \"\", \"zerolinecolor\": \"white\"}, \"yaxis\": {\"backgroundcolor\": \"#E5ECF6\", \"gridcolor\": \"white\", \"gridwidth\": 2, \"linecolor\": \"white\", \"showbackground\": true, \"ticks\": \"\", \"zerolinecolor\": \"white\"}, \"zaxis\": {\"backgroundcolor\": \"#E5ECF6\", \"gridcolor\": \"white\", \"gridwidth\": 2, \"linecolor\": \"white\", \"showbackground\": true, \"ticks\": \"\", \"zerolinecolor\": \"white\"}}, \"shapedefaults\": {\"line\": {\"color\": \"#2a3f5f\"}}, \"ternary\": {\"aaxis\": {\"gridcolor\": \"white\", \"linecolor\": \"white\", \"ticks\": \"\"}, \"baxis\": {\"gridcolor\": \"white\", \"linecolor\": \"white\", \"ticks\": \"\"}, \"bgcolor\": \"#E5ECF6\", \"caxis\": {\"gridcolor\": \"white\", \"linecolor\": \"white\", \"ticks\": \"\"}}, \"title\": {\"x\": 0.05}, \"xaxis\": {\"automargin\": true, \"gridcolor\": \"white\", \"linecolor\": \"white\", \"ticks\": \"\", \"title\": {\"standoff\": 15}, \"zerolinecolor\": \"white\", \"zerolinewidth\": 2}, \"yaxis\": {\"automargin\": true, \"gridcolor\": \"white\", \"linecolor\": \"white\", \"ticks\": \"\", \"title\": {\"standoff\": 15}, \"zerolinecolor\": \"white\", \"zerolinewidth\": 2}}}, \"title\": {\"text\": \"Jumlah Penduduk Provinsi-provinsi di Indonesia\"}, \"width\": 1200, \"xaxis\": {\"anchor\": \"y\", \"categoryarray\": [\"Aceh\", \"Bali\", \"Bangka Belitung\", \"Banten\", \"Bengkulu\", \"Gorontalo\", \"Jakarta\", \"Jambi\", \"Jawa Barat\", \"Jawa Timur\", \"Jawa tengah\", \"Kalimantan Barat\", \"Kalimantan Selatan\", \"Kalimantan Tengah\", \"Kalimantan Timur\", \"Kalimantan Utara\", \"Kep. Riau\", \"Lampung\", \"Maluku\", \"NTB\", \"NTT\", \"Papua\", \"Papua Barat\", \"Riau\", \"Sulawesi Barat\", \"Sulawesi Selatan\", \"Sulawesi Tengah\", \"Sulawesi Tenggara\", \"Sulawesi Utara\", \"Sumatera Barat\", \"Sumatera Selatan\", \"Sumatera Utara\", \"yogyakarta\"], \"categoryorder\": \"array\", \"domain\": [0.0, 1.0], \"title\": {\"text\": \"Kota\"}}, \"yaxis\": {\"anchor\": \"x\", \"domain\": [0.0, 1.0], \"title\": {\"text\": \"Jumlah Penduduk\"}}},\n",
              "                        {\"responsive\": true}\n",
              "                    ).then(function(){\n",
              "                            \n",
              "var gd = document.getElementById('711a4897-1e1d-44de-81c5-272845f9b320');\n",
              "var x = new MutationObserver(function (mutations, observer) {{\n",
              "        var display = window.getComputedStyle(gd).display;\n",
              "        if (!display || display === 'none') {{\n",
              "            console.log([gd, 'removed!']);\n",
              "            Plotly.purge(gd);\n",
              "            observer.disconnect();\n",
              "        }}\n",
              "}});\n",
              "\n",
              "// Listen for the removal of the full notebook cells\n",
              "var notebookContainer = gd.closest('#notebook-container');\n",
              "if (notebookContainer) {{\n",
              "    x.observe(notebookContainer, {childList: true});\n",
              "}}\n",
              "\n",
              "// Listen for the clearing of the current output cell\n",
              "var outputEl = gd.closest('.output');\n",
              "if (outputEl) {{\n",
              "    x.observe(outputEl, {childList: true});\n",
              "}}\n",
              "\n",
              "                        })\n",
              "                };\n",
              "                \n",
              "            </script>\n",
              "        </div>\n",
              "</body>\n",
              "</html>"
            ]
          },
          "metadata": {
            "tags": []
          }
        }
      ]
    },
    {
      "cell_type": "code",
      "metadata": {
        "colab": {
          "base_uri": "https://localhost:8080/",
          "height": 542
        },
        "id": "Glbb4moLaEYH",
        "outputId": "488e2fd5-9db4-4986-ec35-98c40ce1b5d8"
      },
      "source": [
        "fig3 = px.scatter(df, x=\"Luas Daerah\", y=\"Jumlah Penduduk\", color=\"Kota\")\n",
        "fig3.show()"
      ],
      "execution_count": 25,
      "outputs": [
        {
          "output_type": "display_data",
          "data": {
            "text/html": [
              "<html>\n",
              "<head><meta charset=\"utf-8\" /></head>\n",
              "<body>\n",
              "    <div>\n",
              "            <script src=\"https://cdnjs.cloudflare.com/ajax/libs/mathjax/2.7.5/MathJax.js?config=TeX-AMS-MML_SVG\"></script><script type=\"text/javascript\">if (window.MathJax) {MathJax.Hub.Config({SVG: {font: \"STIX-Web\"}});}</script>\n",
              "                <script type=\"text/javascript\">window.PlotlyConfig = {MathJaxConfig: 'local'};</script>\n",
              "        <script src=\"https://cdn.plot.ly/plotly-latest.min.js\"></script>    \n",
              "            <div id=\"f994fa51-b569-4a6f-8d9c-56890225d4f0\" class=\"plotly-graph-div\" style=\"height:525px; width:100%;\"></div>\n",
              "            <script type=\"text/javascript\">\n",
              "                \n",
              "                    window.PLOTLYENV=window.PLOTLYENV || {};\n",
              "                    \n",
              "                if (document.getElementById(\"f994fa51-b569-4a6f-8d9c-56890225d4f0\")) {\n",
              "                    Plotly.newPlot(\n",
              "                        'f994fa51-b569-4a6f-8d9c-56890225d4f0',\n",
              "                        [{\"hoverlabel\": {\"namelength\": 0}, \"hovertemplate\": \"Kota=Aceh<br>Luas Daerah=%{x}<br>Jumlah Penduduk=%{y}\", \"legendgroup\": \"Kota=Aceh\", \"marker\": {\"color\": \"#636efa\", \"symbol\": \"circle\"}, \"mode\": \"markers\", \"name\": \"Kota=Aceh\", \"showlegend\": true, \"type\": \"scatter\", \"x\": [57956.0], \"xaxis\": \"x\", \"y\": [5274871], \"yaxis\": \"y\"}, {\"hoverlabel\": {\"namelength\": 0}, \"hovertemplate\": \"Kota=Bali<br>Luas Daerah=%{x}<br>Jumlah Penduduk=%{y}\", \"legendgroup\": \"Kota=Bali\", \"marker\": {\"color\": \"#EF553B\", \"symbol\": \"circle\"}, \"mode\": \"markers\", \"name\": \"Kota=Bali\", \"showlegend\": true, \"type\": \"scatter\", \"x\": [5780.059999999999], \"xaxis\": \"x\", \"y\": [4317404], \"yaxis\": \"y\"}, {\"hoverlabel\": {\"namelength\": 0}, \"hovertemplate\": \"Kota=Bangka Belitung<br>Luas Daerah=%{x}<br>Jumlah Penduduk=%{y}\", \"legendgroup\": \"Kota=Bangka Belitung\", \"marker\": {\"color\": \"#00cc96\", \"symbol\": \"circle\"}, \"mode\": \"markers\", \"name\": \"Kota=Bangka Belitung\", \"showlegend\": true, \"type\": \"scatter\", \"x\": [16424.06], \"xaxis\": \"x\", \"y\": [1455678], \"yaxis\": \"y\"}, {\"hoverlabel\": {\"namelength\": 0}, \"hovertemplate\": \"Kota=Banten<br>Luas Daerah=%{x}<br>Jumlah Penduduk=%{y}\", \"legendgroup\": \"Kota=Banten\", \"marker\": {\"color\": \"#ab63fa\", \"symbol\": \"circle\"}, \"mode\": \"markers\", \"name\": \"Kota=Banten\", \"showlegend\": true, \"type\": \"scatter\", \"x\": [9662.920000000004], \"xaxis\": \"x\", \"y\": [11904562], \"yaxis\": \"y\"}, {\"hoverlabel\": {\"namelength\": 0}, \"hovertemplate\": \"Kota=Bengkulu<br>Luas Daerah=%{x}<br>Jumlah Penduduk=%{y}\", \"legendgroup\": \"Kota=Bengkulu\", \"marker\": {\"color\": \"#FFA15A\", \"symbol\": \"circle\"}, \"mode\": \"markers\", \"name\": \"Kota=Bengkulu\", \"showlegend\": true, \"type\": \"scatter\", \"x\": [19919.33], \"xaxis\": \"x\", \"y\": [2010670], \"yaxis\": \"y\"}, {\"hoverlabel\": {\"namelength\": 0}, \"hovertemplate\": \"Kota=Gorontalo<br>Luas Daerah=%{x}<br>Jumlah Penduduk=%{y}\", \"legendgroup\": \"Kota=Gorontalo\", \"marker\": {\"color\": \"#19d3f3\", \"symbol\": \"circle\"}, \"mode\": \"markers\", \"name\": \"Kota=Gorontalo\", \"showlegend\": true, \"type\": \"scatter\", \"x\": [11257.070000000005], \"xaxis\": \"x\", \"y\": [1171681], \"yaxis\": \"y\"}, {\"hoverlabel\": {\"namelength\": 0}, \"hovertemplate\": \"Kota=Jakarta<br>Luas Daerah=%{x}<br>Jumlah Penduduk=%{y}\", \"legendgroup\": \"Kota=Jakarta\", \"marker\": {\"color\": \"#FF6692\", \"symbol\": \"circle\"}, \"mode\": \"markers\", \"name\": \"Kota=Jakarta\", \"showlegend\": true, \"type\": \"scatter\", \"x\": [664.0099999999998], \"xaxis\": \"x\", \"y\": [10562088], \"yaxis\": \"y\"}, {\"hoverlabel\": {\"namelength\": 0}, \"hovertemplate\": \"Kota=Jambi<br>Luas Daerah=%{x}<br>Jumlah Penduduk=%{y}\", \"legendgroup\": \"Kota=Jambi\", \"marker\": {\"color\": \"#B6E880\", \"symbol\": \"circle\"}, \"mode\": \"markers\", \"name\": \"Kota=Jambi\", \"showlegend\": true, \"type\": \"scatter\", \"x\": [50058.15999999998], \"xaxis\": \"x\", \"y\": [3548228], \"yaxis\": \"y\"}, {\"hoverlabel\": {\"namelength\": 0}, \"hovertemplate\": \"Kota=Jawa Barat<br>Luas Daerah=%{x}<br>Jumlah Penduduk=%{y}\", \"legendgroup\": \"Kota=Jawa Barat\", \"marker\": {\"color\": \"#FF97FF\", \"symbol\": \"circle\"}, \"mode\": \"markers\", \"name\": \"Kota=Jawa Barat\", \"showlegend\": true, \"type\": \"scatter\", \"x\": [35377.76], \"xaxis\": \"x\", \"y\": [48274162], \"yaxis\": \"y\"}, {\"hoverlabel\": {\"namelength\": 0}, \"hovertemplate\": \"Kota=Jawa Timur<br>Luas Daerah=%{x}<br>Jumlah Penduduk=%{y}\", \"legendgroup\": \"Kota=Jawa Timur\", \"marker\": {\"color\": \"#FECB52\", \"symbol\": \"circle\"}, \"mode\": \"markers\", \"name\": \"Kota=Jawa Timur\", \"showlegend\": true, \"type\": \"scatter\", \"x\": [47799.75], \"xaxis\": \"x\", \"y\": [40665696], \"yaxis\": \"y\"}, {\"hoverlabel\": {\"namelength\": 0}, \"hovertemplate\": \"Kota=Jawa tengah<br>Luas Daerah=%{x}<br>Jumlah Penduduk=%{y}\", \"legendgroup\": \"Kota=Jawa tengah\", \"marker\": {\"color\": \"#636efa\", \"symbol\": \"circle\"}, \"mode\": \"markers\", \"name\": \"Kota=Jawa tengah\", \"showlegend\": true, \"type\": \"scatter\", \"x\": [32800.68999999997], \"xaxis\": \"x\", \"y\": [36516035], \"yaxis\": \"y\"}, {\"hoverlabel\": {\"namelength\": 0}, \"hovertemplate\": \"Kota=Kalimantan Barat<br>Luas Daerah=%{x}<br>Jumlah Penduduk=%{y}\", \"legendgroup\": \"Kota=Kalimantan Barat\", \"marker\": {\"color\": \"#EF553B\", \"symbol\": \"circle\"}, \"mode\": \"markers\", \"name\": \"Kota=Kalimantan Barat\", \"showlegend\": true, \"type\": \"scatter\", \"x\": [147307.0], \"xaxis\": \"x\", \"y\": [5414390], \"yaxis\": \"y\"}, {\"hoverlabel\": {\"namelength\": 0}, \"hovertemplate\": \"Kota=Kalimantan Selatan<br>Luas Daerah=%{x}<br>Jumlah Penduduk=%{y}\", \"legendgroup\": \"Kota=Kalimantan Selatan\", \"marker\": {\"color\": \"#00cc96\", \"symbol\": \"circle\"}, \"mode\": \"markers\", \"name\": \"Kota=Kalimantan Selatan\", \"showlegend\": true, \"type\": \"scatter\", \"x\": [38744.22999999999], \"xaxis\": \"x\", \"y\": [4073584], \"yaxis\": \"y\"}, {\"hoverlabel\": {\"namelength\": 0}, \"hovertemplate\": \"Kota=Kalimantan Tengah<br>Luas Daerah=%{x}<br>Jumlah Penduduk=%{y}\", \"legendgroup\": \"Kota=Kalimantan Tengah\", \"marker\": {\"color\": \"#ab63fa\", \"symbol\": \"circle\"}, \"mode\": \"markers\", \"name\": \"Kota=Kalimantan Tengah\", \"showlegend\": true, \"type\": \"scatter\", \"x\": [153564.5], \"xaxis\": \"x\", \"y\": [2669969], \"yaxis\": \"y\"}, {\"hoverlabel\": {\"namelength\": 0}, \"hovertemplate\": \"Kota=Kalimantan Timur<br>Luas Daerah=%{x}<br>Jumlah Penduduk=%{y}\", \"legendgroup\": \"Kota=Kalimantan Timur\", \"marker\": {\"color\": \"#FFA15A\", \"symbol\": \"circle\"}, \"mode\": \"markers\", \"name\": \"Kota=Kalimantan Timur\", \"showlegend\": true, \"type\": \"scatter\", \"x\": [129066.64000000004], \"xaxis\": \"x\", \"y\": [3766039], \"yaxis\": \"y\"}, {\"hoverlabel\": {\"namelength\": 0}, \"hovertemplate\": \"Kota=Kalimantan Utara<br>Luas Daerah=%{x}<br>Jumlah Penduduk=%{y}\", \"legendgroup\": \"Kota=Kalimantan Utara\", \"marker\": {\"color\": \"#19d3f3\", \"symbol\": \"circle\"}, \"mode\": \"markers\", \"name\": \"Kota=Kalimantan Utara\", \"showlegend\": true, \"type\": \"scatter\", \"x\": [75467.7], \"xaxis\": \"x\", \"y\": [701814], \"yaxis\": \"y\"}, {\"hoverlabel\": {\"namelength\": 0}, \"hovertemplate\": \"Kota=Kep. Riau<br>Luas Daerah=%{x}<br>Jumlah Penduduk=%{y}\", \"legendgroup\": \"Kota=Kep. Riau\", \"marker\": {\"color\": \"#FF6692\", \"symbol\": \"circle\"}, \"mode\": \"markers\", \"name\": \"Kota=Kep. Riau\", \"showlegend\": true, \"type\": \"scatter\", \"x\": [8201.72], \"xaxis\": \"x\", \"y\": [2064564], \"yaxis\": \"y\"}, {\"hoverlabel\": {\"namelength\": 0}, \"hovertemplate\": \"Kota=Lampung<br>Luas Daerah=%{x}<br>Jumlah Penduduk=%{y}\", \"legendgroup\": \"Kota=Lampung\", \"marker\": {\"color\": \"#B6E880\", \"symbol\": \"circle\"}, \"mode\": \"markers\", \"name\": \"Kota=Lampung\", \"showlegend\": true, \"type\": \"scatter\", \"x\": [34623.80000000002], \"xaxis\": \"x\", \"y\": [9007848], \"yaxis\": \"y\"}, {\"hoverlabel\": {\"namelength\": 0}, \"hovertemplate\": \"Kota=Maluku<br>Luas Daerah=%{x}<br>Jumlah Penduduk=%{y}\", \"legendgroup\": \"Kota=Maluku\", \"marker\": {\"color\": \"#FF97FF\", \"symbol\": \"circle\"}, \"mode\": \"markers\", \"name\": \"Kota=Maluku\", \"showlegend\": true, \"type\": \"scatter\", \"x\": [46914.03000000002], \"xaxis\": \"x\", \"y\": [1848923], \"yaxis\": \"y\"}, {\"hoverlabel\": {\"namelength\": 0}, \"hovertemplate\": \"Kota=NTB<br>Luas Daerah=%{x}<br>Jumlah Penduduk=%{y}\", \"legendgroup\": \"Kota=NTB\", \"marker\": {\"color\": \"#FECB52\", \"symbol\": \"circle\"}, \"mode\": \"markers\", \"name\": \"Kota=NTB\", \"showlegend\": true, \"type\": \"scatter\", \"x\": [18572.32], \"xaxis\": \"x\", \"y\": [5320092], \"yaxis\": \"y\"}, {\"hoverlabel\": {\"namelength\": 0}, \"hovertemplate\": \"Kota=NTT<br>Luas Daerah=%{x}<br>Jumlah Penduduk=%{y}\", \"legendgroup\": \"Kota=NTT\", \"marker\": {\"color\": \"#636efa\", \"symbol\": \"circle\"}, \"mode\": \"markers\", \"name\": \"Kota=NTT\", \"showlegend\": true, \"type\": \"scatter\", \"x\": [48718.10000000002], \"xaxis\": \"x\", \"y\": [5325566], \"yaxis\": \"y\"}, {\"hoverlabel\": {\"namelength\": 0}, \"hovertemplate\": \"Kota=Papua<br>Luas Daerah=%{x}<br>Jumlah Penduduk=%{y}\", \"legendgroup\": \"Kota=Papua\", \"marker\": {\"color\": \"#EF553B\", \"symbol\": \"circle\"}, \"mode\": \"markers\", \"name\": \"Kota=Papua\", \"showlegend\": true, \"type\": \"scatter\", \"x\": [319036.05000000005], \"xaxis\": \"x\", \"y\": [4303707], \"yaxis\": \"y\"}, {\"hoverlabel\": {\"namelength\": 0}, \"hovertemplate\": \"Kota=Papua Barat<br>Luas Daerah=%{x}<br>Jumlah Penduduk=%{y}\", \"legendgroup\": \"Kota=Papua Barat\", \"marker\": {\"color\": \"#00cc96\", \"symbol\": \"circle\"}, \"mode\": \"markers\", \"name\": \"Kota=Papua Barat\", \"showlegend\": true, \"type\": \"scatter\", \"x\": [99671.62999999993], \"xaxis\": \"x\", \"y\": [1134068], \"yaxis\": \"y\"}, {\"hoverlabel\": {\"namelength\": 0}, \"hovertemplate\": \"Kota=Riau<br>Luas Daerah=%{x}<br>Jumlah Penduduk=%{y}\", \"legendgroup\": \"Kota=Riau\", \"marker\": {\"color\": \"#ab63fa\", \"symbol\": \"circle\"}, \"mode\": \"markers\", \"name\": \"Kota=Riau\", \"showlegend\": true, \"type\": \"scatter\", \"x\": [87023.66000000002], \"xaxis\": \"x\", \"y\": [6394087], \"yaxis\": \"y\"}, {\"hoverlabel\": {\"namelength\": 0}, \"hovertemplate\": \"Kota=Sulawesi Barat<br>Luas Daerah=%{x}<br>Jumlah Penduduk=%{y}\", \"legendgroup\": \"Kota=Sulawesi Barat\", \"marker\": {\"color\": \"#FFA15A\", \"symbol\": \"circle\"}, \"mode\": \"markers\", \"name\": \"Kota=Sulawesi Barat\", \"showlegend\": true, \"type\": \"scatter\", \"x\": [16787.179999999997], \"xaxis\": \"x\", \"y\": [1419229], \"yaxis\": \"y\"}, {\"hoverlabel\": {\"namelength\": 0}, \"hovertemplate\": \"Kota=Sulawesi Selatan<br>Luas Daerah=%{x}<br>Jumlah Penduduk=%{y}\", \"legendgroup\": \"Kota=Sulawesi Selatan\", \"marker\": {\"color\": \"#19d3f3\", \"symbol\": \"circle\"}, \"mode\": \"markers\", \"name\": \"Kota=Sulawesi Selatan\", \"showlegend\": true, \"type\": \"scatter\", \"x\": [46717.47999999999], \"xaxis\": \"x\", \"y\": [9073509], \"yaxis\": \"y\"}, {\"hoverlabel\": {\"namelength\": 0}, \"hovertemplate\": \"Kota=Sulawesi Tengah<br>Luas Daerah=%{x}<br>Jumlah Penduduk=%{y}\", \"legendgroup\": \"Kota=Sulawesi Tengah\", \"marker\": {\"color\": \"#FF6692\", \"symbol\": \"circle\"}, \"mode\": \"markers\", \"name\": \"Kota=Sulawesi Tengah\", \"showlegend\": true, \"type\": \"scatter\", \"x\": [61841.29000000002], \"xaxis\": \"x\", \"y\": [2985734], \"yaxis\": \"y\"}, {\"hoverlabel\": {\"namelength\": 0}, \"hovertemplate\": \"Kota=Sulawesi Tenggara<br>Luas Daerah=%{x}<br>Jumlah Penduduk=%{y}\", \"legendgroup\": \"Kota=Sulawesi Tenggara\", \"marker\": {\"color\": \"#B6E880\", \"symbol\": \"circle\"}, \"mode\": \"markers\", \"name\": \"Kota=Sulawesi Tenggara\", \"showlegend\": true, \"type\": \"scatter\", \"x\": [38067.699999999975], \"xaxis\": \"x\", \"y\": [2624875], \"yaxis\": \"y\"}, {\"hoverlabel\": {\"namelength\": 0}, \"hovertemplate\": \"Kota=Sulawesi Utara<br>Luas Daerah=%{x}<br>Jumlah Penduduk=%{y}\", \"legendgroup\": \"Kota=Sulawesi Utara\", \"marker\": {\"color\": \"#FF97FF\", \"symbol\": \"circle\"}, \"mode\": \"markers\", \"name\": \"Kota=Sulawesi Utara\", \"showlegend\": true, \"type\": \"scatter\", \"x\": [13851.640000000009], \"xaxis\": \"x\", \"y\": [2621923], \"yaxis\": \"y\"}, {\"hoverlabel\": {\"namelength\": 0}, \"hovertemplate\": \"Kota=Sumatera Barat<br>Luas Daerah=%{x}<br>Jumlah Penduduk=%{y}\", \"legendgroup\": \"Kota=Sumatera Barat\", \"marker\": {\"color\": \"#FECB52\", \"symbol\": \"circle\"}, \"mode\": \"markers\", \"name\": \"Kota=Sumatera Barat\", \"showlegend\": true, \"type\": \"scatter\", \"x\": [42012.889999999985], \"xaxis\": \"x\", \"y\": [5534472], \"yaxis\": \"y\"}, {\"hoverlabel\": {\"namelength\": 0}, \"hovertemplate\": \"Kota=Sumatera Selatan<br>Luas Daerah=%{x}<br>Jumlah Penduduk=%{y}\", \"legendgroup\": \"Kota=Sumatera Selatan\", \"marker\": {\"color\": \"#636efa\", \"symbol\": \"circle\"}, \"mode\": \"markers\", \"name\": \"Kota=Sumatera Selatan\", \"showlegend\": true, \"type\": \"scatter\", \"x\": [91592.43000000002], \"xaxis\": \"x\", \"y\": [8467432], \"yaxis\": \"y\"}, {\"hoverlabel\": {\"namelength\": 0}, \"hovertemplate\": \"Kota=Sumatera Utara<br>Luas Daerah=%{x}<br>Jumlah Penduduk=%{y}\", \"legendgroup\": \"Kota=Sumatera Utara\", \"marker\": {\"color\": \"#EF553B\", \"symbol\": \"circle\"}, \"mode\": \"markers\", \"name\": \"Kota=Sumatera Utara\", \"showlegend\": true, \"type\": \"scatter\", \"x\": [72981.23], \"xaxis\": \"x\", \"y\": [14799361], \"yaxis\": \"y\"}, {\"hoverlabel\": {\"namelength\": 0}, \"hovertemplate\": \"Kota=yogyakarta<br>Luas Daerah=%{x}<br>Jumlah Penduduk=%{y}\", \"legendgroup\": \"Kota=yogyakarta\", \"marker\": {\"color\": \"#00cc96\", \"symbol\": \"circle\"}, \"mode\": \"markers\", \"name\": \"Kota=yogyakarta\", \"showlegend\": true, \"type\": \"scatter\", \"x\": [3133.1499999999987], \"xaxis\": \"x\", \"y\": [3668719], \"yaxis\": \"y\"}],\n",
              "                        {\"legend\": {\"tracegroupgap\": 0}, \"margin\": {\"t\": 60}, \"template\": {\"data\": {\"bar\": [{\"error_x\": {\"color\": \"#2a3f5f\"}, \"error_y\": {\"color\": \"#2a3f5f\"}, \"marker\": {\"line\": {\"color\": \"#E5ECF6\", \"width\": 0.5}}, \"type\": \"bar\"}], \"barpolar\": [{\"marker\": {\"line\": {\"color\": \"#E5ECF6\", \"width\": 0.5}}, \"type\": \"barpolar\"}], \"carpet\": [{\"aaxis\": {\"endlinecolor\": \"#2a3f5f\", \"gridcolor\": \"white\", \"linecolor\": \"white\", \"minorgridcolor\": \"white\", \"startlinecolor\": \"#2a3f5f\"}, \"baxis\": {\"endlinecolor\": \"#2a3f5f\", \"gridcolor\": \"white\", \"linecolor\": \"white\", \"minorgridcolor\": \"white\", \"startlinecolor\": \"#2a3f5f\"}, \"type\": \"carpet\"}], \"choropleth\": [{\"colorbar\": {\"outlinewidth\": 0, \"ticks\": \"\"}, \"type\": \"choropleth\"}], \"contour\": [{\"colorbar\": {\"outlinewidth\": 0, \"ticks\": \"\"}, \"colorscale\": [[0.0, \"#0d0887\"], [0.1111111111111111, \"#46039f\"], [0.2222222222222222, \"#7201a8\"], [0.3333333333333333, \"#9c179e\"], [0.4444444444444444, \"#bd3786\"], [0.5555555555555556, \"#d8576b\"], [0.6666666666666666, \"#ed7953\"], [0.7777777777777778, \"#fb9f3a\"], [0.8888888888888888, \"#fdca26\"], [1.0, \"#f0f921\"]], \"type\": \"contour\"}], \"contourcarpet\": [{\"colorbar\": {\"outlinewidth\": 0, \"ticks\": \"\"}, \"type\": \"contourcarpet\"}], \"heatmap\": [{\"colorbar\": {\"outlinewidth\": 0, \"ticks\": \"\"}, \"colorscale\": [[0.0, \"#0d0887\"], [0.1111111111111111, \"#46039f\"], [0.2222222222222222, \"#7201a8\"], [0.3333333333333333, \"#9c179e\"], [0.4444444444444444, \"#bd3786\"], [0.5555555555555556, \"#d8576b\"], [0.6666666666666666, \"#ed7953\"], [0.7777777777777778, \"#fb9f3a\"], [0.8888888888888888, \"#fdca26\"], [1.0, \"#f0f921\"]], \"type\": \"heatmap\"}], \"heatmapgl\": [{\"colorbar\": {\"outlinewidth\": 0, \"ticks\": \"\"}, \"colorscale\": [[0.0, \"#0d0887\"], [0.1111111111111111, \"#46039f\"], [0.2222222222222222, \"#7201a8\"], [0.3333333333333333, \"#9c179e\"], [0.4444444444444444, \"#bd3786\"], [0.5555555555555556, \"#d8576b\"], [0.6666666666666666, \"#ed7953\"], [0.7777777777777778, \"#fb9f3a\"], [0.8888888888888888, \"#fdca26\"], [1.0, \"#f0f921\"]], \"type\": \"heatmapgl\"}], \"histogram\": [{\"marker\": {\"colorbar\": {\"outlinewidth\": 0, \"ticks\": \"\"}}, \"type\": \"histogram\"}], \"histogram2d\": [{\"colorbar\": {\"outlinewidth\": 0, \"ticks\": \"\"}, \"colorscale\": [[0.0, \"#0d0887\"], [0.1111111111111111, \"#46039f\"], [0.2222222222222222, \"#7201a8\"], [0.3333333333333333, \"#9c179e\"], [0.4444444444444444, \"#bd3786\"], [0.5555555555555556, \"#d8576b\"], [0.6666666666666666, \"#ed7953\"], [0.7777777777777778, \"#fb9f3a\"], [0.8888888888888888, \"#fdca26\"], [1.0, \"#f0f921\"]], \"type\": \"histogram2d\"}], \"histogram2dcontour\": [{\"colorbar\": {\"outlinewidth\": 0, \"ticks\": \"\"}, \"colorscale\": [[0.0, \"#0d0887\"], [0.1111111111111111, \"#46039f\"], [0.2222222222222222, \"#7201a8\"], [0.3333333333333333, \"#9c179e\"], [0.4444444444444444, \"#bd3786\"], [0.5555555555555556, \"#d8576b\"], [0.6666666666666666, \"#ed7953\"], [0.7777777777777778, \"#fb9f3a\"], [0.8888888888888888, \"#fdca26\"], [1.0, \"#f0f921\"]], \"type\": \"histogram2dcontour\"}], \"mesh3d\": [{\"colorbar\": {\"outlinewidth\": 0, \"ticks\": \"\"}, \"type\": \"mesh3d\"}], \"parcoords\": [{\"line\": {\"colorbar\": {\"outlinewidth\": 0, \"ticks\": \"\"}}, \"type\": \"parcoords\"}], \"pie\": [{\"automargin\": true, \"type\": \"pie\"}], \"scatter\": [{\"marker\": {\"colorbar\": {\"outlinewidth\": 0, \"ticks\": \"\"}}, \"type\": \"scatter\"}], \"scatter3d\": [{\"line\": {\"colorbar\": {\"outlinewidth\": 0, \"ticks\": \"\"}}, \"marker\": {\"colorbar\": {\"outlinewidth\": 0, \"ticks\": \"\"}}, \"type\": \"scatter3d\"}], \"scattercarpet\": [{\"marker\": {\"colorbar\": {\"outlinewidth\": 0, \"ticks\": \"\"}}, \"type\": \"scattercarpet\"}], \"scattergeo\": [{\"marker\": {\"colorbar\": {\"outlinewidth\": 0, \"ticks\": \"\"}}, \"type\": \"scattergeo\"}], \"scattergl\": [{\"marker\": {\"colorbar\": {\"outlinewidth\": 0, \"ticks\": \"\"}}, \"type\": \"scattergl\"}], \"scattermapbox\": [{\"marker\": {\"colorbar\": {\"outlinewidth\": 0, \"ticks\": \"\"}}, \"type\": \"scattermapbox\"}], \"scatterpolar\": [{\"marker\": {\"colorbar\": {\"outlinewidth\": 0, \"ticks\": \"\"}}, \"type\": \"scatterpolar\"}], \"scatterpolargl\": [{\"marker\": {\"colorbar\": {\"outlinewidth\": 0, \"ticks\": \"\"}}, \"type\": \"scatterpolargl\"}], \"scatterternary\": [{\"marker\": {\"colorbar\": {\"outlinewidth\": 0, \"ticks\": \"\"}}, \"type\": \"scatterternary\"}], \"surface\": [{\"colorbar\": {\"outlinewidth\": 0, \"ticks\": \"\"}, \"colorscale\": [[0.0, \"#0d0887\"], [0.1111111111111111, \"#46039f\"], [0.2222222222222222, \"#7201a8\"], [0.3333333333333333, \"#9c179e\"], [0.4444444444444444, \"#bd3786\"], [0.5555555555555556, \"#d8576b\"], [0.6666666666666666, \"#ed7953\"], [0.7777777777777778, \"#fb9f3a\"], [0.8888888888888888, \"#fdca26\"], [1.0, \"#f0f921\"]], \"type\": \"surface\"}], \"table\": [{\"cells\": {\"fill\": {\"color\": \"#EBF0F8\"}, \"line\": {\"color\": \"white\"}}, \"header\": {\"fill\": {\"color\": \"#C8D4E3\"}, \"line\": {\"color\": \"white\"}}, \"type\": \"table\"}]}, \"layout\": {\"annotationdefaults\": {\"arrowcolor\": \"#2a3f5f\", \"arrowhead\": 0, \"arrowwidth\": 1}, \"coloraxis\": {\"colorbar\": {\"outlinewidth\": 0, \"ticks\": \"\"}}, \"colorscale\": {\"diverging\": [[0, \"#8e0152\"], [0.1, \"#c51b7d\"], [0.2, \"#de77ae\"], [0.3, \"#f1b6da\"], [0.4, \"#fde0ef\"], [0.5, \"#f7f7f7\"], [0.6, \"#e6f5d0\"], [0.7, \"#b8e186\"], [0.8, \"#7fbc41\"], [0.9, \"#4d9221\"], [1, \"#276419\"]], \"sequential\": [[0.0, \"#0d0887\"], [0.1111111111111111, \"#46039f\"], [0.2222222222222222, \"#7201a8\"], [0.3333333333333333, \"#9c179e\"], [0.4444444444444444, \"#bd3786\"], [0.5555555555555556, \"#d8576b\"], [0.6666666666666666, \"#ed7953\"], [0.7777777777777778, \"#fb9f3a\"], [0.8888888888888888, \"#fdca26\"], [1.0, \"#f0f921\"]], \"sequentialminus\": [[0.0, \"#0d0887\"], [0.1111111111111111, \"#46039f\"], [0.2222222222222222, \"#7201a8\"], [0.3333333333333333, \"#9c179e\"], [0.4444444444444444, \"#bd3786\"], [0.5555555555555556, \"#d8576b\"], [0.6666666666666666, \"#ed7953\"], [0.7777777777777778, \"#fb9f3a\"], [0.8888888888888888, \"#fdca26\"], [1.0, \"#f0f921\"]]}, \"colorway\": [\"#636efa\", \"#EF553B\", \"#00cc96\", \"#ab63fa\", \"#FFA15A\", \"#19d3f3\", \"#FF6692\", \"#B6E880\", \"#FF97FF\", \"#FECB52\"], \"font\": {\"color\": \"#2a3f5f\"}, \"geo\": {\"bgcolor\": \"white\", \"lakecolor\": \"white\", \"landcolor\": \"#E5ECF6\", \"showlakes\": true, \"showland\": true, \"subunitcolor\": \"white\"}, \"hoverlabel\": {\"align\": \"left\"}, \"hovermode\": \"closest\", \"mapbox\": {\"style\": \"light\"}, \"paper_bgcolor\": \"white\", \"plot_bgcolor\": \"#E5ECF6\", \"polar\": {\"angularaxis\": {\"gridcolor\": \"white\", \"linecolor\": \"white\", \"ticks\": \"\"}, \"bgcolor\": \"#E5ECF6\", \"radialaxis\": {\"gridcolor\": \"white\", \"linecolor\": \"white\", \"ticks\": \"\"}}, \"scene\": {\"xaxis\": {\"backgroundcolor\": \"#E5ECF6\", \"gridcolor\": \"white\", \"gridwidth\": 2, \"linecolor\": \"white\", \"showbackground\": true, \"ticks\": \"\", \"zerolinecolor\": \"white\"}, \"yaxis\": {\"backgroundcolor\": \"#E5ECF6\", \"gridcolor\": \"white\", \"gridwidth\": 2, \"linecolor\": \"white\", \"showbackground\": true, \"ticks\": \"\", \"zerolinecolor\": \"white\"}, \"zaxis\": {\"backgroundcolor\": \"#E5ECF6\", \"gridcolor\": \"white\", \"gridwidth\": 2, \"linecolor\": \"white\", \"showbackground\": true, \"ticks\": \"\", \"zerolinecolor\": \"white\"}}, \"shapedefaults\": {\"line\": {\"color\": \"#2a3f5f\"}}, \"ternary\": {\"aaxis\": {\"gridcolor\": \"white\", \"linecolor\": \"white\", \"ticks\": \"\"}, \"baxis\": {\"gridcolor\": \"white\", \"linecolor\": \"white\", \"ticks\": \"\"}, \"bgcolor\": \"#E5ECF6\", \"caxis\": {\"gridcolor\": \"white\", \"linecolor\": \"white\", \"ticks\": \"\"}}, \"title\": {\"x\": 0.05}, \"xaxis\": {\"automargin\": true, \"gridcolor\": \"white\", \"linecolor\": \"white\", \"ticks\": \"\", \"title\": {\"standoff\": 15}, \"zerolinecolor\": \"white\", \"zerolinewidth\": 2}, \"yaxis\": {\"automargin\": true, \"gridcolor\": \"white\", \"linecolor\": \"white\", \"ticks\": \"\", \"title\": {\"standoff\": 15}, \"zerolinecolor\": \"white\", \"zerolinewidth\": 2}}}, \"xaxis\": {\"anchor\": \"y\", \"domain\": [0.0, 1.0], \"title\": {\"text\": \"Luas Daerah\"}}, \"yaxis\": {\"anchor\": \"x\", \"domain\": [0.0, 1.0], \"title\": {\"text\": \"Jumlah Penduduk\"}}},\n",
              "                        {\"responsive\": true}\n",
              "                    ).then(function(){\n",
              "                            \n",
              "var gd = document.getElementById('f994fa51-b569-4a6f-8d9c-56890225d4f0');\n",
              "var x = new MutationObserver(function (mutations, observer) {{\n",
              "        var display = window.getComputedStyle(gd).display;\n",
              "        if (!display || display === 'none') {{\n",
              "            console.log([gd, 'removed!']);\n",
              "            Plotly.purge(gd);\n",
              "            observer.disconnect();\n",
              "        }}\n",
              "}});\n",
              "\n",
              "// Listen for the removal of the full notebook cells\n",
              "var notebookContainer = gd.closest('#notebook-container');\n",
              "if (notebookContainer) {{\n",
              "    x.observe(notebookContainer, {childList: true});\n",
              "}}\n",
              "\n",
              "// Listen for the clearing of the current output cell\n",
              "var outputEl = gd.closest('.output');\n",
              "if (outputEl) {{\n",
              "    x.observe(outputEl, {childList: true});\n",
              "}}\n",
              "\n",
              "                        })\n",
              "                };\n",
              "                \n",
              "            </script>\n",
              "        </div>\n",
              "</body>\n",
              "</html>"
            ]
          },
          "metadata": {
            "tags": []
          }
        }
      ]
    },
    {
      "cell_type": "markdown",
      "metadata": {
        "id": "rmg-_7kB5xRb"
      },
      "source": [
        "## Statistika Sederhana"
      ]
    },
    {
      "cell_type": "code",
      "metadata": {
        "id": "sKmHEeZv30Tz",
        "colab": {
          "base_uri": "https://localhost:8080/",
          "height": 394
        },
        "outputId": "a838bdda-a87a-4ab9-e545-9c7b5697143f"
      },
      "source": [
        "#Statistika Deskriptif kesuluruhan variabel\n",
        "df.describe(include='all')"
      ],
      "execution_count": 26,
      "outputs": [
        {
          "output_type": "execute_result",
          "data": {
            "text/html": [
              "<div>\n",
              "<style scoped>\n",
              "    .dataframe tbody tr th:only-of-type {\n",
              "        vertical-align: middle;\n",
              "    }\n",
              "\n",
              "    .dataframe tbody tr th {\n",
              "        vertical-align: top;\n",
              "    }\n",
              "\n",
              "    .dataframe thead th {\n",
              "        text-align: right;\n",
              "    }\n",
              "</style>\n",
              "<table border=\"1\" class=\"dataframe\">\n",
              "  <thead>\n",
              "    <tr style=\"text-align: right;\">\n",
              "      <th></th>\n",
              "      <th>Kota</th>\n",
              "      <th>Luas Daerah</th>\n",
              "      <th>Jumlah Penduduk</th>\n",
              "    </tr>\n",
              "  </thead>\n",
              "  <tbody>\n",
              "    <tr>\n",
              "      <th>count</th>\n",
              "      <td>33</td>\n",
              "      <td>33.000000</td>\n",
              "      <td>3.300000e+01</td>\n",
              "    </tr>\n",
              "    <tr>\n",
              "      <th>unique</th>\n",
              "      <td>33</td>\n",
              "      <td>NaN</td>\n",
              "      <td>NaN</td>\n",
              "    </tr>\n",
              "    <tr>\n",
              "      <th>top</th>\n",
              "      <td>Kep. Riau</td>\n",
              "      <td>NaN</td>\n",
              "      <td>NaN</td>\n",
              "    </tr>\n",
              "    <tr>\n",
              "      <th>freq</th>\n",
              "      <td>1</td>\n",
              "      <td>NaN</td>\n",
              "      <td>NaN</td>\n",
              "    </tr>\n",
              "    <tr>\n",
              "      <th>mean</th>\n",
              "      <td>NaN</td>\n",
              "      <td>57018.066061</td>\n",
              "      <td>8.149121e+06</td>\n",
              "    </tr>\n",
              "    <tr>\n",
              "      <th>std</th>\n",
              "      <td>NaN</td>\n",
              "      <td>61782.269811</td>\n",
              "      <td>1.140399e+07</td>\n",
              "    </tr>\n",
              "    <tr>\n",
              "      <th>min</th>\n",
              "      <td>NaN</td>\n",
              "      <td>664.010000</td>\n",
              "      <td>7.018140e+05</td>\n",
              "    </tr>\n",
              "    <tr>\n",
              "      <th>25%</th>\n",
              "      <td>NaN</td>\n",
              "      <td>16787.180000</td>\n",
              "      <td>2.621923e+06</td>\n",
              "    </tr>\n",
              "    <tr>\n",
              "      <th>50%</th>\n",
              "      <td>NaN</td>\n",
              "      <td>42012.890000</td>\n",
              "      <td>4.303707e+06</td>\n",
              "    </tr>\n",
              "    <tr>\n",
              "      <th>75%</th>\n",
              "      <td>NaN</td>\n",
              "      <td>72981.230000</td>\n",
              "      <td>8.467432e+06</td>\n",
              "    </tr>\n",
              "    <tr>\n",
              "      <th>max</th>\n",
              "      <td>NaN</td>\n",
              "      <td>319036.050000</td>\n",
              "      <td>4.827416e+07</td>\n",
              "    </tr>\n",
              "  </tbody>\n",
              "</table>\n",
              "</div>"
            ],
            "text/plain": [
              "             Kota    Luas Daerah  Jumlah Penduduk\n",
              "count          33      33.000000     3.300000e+01\n",
              "unique         33            NaN              NaN\n",
              "top     Kep. Riau            NaN              NaN\n",
              "freq            1            NaN              NaN\n",
              "mean          NaN   57018.066061     8.149121e+06\n",
              "std           NaN   61782.269811     1.140399e+07\n",
              "min           NaN     664.010000     7.018140e+05\n",
              "25%           NaN   16787.180000     2.621923e+06\n",
              "50%           NaN   42012.890000     4.303707e+06\n",
              "75%           NaN   72981.230000     8.467432e+06\n",
              "max           NaN  319036.050000     4.827416e+07"
            ]
          },
          "metadata": {
            "tags": []
          },
          "execution_count": 26
        }
      ]
    },
    {
      "cell_type": "code",
      "metadata": {
        "id": "AZsOnnFf4095",
        "colab": {
          "base_uri": "https://localhost:8080/",
          "height": 300
        },
        "outputId": "1848d752-5d25-48de-cc62-3561a7a685db"
      },
      "source": [
        "#statistika deskriptif jumlah penduduk dan luas daerah\n",
        "df[['Jumlah Penduduk','Luas Daerah']].describe(include='all')"
      ],
      "execution_count": 27,
      "outputs": [
        {
          "output_type": "execute_result",
          "data": {
            "text/html": [
              "<div>\n",
              "<style scoped>\n",
              "    .dataframe tbody tr th:only-of-type {\n",
              "        vertical-align: middle;\n",
              "    }\n",
              "\n",
              "    .dataframe tbody tr th {\n",
              "        vertical-align: top;\n",
              "    }\n",
              "\n",
              "    .dataframe thead th {\n",
              "        text-align: right;\n",
              "    }\n",
              "</style>\n",
              "<table border=\"1\" class=\"dataframe\">\n",
              "  <thead>\n",
              "    <tr style=\"text-align: right;\">\n",
              "      <th></th>\n",
              "      <th>Jumlah Penduduk</th>\n",
              "      <th>Luas Daerah</th>\n",
              "    </tr>\n",
              "  </thead>\n",
              "  <tbody>\n",
              "    <tr>\n",
              "      <th>count</th>\n",
              "      <td>3.300000e+01</td>\n",
              "      <td>33.000000</td>\n",
              "    </tr>\n",
              "    <tr>\n",
              "      <th>mean</th>\n",
              "      <td>8.149121e+06</td>\n",
              "      <td>57018.066061</td>\n",
              "    </tr>\n",
              "    <tr>\n",
              "      <th>std</th>\n",
              "      <td>1.140399e+07</td>\n",
              "      <td>61782.269811</td>\n",
              "    </tr>\n",
              "    <tr>\n",
              "      <th>min</th>\n",
              "      <td>7.018140e+05</td>\n",
              "      <td>664.010000</td>\n",
              "    </tr>\n",
              "    <tr>\n",
              "      <th>25%</th>\n",
              "      <td>2.621923e+06</td>\n",
              "      <td>16787.180000</td>\n",
              "    </tr>\n",
              "    <tr>\n",
              "      <th>50%</th>\n",
              "      <td>4.303707e+06</td>\n",
              "      <td>42012.890000</td>\n",
              "    </tr>\n",
              "    <tr>\n",
              "      <th>75%</th>\n",
              "      <td>8.467432e+06</td>\n",
              "      <td>72981.230000</td>\n",
              "    </tr>\n",
              "    <tr>\n",
              "      <th>max</th>\n",
              "      <td>4.827416e+07</td>\n",
              "      <td>319036.050000</td>\n",
              "    </tr>\n",
              "  </tbody>\n",
              "</table>\n",
              "</div>"
            ],
            "text/plain": [
              "       Jumlah Penduduk    Luas Daerah\n",
              "count     3.300000e+01      33.000000\n",
              "mean      8.149121e+06   57018.066061\n",
              "std       1.140399e+07   61782.269811\n",
              "min       7.018140e+05     664.010000\n",
              "25%       2.621923e+06   16787.180000\n",
              "50%       4.303707e+06   42012.890000\n",
              "75%       8.467432e+06   72981.230000\n",
              "max       4.827416e+07  319036.050000"
            ]
          },
          "metadata": {
            "tags": []
          },
          "execution_count": 27
        }
      ]
    },
    {
      "cell_type": "markdown",
      "metadata": {
        "id": "IBhlHUI_VWoG"
      },
      "source": [
        "# Elbow Curve"
      ]
    },
    {
      "cell_type": "markdown",
      "metadata": {
        "id": "0hkNahgYVQ5w"
      },
      "source": [
        "## K-Means"
      ]
    },
    {
      "cell_type": "code",
      "metadata": {
        "id": "hpDSshTbT7nS"
      },
      "source": [
        "from sklearn import cluster, datasets\n",
        "from sklearn.metrics import silhouette_score as siluet\n",
        "from sklearn.metrics.cluster import homogeneity_score as purity\n",
        "from sklearn.metrics import normalized_mutual_info_score as NMI \n",
        "\n",
        "sns.set(style=\"ticks\", color_codes=True)\n",
        "random_state = 99"
      ],
      "execution_count": 28,
      "outputs": []
    },
    {
      "cell_type": "code",
      "metadata": {
        "id": "QlTlyWffT8KX"
      },
      "source": [
        "X = df[['Luas Daerah','Jumlah Penduduk']].values"
      ],
      "execution_count": 29,
      "outputs": []
    },
    {
      "cell_type": "code",
      "metadata": {
        "id": "KSP6inBMU2SO",
        "colab": {
          "base_uri": "https://localhost:8080/",
          "height": 301
        },
        "outputId": "16448d24-1912-4f1e-cc3e-a27721d2288b"
      },
      "source": [
        "distorsions, k1, kN = [], 2, 10\n",
        "for k in range(k1, kN):\n",
        "    kmeans = cluster.KMeans(n_clusters=k).fit(X)\n",
        "    distorsions.append(kmeans.inertia_)\n",
        "#fig = plt.figure(figsize=(15, 5))\n",
        "plt.plot(range(k1, kN), distorsions); plt.grid(True)\n",
        "plt.title('Elbow curve')"
      ],
      "execution_count": 30,
      "outputs": [
        {
          "output_type": "execute_result",
          "data": {
            "text/plain": [
              "Text(0.5, 1.0, 'Elbow curve')"
            ]
          },
          "metadata": {
            "tags": []
          },
          "execution_count": 30
        },
        {
          "output_type": "display_data",
          "data": {
            "image/png": "[encoded data removed]",
            "text/plain": [
              "<Figure size 432x288 with 1 Axes>"
            ]
          },
          "metadata": {
            "tags": []
          }
        }
      ]
    },
    {
      "cell_type": "code",
      "metadata": {
        "colab": {
          "base_uri": "https://localhost:8080/",
          "height": 1000
        },
        "id": "GYxHCOeIfDwt",
        "outputId": "c276a755-e785-4722-b2ff-59bc95a8ff08"
      },
      "source": [
        "tau.sil_based_optimal_km()"
      ],
      "execution_count": 31,
      "outputs": [
        {
          "output_type": "stream",
          "text": [
            "For n_clusters = 2 The average silhouette_score is : 0.7049787496083262\n",
            "For n_clusters = 3 The average silhouette_score is : 0.5882004012129721\n",
            "For n_clusters = 4 The average silhouette_score is : 0.6505186632729437\n",
            "For n_clusters = 5 The average silhouette_score is : 0.5745566973301872\n",
            "For n_clusters = 6 The average silhouette_score is : 0.43902711183132426\n"
          ],
          "name": "stdout"
        },
        {
          "output_type": "display_data",
          "data": {
            "image/png": "[encoded data removed]",
            "text/plain": [
              "<Figure size 1296x504 with 2 Axes>"
            ]
          },
          "metadata": {
            "tags": []
          }
        },
        {
          "output_type": "display_data",
          "data": {
            "image/png": "[encoded data removed]",
            "text/plain": [
              "<Figure size 1296x504 with 2 Axes>"
            ]
          },
          "metadata": {
            "tags": []
          }
        },
        {
          "output_type": "display_data",
          "data": {
            "image/png": "[encoded data removed]",
            "text/plain": [
              "<Figure size 1296x504 with 2 Axes>"
            ]
          },
          "metadata": {
            "tags": []
          }
        },
        {
          "output_type": "display_data",
          "data": {
            "image/png": "[encoded data removed]",
            "text/plain": [
              "<Figure size 1296x504 with 2 Axes>"
            ]
          },
          "metadata": {
            "tags": []
          }
        },
        {
          "output_type": "display_data",
          "data": {
            "image/png": "[encoded data removed]",
            "text/plain": [
              "<Figure size 1296x504 with 2 Axes>"
            ]
          },
          "metadata": {
            "tags": []
          }
        }
      ]
    },
    {
      "cell_type": "code",
      "metadata": {
        "colab": {
          "base_uri": "https://localhost:8080/",
          "height": 357
        },
        "id": "xVsAps5KUTew",
        "outputId": "3a79597d-a7ae-4024-f324-5d2aa1c4ea35"
      },
      "source": [
        "k = 4\n",
        "km = cluster.KMeans(n_clusters=k, init='random', max_iter=300, tol=0.0001, n_jobs=-1, random_state = random_state)\n",
        "km.fit(X)\n",
        "# Hasil clusteringnya\n",
        "C_km = km.predict(X)\n",
        "p= sns.countplot(C_km)"
      ],
      "execution_count": 32,
      "outputs": [
        {
          "output_type": "stream",
          "text": [
            "/usr/local/lib/python3.7/dist-packages/seaborn/_decorators.py:43: FutureWarning:\n",
            "\n",
            "Pass the following variable as a keyword arg: x. From version 0.12, the only valid positional argument will be `data`, and passing other arguments without an explicit keyword will result in an error or misinterpretation.\n",
            "\n"
          ],
          "name": "stderr"
        },
        {
          "output_type": "display_data",
          "data": {
            "image/png": "[encoded data removed]",
            "text/plain": [
              "<Figure size 432x288 with 1 Axes>"
            ]
          },
          "metadata": {
            "tags": []
          }
        }
      ]
    },
    {
      "cell_type": "code",
      "metadata": {
        "id": "J2kSnsV7f5Fo",
        "colab": {
          "base_uri": "https://localhost:8080/"
        },
        "outputId": "5715021d-9a84-4402-8655-5f7063a29850"
      },
      "source": [
        "C_km"
      ],
      "execution_count": 33,
      "outputs": [
        {
          "output_type": "execute_result",
          "data": {
            "text/plain": [
              "array([1, 1, 0, 3, 0, 0, 3, 1, 2, 2, 2, 1, 1, 0, 1, 0, 0, 3, 0, 1, 1, 1,\n",
              "       0, 1, 0, 3, 0, 0, 0, 1, 3, 3, 1], dtype=int32)"
            ]
          },
          "metadata": {
            "tags": []
          },
          "execution_count": 33
        }
      ]
    },
    {
      "cell_type": "code",
      "metadata": {
        "id": "2HbM84-LdnSr"
      },
      "source": [
        "df['Cluster'] = pd.Series(C_km, index=df.index)"
      ],
      "execution_count": 34,
      "outputs": []
    },
    {
      "cell_type": "code",
      "metadata": {
        "id": "_OzVDPzKeH9d",
        "colab": {
          "base_uri": "https://localhost:8080/",
          "height": 1000
        },
        "outputId": "10f1bacf-9360-48ae-edd2-9a84dd4ebfc3"
      },
      "source": [
        "df"
      ],
      "execution_count": 35,
      "outputs": [
        {
          "output_type": "execute_result",
          "data": {
            "text/html": [
              "<div>\n",
              "<style scoped>\n",
              "    .dataframe tbody tr th:only-of-type {\n",
              "        vertical-align: middle;\n",
              "    }\n",
              "\n",
              "    .dataframe tbody tr th {\n",
              "        vertical-align: top;\n",
              "    }\n",
              "\n",
              "    .dataframe thead th {\n",
              "        text-align: right;\n",
              "    }\n",
              "</style>\n",
              "<table border=\"1\" class=\"dataframe\">\n",
              "  <thead>\n",
              "    <tr style=\"text-align: right;\">\n",
              "      <th></th>\n",
              "      <th>Kota</th>\n",
              "      <th>Luas Daerah</th>\n",
              "      <th>Jumlah Penduduk</th>\n",
              "      <th>Cluster</th>\n",
              "    </tr>\n",
              "  </thead>\n",
              "  <tbody>\n",
              "    <tr>\n",
              "      <th>0</th>\n",
              "      <td>Aceh</td>\n",
              "      <td>57956.00</td>\n",
              "      <td>5274871</td>\n",
              "      <td>1</td>\n",
              "    </tr>\n",
              "    <tr>\n",
              "      <th>1</th>\n",
              "      <td>Bali</td>\n",
              "      <td>5780.06</td>\n",
              "      <td>4317404</td>\n",
              "      <td>1</td>\n",
              "    </tr>\n",
              "    <tr>\n",
              "      <th>2</th>\n",
              "      <td>Bangka Belitung</td>\n",
              "      <td>16424.06</td>\n",
              "      <td>1455678</td>\n",
              "      <td>0</td>\n",
              "    </tr>\n",
              "    <tr>\n",
              "      <th>3</th>\n",
              "      <td>Banten</td>\n",
              "      <td>9662.92</td>\n",
              "      <td>11904562</td>\n",
              "      <td>3</td>\n",
              "    </tr>\n",
              "    <tr>\n",
              "      <th>4</th>\n",
              "      <td>Bengkulu</td>\n",
              "      <td>19919.33</td>\n",
              "      <td>2010670</td>\n",
              "      <td>0</td>\n",
              "    </tr>\n",
              "    <tr>\n",
              "      <th>5</th>\n",
              "      <td>Gorontalo</td>\n",
              "      <td>11257.07</td>\n",
              "      <td>1171681</td>\n",
              "      <td>0</td>\n",
              "    </tr>\n",
              "    <tr>\n",
              "      <th>6</th>\n",
              "      <td>Jakarta</td>\n",
              "      <td>664.01</td>\n",
              "      <td>10562088</td>\n",
              "      <td>3</td>\n",
              "    </tr>\n",
              "    <tr>\n",
              "      <th>7</th>\n",
              "      <td>Jambi</td>\n",
              "      <td>50058.16</td>\n",
              "      <td>3548228</td>\n",
              "      <td>1</td>\n",
              "    </tr>\n",
              "    <tr>\n",
              "      <th>8</th>\n",
              "      <td>Jawa Barat</td>\n",
              "      <td>35377.76</td>\n",
              "      <td>48274162</td>\n",
              "      <td>2</td>\n",
              "    </tr>\n",
              "    <tr>\n",
              "      <th>9</th>\n",
              "      <td>Jawa Timur</td>\n",
              "      <td>47799.75</td>\n",
              "      <td>40665696</td>\n",
              "      <td>2</td>\n",
              "    </tr>\n",
              "    <tr>\n",
              "      <th>10</th>\n",
              "      <td>Jawa tengah</td>\n",
              "      <td>32800.69</td>\n",
              "      <td>36516035</td>\n",
              "      <td>2</td>\n",
              "    </tr>\n",
              "    <tr>\n",
              "      <th>11</th>\n",
              "      <td>Kalimantan Barat</td>\n",
              "      <td>147307.00</td>\n",
              "      <td>5414390</td>\n",
              "      <td>1</td>\n",
              "    </tr>\n",
              "    <tr>\n",
              "      <th>12</th>\n",
              "      <td>Kalimantan Selatan</td>\n",
              "      <td>38744.23</td>\n",
              "      <td>4073584</td>\n",
              "      <td>1</td>\n",
              "    </tr>\n",
              "    <tr>\n",
              "      <th>13</th>\n",
              "      <td>Kalimantan Tengah</td>\n",
              "      <td>153564.50</td>\n",
              "      <td>2669969</td>\n",
              "      <td>0</td>\n",
              "    </tr>\n",
              "    <tr>\n",
              "      <th>14</th>\n",
              "      <td>Kalimantan Timur</td>\n",
              "      <td>129066.64</td>\n",
              "      <td>3766039</td>\n",
              "      <td>1</td>\n",
              "    </tr>\n",
              "    <tr>\n",
              "      <th>15</th>\n",
              "      <td>Kalimantan Utara</td>\n",
              "      <td>75467.70</td>\n",
              "      <td>701814</td>\n",
              "      <td>0</td>\n",
              "    </tr>\n",
              "    <tr>\n",
              "      <th>16</th>\n",
              "      <td>Kep. Riau</td>\n",
              "      <td>8201.72</td>\n",
              "      <td>2064564</td>\n",
              "      <td>0</td>\n",
              "    </tr>\n",
              "    <tr>\n",
              "      <th>17</th>\n",
              "      <td>Lampung</td>\n",
              "      <td>34623.80</td>\n",
              "      <td>9007848</td>\n",
              "      <td>3</td>\n",
              "    </tr>\n",
              "    <tr>\n",
              "      <th>18</th>\n",
              "      <td>Maluku</td>\n",
              "      <td>46914.03</td>\n",
              "      <td>1848923</td>\n",
              "      <td>0</td>\n",
              "    </tr>\n",
              "    <tr>\n",
              "      <th>19</th>\n",
              "      <td>NTB</td>\n",
              "      <td>18572.32</td>\n",
              "      <td>5320092</td>\n",
              "      <td>1</td>\n",
              "    </tr>\n",
              "    <tr>\n",
              "      <th>20</th>\n",
              "      <td>NTT</td>\n",
              "      <td>48718.10</td>\n",
              "      <td>5325566</td>\n",
              "      <td>1</td>\n",
              "    </tr>\n",
              "    <tr>\n",
              "      <th>21</th>\n",
              "      <td>Papua</td>\n",
              "      <td>319036.05</td>\n",
              "      <td>4303707</td>\n",
              "      <td>1</td>\n",
              "    </tr>\n",
              "    <tr>\n",
              "      <th>22</th>\n",
              "      <td>Papua Barat</td>\n",
              "      <td>99671.63</td>\n",
              "      <td>1134068</td>\n",
              "      <td>0</td>\n",
              "    </tr>\n",
              "    <tr>\n",
              "      <th>23</th>\n",
              "      <td>Riau</td>\n",
              "      <td>87023.66</td>\n",
              "      <td>6394087</td>\n",
              "      <td>1</td>\n",
              "    </tr>\n",
              "    <tr>\n",
              "      <th>24</th>\n",
              "      <td>Sulawesi Barat</td>\n",
              "      <td>16787.18</td>\n",
              "      <td>1419229</td>\n",
              "      <td>0</td>\n",
              "    </tr>\n",
              "    <tr>\n",
              "      <th>25</th>\n",
              "      <td>Sulawesi Selatan</td>\n",
              "      <td>46717.48</td>\n",
              "      <td>9073509</td>\n",
              "      <td>3</td>\n",
              "    </tr>\n",
              "    <tr>\n",
              "      <th>26</th>\n",
              "      <td>Sulawesi Tengah</td>\n",
              "      <td>61841.29</td>\n",
              "      <td>2985734</td>\n",
              "      <td>0</td>\n",
              "    </tr>\n",
              "    <tr>\n",
              "      <th>27</th>\n",
              "      <td>Sulawesi Tenggara</td>\n",
              "      <td>38067.70</td>\n",
              "      <td>2624875</td>\n",
              "      <td>0</td>\n",
              "    </tr>\n",
              "    <tr>\n",
              "      <th>28</th>\n",
              "      <td>Sulawesi Utara</td>\n",
              "      <td>13851.64</td>\n",
              "      <td>2621923</td>\n",
              "      <td>0</td>\n",
              "    </tr>\n",
              "    <tr>\n",
              "      <th>29</th>\n",
              "      <td>Sumatera Barat</td>\n",
              "      <td>42012.89</td>\n",
              "      <td>5534472</td>\n",
              "      <td>1</td>\n",
              "    </tr>\n",
              "    <tr>\n",
              "      <th>30</th>\n",
              "      <td>Sumatera Selatan</td>\n",
              "      <td>91592.43</td>\n",
              "      <td>8467432</td>\n",
              "      <td>3</td>\n",
              "    </tr>\n",
              "    <tr>\n",
              "      <th>31</th>\n",
              "      <td>Sumatera Utara</td>\n",
              "      <td>72981.23</td>\n",
              "      <td>14799361</td>\n",
              "      <td>3</td>\n",
              "    </tr>\n",
              "    <tr>\n",
              "      <th>32</th>\n",
              "      <td>yogyakarta</td>\n",
              "      <td>3133.15</td>\n",
              "      <td>3668719</td>\n",
              "      <td>1</td>\n",
              "    </tr>\n",
              "  </tbody>\n",
              "</table>\n",
              "</div>"
            ],
            "text/plain": [
              "                  Kota  Luas Daerah  Jumlah Penduduk  Cluster\n",
              "0                 Aceh     57956.00          5274871        1\n",
              "1                 Bali      5780.06          4317404        1\n",
              "2      Bangka Belitung     16424.06          1455678        0\n",
              "3               Banten      9662.92         11904562        3\n",
              "4             Bengkulu     19919.33          2010670        0\n",
              "5            Gorontalo     11257.07          1171681        0\n",
              "6              Jakarta       664.01         10562088        3\n",
              "7                Jambi     50058.16          3548228        1\n",
              "8           Jawa Barat     35377.76         48274162        2\n",
              "9           Jawa Timur     47799.75         40665696        2\n",
              "10         Jawa tengah     32800.69         36516035        2\n",
              "11    Kalimantan Barat    147307.00          5414390        1\n",
              "12  Kalimantan Selatan     38744.23          4073584        1\n",
              "13   Kalimantan Tengah    153564.50          2669969        0\n",
              "14    Kalimantan Timur    129066.64          3766039        1\n",
              "15    Kalimantan Utara     75467.70           701814        0\n",
              "16           Kep. Riau      8201.72          2064564        0\n",
              "17             Lampung     34623.80          9007848        3\n",
              "18              Maluku     46914.03          1848923        0\n",
              "19                 NTB     18572.32          5320092        1\n",
              "20                 NTT     48718.10          5325566        1\n",
              "21               Papua    319036.05          4303707        1\n",
              "22         Papua Barat     99671.63          1134068        0\n",
              "23                Riau     87023.66          6394087        1\n",
              "24      Sulawesi Barat     16787.18          1419229        0\n",
              "25    Sulawesi Selatan     46717.48          9073509        3\n",
              "26     Sulawesi Tengah     61841.29          2985734        0\n",
              "27   Sulawesi Tenggara     38067.70          2624875        0\n",
              "28      Sulawesi Utara     13851.64          2621923        0\n",
              "29      Sumatera Barat     42012.89          5534472        1\n",
              "30    Sumatera Selatan     91592.43          8467432        3\n",
              "31      Sumatera Utara     72981.23         14799361        3\n",
              "32          yogyakarta      3133.15          3668719        1"
            ]
          },
          "metadata": {
            "tags": []
          },
          "execution_count": 35
        }
      ]
    },
    {
      "cell_type": "code",
      "metadata": {
        "id": "YW2gBNhsgXIq",
        "colab": {
          "base_uri": "https://localhost:8080/"
        },
        "outputId": "2faf60ca-392c-4443-8f77-851d0316bb3c"
      },
      "source": [
        "km.inertia_"
      ],
      "execution_count": 36,
      "outputs": [
        {
          "output_type": "execute_result",
          "data": {
            "text/plain": [
              "114934406665614.95"
            ]
          },
          "metadata": {
            "tags": []
          },
          "execution_count": 36
        }
      ]
    },
    {
      "cell_type": "code",
      "metadata": {
        "id": "rQ3Drv1poTjv"
      },
      "source": [
        "data2 = data.drop(['Dalam atau Luar Jawa Bali','Luas Daerah','Jumlah Penduduk'], axis=1)"
      ],
      "execution_count": 37,
      "outputs": []
    },
    {
      "cell_type": "code",
      "metadata": {
        "id": "dV2-c85uqOD_",
        "colab": {
          "base_uri": "https://localhost:8080/",
          "height": 424
        },
        "outputId": "cc524177-3dad-48e8-f744-260d056c3d80"
      },
      "source": [
        "data2"
      ],
      "execution_count": 38,
      "outputs": [
        {
          "output_type": "execute_result",
          "data": {
            "text/html": [
              "<div>\n",
              "<style scoped>\n",
              "    .dataframe tbody tr th:only-of-type {\n",
              "        vertical-align: middle;\n",
              "    }\n",
              "\n",
              "    .dataframe tbody tr th {\n",
              "        vertical-align: top;\n",
              "    }\n",
              "\n",
              "    .dataframe thead th {\n",
              "        text-align: right;\n",
              "    }\n",
              "</style>\n",
              "<table border=\"1\" class=\"dataframe\">\n",
              "  <thead>\n",
              "    <tr style=\"text-align: right;\">\n",
              "      <th></th>\n",
              "      <th>Tanggal</th>\n",
              "      <th>Kota</th>\n",
              "      <th>Tingkat Vaksinasi</th>\n",
              "    </tr>\n",
              "  </thead>\n",
              "  <tbody>\n",
              "    <tr>\n",
              "      <th>0</th>\n",
              "      <td>2021-07-05</td>\n",
              "      <td>Jakarta</td>\n",
              "      <td>0.2270</td>\n",
              "    </tr>\n",
              "    <tr>\n",
              "      <th>1</th>\n",
              "      <td>2021-07-06</td>\n",
              "      <td>Jakarta</td>\n",
              "      <td>0.2273</td>\n",
              "    </tr>\n",
              "    <tr>\n",
              "      <th>2</th>\n",
              "      <td>2021-07-07</td>\n",
              "      <td>Jakarta</td>\n",
              "      <td>0.2276</td>\n",
              "    </tr>\n",
              "    <tr>\n",
              "      <th>3</th>\n",
              "      <td>2021-07-08</td>\n",
              "      <td>Jakarta</td>\n",
              "      <td>0.2280</td>\n",
              "    </tr>\n",
              "    <tr>\n",
              "      <th>4</th>\n",
              "      <td>2021-07-09</td>\n",
              "      <td>Jakarta</td>\n",
              "      <td>0.2283</td>\n",
              "    </tr>\n",
              "    <tr>\n",
              "      <th>...</th>\n",
              "      <td>...</td>\n",
              "      <td>...</td>\n",
              "      <td>...</td>\n",
              "    </tr>\n",
              "    <tr>\n",
              "      <th>1051</th>\n",
              "      <td>2021-08-01</td>\n",
              "      <td>Lampung</td>\n",
              "      <td>0.0569</td>\n",
              "    </tr>\n",
              "    <tr>\n",
              "      <th>1052</th>\n",
              "      <td>2021-08-02</td>\n",
              "      <td>Lampung</td>\n",
              "      <td>0.0583</td>\n",
              "    </tr>\n",
              "    <tr>\n",
              "      <th>1053</th>\n",
              "      <td>2021-08-03</td>\n",
              "      <td>Lampung</td>\n",
              "      <td>0.0590</td>\n",
              "    </tr>\n",
              "    <tr>\n",
              "      <th>1054</th>\n",
              "      <td>2021-08-04</td>\n",
              "      <td>Lampung</td>\n",
              "      <td>0.0600</td>\n",
              "    </tr>\n",
              "    <tr>\n",
              "      <th>1055</th>\n",
              "      <td>2021-08-05</td>\n",
              "      <td>Lampung</td>\n",
              "      <td>0.0612</td>\n",
              "    </tr>\n",
              "  </tbody>\n",
              "</table>\n",
              "<p>1056 rows × 3 columns</p>\n",
              "</div>"
            ],
            "text/plain": [
              "        Tanggal     Kota  Tingkat Vaksinasi\n",
              "0    2021-07-05  Jakarta             0.2270\n",
              "1    2021-07-06  Jakarta             0.2273\n",
              "2    2021-07-07  Jakarta             0.2276\n",
              "3    2021-07-08  Jakarta             0.2280\n",
              "4    2021-07-09  Jakarta             0.2283\n",
              "...         ...      ...                ...\n",
              "1051 2021-08-01  Lampung             0.0569\n",
              "1052 2021-08-02  Lampung             0.0583\n",
              "1053 2021-08-03  Lampung             0.0590\n",
              "1054 2021-08-04  Lampung             0.0600\n",
              "1055 2021-08-05  Lampung             0.0612\n",
              "\n",
              "[1056 rows x 3 columns]"
            ]
          },
          "metadata": {
            "tags": []
          },
          "execution_count": 38
        }
      ]
    },
    {
      "cell_type": "code",
      "metadata": {
        "id": "cV0E04CHqiZn",
        "colab": {
          "base_uri": "https://localhost:8080/",
          "height": 454
        },
        "outputId": "506d2717-a9ee-4d4b-c737-dbdf2aaa6013"
      },
      "source": [
        "data2= data2.set_index(['Tanggal'])\n",
        "data2"
      ],
      "execution_count": 39,
      "outputs": [
        {
          "output_type": "execute_result",
          "data": {
            "text/html": [
              "<div>\n",
              "<style scoped>\n",
              "    .dataframe tbody tr th:only-of-type {\n",
              "        vertical-align: middle;\n",
              "    }\n",
              "\n",
              "    .dataframe tbody tr th {\n",
              "        vertical-align: top;\n",
              "    }\n",
              "\n",
              "    .dataframe thead th {\n",
              "        text-align: right;\n",
              "    }\n",
              "</style>\n",
              "<table border=\"1\" class=\"dataframe\">\n",
              "  <thead>\n",
              "    <tr style=\"text-align: right;\">\n",
              "      <th></th>\n",
              "      <th>Kota</th>\n",
              "      <th>Tingkat Vaksinasi</th>\n",
              "    </tr>\n",
              "    <tr>\n",
              "      <th>Tanggal</th>\n",
              "      <th></th>\n",
              "      <th></th>\n",
              "    </tr>\n",
              "  </thead>\n",
              "  <tbody>\n",
              "    <tr>\n",
              "      <th>2021-07-05</th>\n",
              "      <td>Jakarta</td>\n",
              "      <td>0.2270</td>\n",
              "    </tr>\n",
              "    <tr>\n",
              "      <th>2021-07-06</th>\n",
              "      <td>Jakarta</td>\n",
              "      <td>0.2273</td>\n",
              "    </tr>\n",
              "    <tr>\n",
              "      <th>2021-07-07</th>\n",
              "      <td>Jakarta</td>\n",
              "      <td>0.2276</td>\n",
              "    </tr>\n",
              "    <tr>\n",
              "      <th>2021-07-08</th>\n",
              "      <td>Jakarta</td>\n",
              "      <td>0.2280</td>\n",
              "    </tr>\n",
              "    <tr>\n",
              "      <th>2021-07-09</th>\n",
              "      <td>Jakarta</td>\n",
              "      <td>0.2283</td>\n",
              "    </tr>\n",
              "    <tr>\n",
              "      <th>...</th>\n",
              "      <td>...</td>\n",
              "      <td>...</td>\n",
              "    </tr>\n",
              "    <tr>\n",
              "      <th>2021-08-01</th>\n",
              "      <td>Lampung</td>\n",
              "      <td>0.0569</td>\n",
              "    </tr>\n",
              "    <tr>\n",
              "      <th>2021-08-02</th>\n",
              "      <td>Lampung</td>\n",
              "      <td>0.0583</td>\n",
              "    </tr>\n",
              "    <tr>\n",
              "      <th>2021-08-03</th>\n",
              "      <td>Lampung</td>\n",
              "      <td>0.0590</td>\n",
              "    </tr>\n",
              "    <tr>\n",
              "      <th>2021-08-04</th>\n",
              "      <td>Lampung</td>\n",
              "      <td>0.0600</td>\n",
              "    </tr>\n",
              "    <tr>\n",
              "      <th>2021-08-05</th>\n",
              "      <td>Lampung</td>\n",
              "      <td>0.0612</td>\n",
              "    </tr>\n",
              "  </tbody>\n",
              "</table>\n",
              "<p>1056 rows × 2 columns</p>\n",
              "</div>"
            ],
            "text/plain": [
              "               Kota  Tingkat Vaksinasi\n",
              "Tanggal                               \n",
              "2021-07-05  Jakarta             0.2270\n",
              "2021-07-06  Jakarta             0.2273\n",
              "2021-07-07  Jakarta             0.2276\n",
              "2021-07-08  Jakarta             0.2280\n",
              "2021-07-09  Jakarta             0.2283\n",
              "...             ...                ...\n",
              "2021-08-01  Lampung             0.0569\n",
              "2021-08-02  Lampung             0.0583\n",
              "2021-08-03  Lampung             0.0590\n",
              "2021-08-04  Lampung             0.0600\n",
              "2021-08-05  Lampung             0.0612\n",
              "\n",
              "[1056 rows x 2 columns]"
            ]
          },
          "metadata": {
            "tags": []
          },
          "execution_count": 39
        }
      ]
    },
    {
      "cell_type": "code",
      "metadata": {
        "id": "_3Ga9m36zTUK",
        "colab": {
          "base_uri": "https://localhost:8080/"
        },
        "outputId": "abccc848-eddf-4738-a087-1f89d95bfa00"
      },
      "source": [
        "data2['Kota'].unique()"
      ],
      "execution_count": 40,
      "outputs": [
        {
          "output_type": "execute_result",
          "data": {
            "text/plain": [
              "array(['Jakarta', 'Bali', 'yogyakarta', 'Banten', 'Jawa tengah',\n",
              "       'Jawa Barat', 'Jawa Timur', 'Kep. Riau', 'Sulawesi Utara', 'Jambi',\n",
              "       'Gorontalo', 'Kalimantan Tengah', 'Sulawesi Selatan',\n",
              "       'Papua Barat', 'Sulawesi Tenggara', 'Bangka Belitung', 'Riau',\n",
              "       'Kalimantan Timur', 'Kalimantan Utara', 'Sumatera Utara', 'Aceh',\n",
              "       'Sulawesi Barat', 'Bengkulu', 'NTT', 'Sumatera Selatan', 'Maluku',\n",
              "       'NTB', 'Sulawesi Tengah', 'Sumatera Barat', 'Kalimantan Selatan',\n",
              "       'Kalimantan Barat', 'Papua', 'Lampung'], dtype=object)"
            ]
          },
          "metadata": {
            "tags": []
          },
          "execution_count": 40
        }
      ]
    },
    {
      "cell_type": "code",
      "metadata": {
        "id": "nV8qELbgzGAP"
      },
      "source": [
        "kluster_dict ={'Jakarta' : 3, 'Bali' : 1, 'yogyakarta' : 1, 'Banten' : 3, 'Jawa tengah' : 2,\n",
        "               'Jawa Barat' : 2, 'Jawa Timur' : 2, 'Kep. Riau' : 0, 'Sulawesi Utara' : 0, 'Jambi' : 1, \n",
        "               'Gorontalo' : 0, 'Kalimantan Tengah' : 0, 'Sulawesi Selatan' : 3,\n",
        "               'Papua Barat' : 0, 'Sulawesi Tenggara' : 0, 'Bangka Belitung' : 0, 'Riau' : 1,\n",
        "               'Kalimantan Timur' : 1, 'Kalimantan Utara' : 0, 'Sumatera Utara' : 0, 'Aceh' : 1,\n",
        "               'Sulawesi Barat' : 0, 'Bengkulu' : 0, 'NTT' : 1, 'Sumatera Selatan' : 3, 'Maluku' : 0,\n",
        "               'NTB' : 1, 'Sulawesi Tengah' : 0, 'Sumatera Barat' : 1, 'Kalimantan Selatan' : 1,\n",
        "               'Kalimantan Barat' : 1, 'Papua' : 1, 'Lampung' : 3}"
      ],
      "execution_count": 41,
      "outputs": []
    },
    {
      "cell_type": "code",
      "metadata": {
        "id": "uS2eTiPX2cBN"
      },
      "source": [
        "data2['Kluster'] = data2['Kota'].map(kluster_dict)"
      ],
      "execution_count": 42,
      "outputs": []
    },
    {
      "cell_type": "code",
      "metadata": {
        "id": "2-Y5UKjg2ooB",
        "colab": {
          "base_uri": "https://localhost:8080/",
          "height": 394
        },
        "outputId": "35bd34ba-fb61-4edd-d42a-16f2c3310212"
      },
      "source": [
        "data2.sample(10)"
      ],
      "execution_count": 43,
      "outputs": [
        {
          "output_type": "execute_result",
          "data": {
            "text/html": [
              "<div>\n",
              "<style scoped>\n",
              "    .dataframe tbody tr th:only-of-type {\n",
              "        vertical-align: middle;\n",
              "    }\n",
              "\n",
              "    .dataframe tbody tr th {\n",
              "        vertical-align: top;\n",
              "    }\n",
              "\n",
              "    .dataframe thead th {\n",
              "        text-align: right;\n",
              "    }\n",
              "</style>\n",
              "<table border=\"1\" class=\"dataframe\">\n",
              "  <thead>\n",
              "    <tr style=\"text-align: right;\">\n",
              "      <th></th>\n",
              "      <th>Kota</th>\n",
              "      <th>Tingkat Vaksinasi</th>\n",
              "      <th>Kluster</th>\n",
              "    </tr>\n",
              "    <tr>\n",
              "      <th>Tanggal</th>\n",
              "      <th></th>\n",
              "      <th></th>\n",
              "      <th></th>\n",
              "    </tr>\n",
              "  </thead>\n",
              "  <tbody>\n",
              "    <tr>\n",
              "      <th>2021-07-10</th>\n",
              "      <td>Sumatera Barat</td>\n",
              "      <td>0.0380</td>\n",
              "      <td>1</td>\n",
              "    </tr>\n",
              "    <tr>\n",
              "      <th>2021-07-09</th>\n",
              "      <td>Papua</td>\n",
              "      <td>0.0518</td>\n",
              "      <td>1</td>\n",
              "    </tr>\n",
              "    <tr>\n",
              "      <th>2021-07-11</th>\n",
              "      <td>Sulawesi Tenggara</td>\n",
              "      <td>0.0538</td>\n",
              "      <td>0</td>\n",
              "    </tr>\n",
              "    <tr>\n",
              "      <th>2021-07-27</th>\n",
              "      <td>Sumatera Utara</td>\n",
              "      <td>0.0817</td>\n",
              "      <td>0</td>\n",
              "    </tr>\n",
              "    <tr>\n",
              "      <th>2021-07-31</th>\n",
              "      <td>Sulawesi Tenggara</td>\n",
              "      <td>0.0752</td>\n",
              "      <td>0</td>\n",
              "    </tr>\n",
              "    <tr>\n",
              "      <th>2021-07-14</th>\n",
              "      <td>Kalimantan Timur</td>\n",
              "      <td>0.0879</td>\n",
              "      <td>1</td>\n",
              "    </tr>\n",
              "    <tr>\n",
              "      <th>2021-07-21</th>\n",
              "      <td>Bali</td>\n",
              "      <td>0.2306</td>\n",
              "      <td>1</td>\n",
              "    </tr>\n",
              "    <tr>\n",
              "      <th>2021-07-22</th>\n",
              "      <td>Jambi</td>\n",
              "      <td>0.0726</td>\n",
              "      <td>1</td>\n",
              "    </tr>\n",
              "    <tr>\n",
              "      <th>2021-07-14</th>\n",
              "      <td>Banten</td>\n",
              "      <td>0.0556</td>\n",
              "      <td>3</td>\n",
              "    </tr>\n",
              "    <tr>\n",
              "      <th>2021-07-19</th>\n",
              "      <td>Jambi</td>\n",
              "      <td>0.0702</td>\n",
              "      <td>1</td>\n",
              "    </tr>\n",
              "  </tbody>\n",
              "</table>\n",
              "</div>"
            ],
            "text/plain": [
              "                         Kota  Tingkat Vaksinasi  Kluster\n",
              "Tanggal                                                  \n",
              "2021-07-10     Sumatera Barat             0.0380        1\n",
              "2021-07-09              Papua             0.0518        1\n",
              "2021-07-11  Sulawesi Tenggara             0.0538        0\n",
              "2021-07-27     Sumatera Utara             0.0817        0\n",
              "2021-07-31  Sulawesi Tenggara             0.0752        0\n",
              "2021-07-14   Kalimantan Timur             0.0879        1\n",
              "2021-07-21               Bali             0.2306        1\n",
              "2021-07-22              Jambi             0.0726        1\n",
              "2021-07-14             Banten             0.0556        3\n",
              "2021-07-19              Jambi             0.0702        1"
            ]
          },
          "metadata": {
            "tags": []
          },
          "execution_count": 43
        }
      ]
    },
    {
      "cell_type": "code",
      "metadata": {
        "id": "00E6yNEGV5hB",
        "colab": {
          "base_uri": "https://localhost:8080/"
        },
        "outputId": "49f748b2-3541-47c8-95ec-ff546ef37d71"
      },
      "source": [
        "#Evaluasi : Internal . Contoh Silouette Coefficient ==> warning hanya cocok untuk k-means (centroid-based clustering)\n",
        "print(siluet(X,C_km))"
      ],
      "execution_count": 44,
      "outputs": [
        {
          "output_type": "stream",
          "text": [
            "0.6155023878845021\n"
          ],
          "name": "stdout"
        }
      ]
    },
    {
      "cell_type": "code",
      "metadata": {
        "id": "XRycFUMAeh40"
      },
      "source": [
        "data2 = data2.rename({'Kota': 'Provinsi'}, axis=1)"
      ],
      "execution_count": 46,
      "outputs": []
    },
    {
      "cell_type": "code",
      "metadata": {
        "colab": {
          "base_uri": "https://localhost:8080/",
          "height": 237
        },
        "id": "_7VmZi6rrdmA",
        "outputId": "46bf8e8a-8716-495e-aee5-298e2448c80b"
      },
      "source": [
        "data2.head()"
      ],
      "execution_count": 47,
      "outputs": [
        {
          "output_type": "execute_result",
          "data": {
            "text/html": [
              "<div>\n",
              "<style scoped>\n",
              "    .dataframe tbody tr th:only-of-type {\n",
              "        vertical-align: middle;\n",
              "    }\n",
              "\n",
              "    .dataframe tbody tr th {\n",
              "        vertical-align: top;\n",
              "    }\n",
              "\n",
              "    .dataframe thead th {\n",
              "        text-align: right;\n",
              "    }\n",
              "</style>\n",
              "<table border=\"1\" class=\"dataframe\">\n",
              "  <thead>\n",
              "    <tr style=\"text-align: right;\">\n",
              "      <th></th>\n",
              "      <th>Provinsi</th>\n",
              "      <th>Tingkat Vaksinasi</th>\n",
              "      <th>Kluster</th>\n",
              "    </tr>\n",
              "    <tr>\n",
              "      <th>Tanggal</th>\n",
              "      <th></th>\n",
              "      <th></th>\n",
              "      <th></th>\n",
              "    </tr>\n",
              "  </thead>\n",
              "  <tbody>\n",
              "    <tr>\n",
              "      <th>2021-07-05</th>\n",
              "      <td>Jakarta</td>\n",
              "      <td>0.2270</td>\n",
              "      <td>3</td>\n",
              "    </tr>\n",
              "    <tr>\n",
              "      <th>2021-07-06</th>\n",
              "      <td>Jakarta</td>\n",
              "      <td>0.2273</td>\n",
              "      <td>3</td>\n",
              "    </tr>\n",
              "    <tr>\n",
              "      <th>2021-07-07</th>\n",
              "      <td>Jakarta</td>\n",
              "      <td>0.2276</td>\n",
              "      <td>3</td>\n",
              "    </tr>\n",
              "    <tr>\n",
              "      <th>2021-07-08</th>\n",
              "      <td>Jakarta</td>\n",
              "      <td>0.2280</td>\n",
              "      <td>3</td>\n",
              "    </tr>\n",
              "    <tr>\n",
              "      <th>2021-07-09</th>\n",
              "      <td>Jakarta</td>\n",
              "      <td>0.2283</td>\n",
              "      <td>3</td>\n",
              "    </tr>\n",
              "  </tbody>\n",
              "</table>\n",
              "</div>"
            ],
            "text/plain": [
              "           Provinsi  Tingkat Vaksinasi  Kluster\n",
              "Tanggal                                        \n",
              "2021-07-05  Jakarta             0.2270        3\n",
              "2021-07-06  Jakarta             0.2273        3\n",
              "2021-07-07  Jakarta             0.2276        3\n",
              "2021-07-08  Jakarta             0.2280        3\n",
              "2021-07-09  Jakarta             0.2283        3"
            ]
          },
          "metadata": {
            "tags": []
          },
          "execution_count": 47
        }
      ]
    },
    {
      "cell_type": "code",
      "metadata": {
        "id": "zviW7BQSrvBO"
      },
      "source": [
        ""
      ],
      "execution_count": null,
      "outputs": []
    }
  ]
}